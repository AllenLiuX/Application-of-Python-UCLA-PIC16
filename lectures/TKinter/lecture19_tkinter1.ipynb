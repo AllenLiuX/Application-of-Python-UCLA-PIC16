{
 "cells": [
  {
   "cell_type": "markdown",
   "metadata": {},
   "source": [
    "# Lecture 19: GUI\n",
    "\n",
    "__Reading Material:__ \n",
    "\n",
    "- [An Introduction To Tkinter](http://effbot.org/tkinterbook/tkinter-index.htm)\n",
    "\n"
   ]
  },
  {
   "cell_type": "markdown",
   "metadata": {},
   "source": [
    "## Tkinter\n",
    "\n",
    "We will use Tkinter to design GUIs. Let's start with a few basics of Tkinter. This is a module that lets us open a window which may contain canvasses, labels, buttons, which the user is allowed to interact with, without using python code. We do this by binding “events” such as mouse clicks and keyboard presses to functions. Different types of events have different attributes. For example, a left mouse-click on a canvas has attributes x and y, corresponding to the coordinates of the cursor at the time of click. \n",
    "\n",
    "In the following code, the __Tk( )__ class creates the basic GUI object. Then we create a Canvas object and add it to the GUI with the __pack( )__ command. Finally, we __bind__ the mouseclick to the creation of a rectangle, of which the upper left corner is at the position of the cursor. The __mainloop( )__ command launches the GUI.\n"
   ]
  },
  {
   "cell_type": "code",
   "execution_count": 8,
   "outputs": [
    {
     "name": "stdout",
     "text": [
      "Help on class Pack in module Tkinter:\n\nclass Pack\n |  Geometry manager Pack.\n |  \n |  Base class to use the methods pack_* in every widget.\n |  \n |  Methods defined here:\n |  \n |  config = pack_configure(self, cnf={}, **kw)\n |  \n |  configure = pack_configure(self, cnf={}, **kw)\n |  \n |  forget = pack_forget(self)\n |  \n |  info = pack_info(self)\n |  \n |  pack = pack_configure(self, cnf={}, **kw)\n |  \n |  pack_configure(self, cnf={}, **kw)\n |      Pack a widget in the parent widget. Use as options:\n |      after=widget - pack it after you have packed widget\n |      anchor=NSEW (or subset) - position widget according to\n |                                given direction\n |      before=widget - pack it before you will pack widget\n |      expand=bool - expand widget if parent size grows\n |      fill=NONE or X or Y or BOTH - fill widget if widget grows\n |      in=master - use master to contain this widget\n |      in_=master - see 'in' option description\n |      ipadx=amount - add internal padding in x direction\n |      ipady=amount - add internal padding in y direction\n |      padx=amount - add padding in x direction\n |      pady=amount - add padding in y direction\n |      side=TOP or BOTTOM or LEFT or RIGHT -  where to add this widget.\n |  \n |  pack_forget(self)\n |      Unmap this widget and do not use it for the packing order.\n |  \n |  pack_info(self)\n |      Return information about the packing options\n |      for this widget.\n |  \n |  pack_propagate(self, flag=['_noarg_']) from Tkinter.Misc\n |      Set or get the status for propagation of geometry information.\n |      \n |      A boolean argument specifies whether the geometry information\n |      of the slaves will determine the size of this widget. If no argument\n |      is given the current setting will be returned.\n |  \n |  pack_slaves(self) from Tkinter.Misc\n |      Return a list of all slaves of this widget\n |      in its packing order.\n |  \n |  propagate = pack_propagate(self, flag=['_noarg_']) from Tkinter.Misc\n |      Set or get the status for propagation of geometry information.\n |      \n |      A boolean argument specifies whether the geometry information\n |      of the slaves will determine the size of this widget. If no argument\n |      is given the current setting will be returned.\n |  \n |  slaves = pack_slaves(self) from Tkinter.Misc\n |      Return a list of all slaves of this widget\n |      in its packing order.\n\nNone\n"
     ],
     "output_type": "stream"
    }
   ],
   "source": [
    "import Tkinter as Tk\n",
    "print help(Tk.Pack)"
   ],
   "metadata": {
    "collapsed": false,
    "pycharm": {
     "name": "#%%\n",
     "is_executing": false
    }
   }
  },
  {
   "cell_type": "code",
   "metadata": {
    "collapsed": true,
    "pycharm": {
     "name": "#%%\n",
     "is_executing": false
    }
   },
   "source": [
    "\"\"\"\n",
    "tk_square.py\n",
    "\"\"\"\n",
    "\n",
    "import Tkinter as Tk #or tkinter in v.3\n",
    "root = Tk.Tk()\n",
    "w = Tk.Canvas(root, width=500, height=500)\n",
    "w.pack()\n",
    "def oval(event):\n",
    "    w.create_oval(100,200,300,400, fill=\"red\")\n",
    "def polygon(event):\n",
    "    w.create_polygon(event.x, event.y, 300, 400, 250, 230, fill=\"red\")\n",
    "def rectangle(event):\n",
    "    w.create_rectangle(event.x,event.y, event.x+20, event.y+20, fill=\"blue\")\n",
    "w.bind(\"<Button-1>\", oval)\n",
    "root.mainloop()"
   ],
   "execution_count": 1,
   "outputs": []
  },
  {
   "cell_type": "code",
   "execution_count": 2,
   "outputs": [],
   "source": [
    "import Tkinter as Tk\n",
    "root = Tk.Tk()\n",
    "w = Tk.Canvas(root, width=500, height=500)\n",
    "button = Tk.Button(root, text='hit me', width=15, height=2)\n",
    "w.pack()\n",
    "button.pack()\n",
    "def callback(event):    #must have a argument passed in\n",
    "    print (event.x, event.y)\n",
    "    w.create_oval(event.x-15, event.y-15, event.x+15, event.y+15, fill=\"yellow\")\n",
    "w.bind(\"<Button-1>\", callback)\n",
    "root.mainloop()"
   ],
   "metadata": {
    "collapsed": false,
    "pycharm": {
     "name": "#%%\n",
     "is_executing": false
    }
   }
  },
  {
   "cell_type": "markdown",
   "metadata": {},
   "source": [
    "## Exercises:\n",
    "- Create a game that asks the user to click inside a rectangle. You can decide what happens when the user clicks correctly.\n"
   ]
  },
  {
   "cell_type": "markdown",
   "metadata": {
    "collapsed": true
   },
   "source": [
    "- Look up how to create radiobuttons, and create a GUI that takes the user through a short questionnaire, and stores the answers in an appropriate output variable."
   ]
  },
  {
   "cell_type": "markdown",
   "metadata": {},
   "source": [
    "\n",
    "## Writing out a Tkinter program as a class\n",
    "Writing these types of programs as classes has a lot of advantages. For example, it makes it easy to instantiate the class with different parameters, and keep track of local variables as object attributes. As a class, this program might look something like this:"
   ]
  },
  {
   "cell_type": "code",
   "metadata": {
    "pycharm": {
     "name": "#%%\n",
     "is_executing": false
    }
   },
   "source": [
    "import Tkinter as Tk #or tkinter in v.3\n",
    "class RectangleGUI:\n",
    "   def __init__(self, master):\n",
    "       self.master = master\n",
    "       self.canvas = Tk.Canvas(root, width=500, height=500)\n",
    "       self.canvas.pack()\n",
    "       self.canvas.bind(\"<Button-1>\", self.rectangle)\n",
    "   def rectangle(self,ev):\n",
    "       self.canvas.create_rectangle(ev.x, ev.y, ev.x+20, ev.y+20, fill=\"blue\")\n",
    "\n",
    "if __name__ == \"__main__\":\n",
    "    root = Tk.Tk()\n",
    "    gui=RectangleGUI(root)\n",
    "    root.mainloop()"
   ],
   "execution_count": 9,
   "outputs": []
  },
  {
   "cell_type": "markdown",
   "metadata": {},
   "source": [
    "As before, the root is the main window of our application. The __root.mainloop( )__ command lets the main window run until the user quits it. Widgets always have parent (master) widgets, all the way up to the root. In this case, we have only one widget, the canvas, which has the root as its parent."
   ]
  },
  {
   "cell_type": "code",
   "execution_count": null,
   "metadata": {
    "collapsed": true
   },
   "outputs": [],
   "source": []
  }
 ],
 "metadata": {
  "kernelspec": {
   "name": "python2",
   "language": "python",
   "display_name": "Python 2"
  },
  "language_info": {
   "codemirror_mode": {
    "name": "ipython",
    "version": 2
   },
   "file_extension": ".py",
   "mimetype": "text/x-python",
   "name": "python",
   "nbconvert_exporter": "python",
   "pygments_lexer": "ipython2",
   "version": "2.7.14"
  },
  "pycharm": {
   "stem_cell": {
    "cell_type": "raw",
    "source": [],
    "metadata": {
     "collapsed": false
    }
   }
  }
 },
 "nbformat": 4,
 "nbformat_minor": 2
}
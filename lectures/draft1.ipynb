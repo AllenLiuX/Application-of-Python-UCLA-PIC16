{
 "cells": [
  {
   "cell_type": "code",
   "execution_count": 3,
   "metadata": {
    "collapsed": true,
    "pycharm": {
     "is_executing": false
    }
   },
   "outputs": [
    {
     "name": "stdout",
     "text": [
      "{1: 3, 2: 2, 3: 5, 4: 3}\n"
     ],
     "output_type": "stream"
    }
   ],
   "source": [
    "#immutability\n",
    "a = {1:3,2:2,3:5}\n",
    "b = a\n",
    "b[4] = 3\n",
    "print a\n"
   ]
  },
  {
   "cell_type": "code",
   "execution_count": 1,
   "outputs": [
    {
     "name": "stdout",
     "text": [
      "set([1, 2, 3])\n"
     ],
     "output_type": "stream"
    }
   ],
   "source": [
    "set1 = {1,2,3,3}\n",
    "print set1"
   ],
   "metadata": {
    "collapsed": false,
    "pycharm": {
     "name": "#%%\n",
     "is_executing": false
    }
   }
  },
  {
   "cell_type": "code",
   "execution_count": 32,
   "outputs": [
    {
     "name": "stdout",
     "text": [
      "[3, 1, 1]\n2\n[4, 2, 4]\n"
     ],
     "output_type": "stream"
    }
   ],
   "source": [
    "f1 = lambda j,k : j+k\n",
    "f2 = lambda i : i**2\n",
    "x = [1, 1, 3]\n",
    "x.reverse()\n",
    "y=x[:]\n",
    "x.reverse()\n",
    "print y\n",
    "print f1(1,1)\n",
    "print map(f1,x,y)"
   ],
   "metadata": {
    "collapsed": false,
    "pycharm": {
     "name": "#%%\n",
     "is_executing": false
    }
   }
  },
  {
   "cell_type": "code",
   "execution_count": 46,
   "outputs": [
    {
     "name": "stdout",
     "text": [
      "['a', 'b', 'b']\n"
     ],
     "output_type": "stream"
    }
   ],
   "source": [
    "dict = {1:\"a\", 2:\"b\", 3:\"b\"}\n",
    "d2 = {}\n",
    "print dict.values()\n",
    "\n"
   ],
   "metadata": {
    "collapsed": false,
    "pycharm": {
     "name": "#%%\n",
     "is_executing": false
    }
   }
  }
 ],
 "metadata": {
  "kernelspec": {
   "name": "pycharm-3f1b4da7",
   "language": "python",
   "display_name": "PyCharm (PycharmProjects)"
  },
  "language_info": {
   "codemirror_mode": {
    "name": "ipython",
    "version": 2
   },
   "file_extension": ".py",
   "mimetype": "text/x-python",
   "name": "python",
   "nbconvert_exporter": "python",
   "pygments_lexer": "ipython2",
   "version": "2.7.6"
  },
  "pycharm": {
   "stem_cell": {
    "cell_type": "raw",
    "source": [],
    "metadata": {
     "collapsed": false
    }
   }
  }
 },
 "nbformat": 4,
 "nbformat_minor": 0
}
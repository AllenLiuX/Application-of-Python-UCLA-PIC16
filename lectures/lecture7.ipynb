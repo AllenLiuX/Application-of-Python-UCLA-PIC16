{
  "cells": [
    {
      "cell_type": "markdown",
      "metadata": {
        "pycharm": {}
      },
      "source": [
        "# Lecture 7\n",
        "1. Determine whether a script is the main program or not using the global variable \\__name\\__\n",
        "2. Useful built-in functions: filter, map, reduce, enumerate, zip, reversed, iteritems\n",
        "\n",
        "\n",
        "__Reading material__: \n",
        "- [Python tutorial](https://docs.python.org/2/tutorial/) 5.1.3, 5.6\n",
        "- [Executing Modules as Scripts](https://docs.python.org/2/tutorial/modules.html#executing-modules-as-scripts)"
      ]
    },
    {
      "cell_type": "markdown",
      "metadata": {
        "pycharm": {}
      },
      "source": [
        "##  1. \\__name\\__ \u003d\u003d \"\\__main\\__\" "
      ]
    },
    {
      "cell_type": "markdown",
      "metadata": {
        "pycharm": {}
      },
      "source": [
        "We\u0027ll see the Python idiom if \\__name\\__ \u003d\u003d \"\\__main\\__\" a lot, so it\u0027s good to understand what\u0027s going on."
      ]
    },
    {
      "cell_type": "markdown",
      "metadata": {
        "pycharm": {}
      },
      "source": [
        "- Run __example1.py__ in Spyder or by calling python main1.py at the command line. Only \"example1 is running\" prints to the console, not \"main() is running\". That\u0027s because the code to print \"main() is running\" is in a method called main, and there\u0027s nothing special about a method with the name main in Python (whereas it\u0027s quite special in C++ and Java). If we don\u0027t call the main method explicitly, it doesn’t run. "
      ]
    },
    {
      "cell_type": "markdown",
      "metadata": {
        "pycharm": {}
      },
      "source": [
        "-  Run __example2.py__. It prints \"main2 is running\" and \"main( ) is running\" because we called \"main( )\" explicitly in the script."
      ]
    },
    {
      "cell_type": "markdown",
      "metadata": {
        "pycharm": {}
      },
      "source": [
        "- Next, run __example3.py__. Note that it\u0027s \\__name\\__ variable has automatically been (created and) initialized to \\__main\\__ because this is the file you ran from Spyder (or the command line), and thus it is the “main” module."
      ]
    },
    {
      "cell_type": "markdown",
      "metadata": {
        "pycharm": {}
      },
      "source": [
        "- Finally, run __example4.py__ from the same directory as __example3.py__.\n",
        "\n",
        "The only thing that’s unusual here is how the \\__name\\__ variable works. It takes on a different value depending on whether it appears in the script you chose to run or in an imported module. In the script you chose to run, \\__name\\__ takes on the value \\__main\\__. In an imported module, \\__name\\__ is the filename of the module. If this was not clear, please go back and/or do some tests of your own to understand its behavior.\n",
        "\n",
        "The purpose of the if \\__name\\__ \u003d\u003d \"\\__main\\__\" idiom is to enable certain code to run (often test code) when the user choses to run the file as a script but to prevent that same code from running if the file is imported as a module by another script."
      ]
    },
    {
      "cell_type": "markdown",
      "metadata": {
        "pycharm": {}
      },
      "source": [
        "## 2. Useful built-in functions\n",
        "\n",
        "Exercise: search the internet and figure out how to manipulate sequence elements compactly using built-in functions including:\n",
        "        - filter\n",
        "        - map\n",
        "        - reduce\n",
        "        - enumerate\n",
        "        - zip\n",
        "        - reversed\n",
        "        - iteritems\n",
        "\n",
        "For example, the _enumerate_ function adds a counter to a sequence."
      ]
    },
    {
      "cell_type": "code",
      "execution_count": 1,
      "metadata": {
        "collapsed": true,
        "pycharm": {
          "is_executing": false
        }
      },
      "outputs": [
        {
          "name": "stdout",
          "text": [
            "0 tic\n1 tac\n2 toe\n"
          ],
          "output_type": "stream"
        }
      ],
      "source": [
        "l \u003d [\u0027tic\u0027, \u0027tac\u0027, \u0027toe\u0027]\n",
        "for i, v in enumerate(l):\n",
        "    print i, v"
      ]
    },
    {
      "cell_type": "code",
      "execution_count": null,
      "metadata": {
        "collapsed": true,
        "pycharm": {}
      },
      "outputs": [],
      "source": [
        "# try to accomplish this using slicing\n",
        "l \u003d range(1,10,2)\n",
        "for i in reversed(l):\n",
        "    print i,"
      ]
    },
    {
      "cell_type": "code",
      "execution_count": null,
      "metadata": {
        "collapsed": true,
        "pycharm": {}
      },
      "outputs": [],
      "source": [
        "month_name \u003d {1: \u0027Jan\u0027, 2: \u0027Feb\u0027, 3:\u0027Mar\u0027} \n",
        "for k, v in month_name.iteritems():\n",
        "    print k, v"
      ]
    }
  ],
  "metadata": {
    "kernelspec": {
      "display_name": "Python 2",
      "language": "python",
      "name": "python2"
    },
    "language_info": {
      "codemirror_mode": {
        "name": "ipython",
        "version": 2
      },
      "file_extension": ".py",
      "mimetype": "text/x-python",
      "name": "python",
      "nbconvert_exporter": "python",
      "pygments_lexer": "ipython2",
      "version": "2.7.14"
    }
  },
  "nbformat": 4,
  "nbformat_minor": 2
}
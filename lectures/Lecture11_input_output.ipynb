{
 "cells": [
  {
   "cell_type": "markdown",
   "metadata": {
    "pycharm": {}
   },
   "source": [
    "# Lecture 11: Input/Output (text files, CSV)\n",
    "\n",
    "- Read and write text from/to files\n",
    "\n",
    "- Read and write data from/to csv files using the csv module\n",
    "\n",
    "- Reading material: \n",
    "https://docs.python.org/2/tutorial/inputoutput.html#reading-and-writing-files\n",
    "http://www.pythonforbeginners.com/systems-programming/using-the-csv-module-in-python/"
   ]
  },
  {
   "cell_type": "markdown",
   "metadata": {
    "pycharm": {}
   },
   "source": [
    "__Task 1__: Read 7.2 and 7.2.1. Let's learn how to open a file for writing and write to the file. Also, the __with__ keyword is new. You won’t need to know how to read or write binary files in this class, and we won’t need the tell or seek methods."
   ]
  },
  {
   "cell_type": "markdown",
   "metadata": {
    "pycharm": {}
   },
   "source": [
    "__Task 2__: Write \"hello world\" to a new file helloworld.txt. Don’t create the file in a text editor first; let Python create the file for you. Make it such that running the program multiple times should add additional lines hello world to the file rather than overwriting it. Please open the file in a text editor to make sure your program is working correctly.\n",
    "\n",
    "Here are some examples:"
   ]
  },
  {
   "cell_type": "code",
   "execution_count": 19,
   "metadata": {
    "collapsed": true,
    "pycharm": {
     "is_executing": false
    }
   },
   "outputs": [],
   "source": [
    "with open(\"1.txt\", \"a\") as f:\n",
    "    f.write(\"hello\")"
   ]
  },
  {
   "cell_type": "code",
   "execution_count": 20,
   "outputs": [],
   "source": [
    "f = open(\"myfile.txt\",\"w\")\n",
    "f.write(\"hello\")\n",
    "# Can you see the content in the text file?"
   ],
   "metadata": {
    "collapsed": false,
    "pycharm": {
     "name": "#%%\n",
     "is_executing": false
    }
   }
  },
  {
   "cell_type": "code",
   "execution_count": 21,
   "metadata": {
    "collapsed": true,
    "pycharm": {
     "is_executing": false
    }
   },
   "outputs": [],
   "source": [
    "f.close()"
   ]
  },
  {
   "cell_type": "code",
   "execution_count": 22,
   "metadata": {
    "collapsed": true,
    "pycharm": {
     "is_executing": false
    }
   },
   "outputs": [],
   "source": [
    "f = open(\"myfile.txt\",\"w\")\n",
    "f.write(\"hello again\")\n",
    "f.close()"
   ]
  },
  {
   "cell_type": "code",
   "execution_count": 23,
   "metadata": {
    "collapsed": true,
    "pycharm": {
     "is_executing": false
    }
   },
   "outputs": [],
   "source": [
    "f = open(\"myfile.txt\",\"a\")\n",
    "f.write(\"\\nhello again\")\n",
    "f.close()"
   ]
  },
  {
   "cell_type": "code",
   "execution_count": 24,
   "metadata": {
    "collapsed": true,
    "pycharm": {
     "is_executing": false
    }
   },
   "outputs": [],
   "source": [
    "# the with ... as... syntax is useful. \n",
    "with open(\"myfile.txt\",\"a\") as f:   \n",
    "    f.write(\"something\\n\")\n",
    "    f.write(\"something else\\n\")"
   ]
  },
  {
   "cell_type": "markdown",
   "metadata": {
    "pycharm": {}
   },
   "source": [
    "__Task 3__: Now let's read the text back into a variable."
   ]
  },
  {
   "cell_type": "code",
   "execution_count": 25,
   "metadata": {
    "pycharm": {
     "is_executing": false
    }
   },
   "outputs": [
    {
     "name": "stdout",
     "text": [
      "hello again\n",
      "hello againsomething\n",
      "something else\n",
      "\n"
     ],
     "output_type": "stream"
    }
   ],
   "source": [
    "with open(\"myfile.txt\",\"r\") as f:\n",
    "    x = f.read()\n",
    "    print x"
   ]
  },
  {
   "cell_type": "code",
   "execution_count": 26,
   "metadata": {
    "pycharm": {
     "is_executing": false
    }
   },
   "outputs": [
    {
     "name": "stdout",
     "text": [
      "hello again\n",
      "\n",
      "hello againsomething\n",
      "\n",
      "something else\n",
      "\n"
     ],
     "output_type": "stream"
    }
   ],
   "source": [
    "with open(\"myfile.txt\",\"r\") as f:\n",
    "    print f.readline()\n",
    "    print f.readline()\n",
    "    print f.readline()"
   ]
  },
  {
   "cell_type": "code",
   "execution_count": 27,
   "metadata": {
    "pycharm": {
     "is_executing": false
    }
   },
   "outputs": [
    {
     "name": "stdout",
     "text": [
      "hello again\n",
      "\n",
      "hello againsomething\n",
      "\n",
      "something else\n",
      "\n"
     ],
     "output_type": "stream"
    }
   ],
   "source": [
    "with open(\"myfile.txt\",\"r\") as f:\n",
    "    for line in f:\n",
    "        print line"
   ]
  },
  {
   "cell_type": "markdown",
   "metadata": {
    "pycharm": {}
   },
   "source": [
    "__Task 4__: Read: http://www.pythonforbeginners.com/systems-programming/using-the-csv-module-in-python/ (or any other csv module tutorial you find that you prefer).\n",
    "\n",
    "Read in simpledata.csv into a single list (a list of lists, really) and print it with all the names (but not the header info) in ALL CAPS. Write this data (again with the names in all caps) to a new file simpledata2.csv with the same delimiter as the original file (open the file in a text editor to see...)."
   ]
  },
  {
   "cell_type": "code",
   "execution_count": 28,
   "metadata": {
    "pycharm": {
     "is_executing": false
    }
   },
   "outputs": [
    {
     "name": "stdout",
     "text": [
      "['Name', 'Phone']\n",
      "['Ifeoma Rosario', '848-1434']\n",
      "['Kylan Clay', '271-3698']\n",
      "['Dustin Evans', '583-3803']\n",
      "['Kelly Carver', '614-9223']\n"
     ],
     "output_type": "stream"
    }
   ],
   "source": [
    "import csv\n",
    "with open(\"simpledata.csv\", \"r\") as f:\n",
    "    reader = csv.reader(f)\n",
    "    for row in reader:\n",
    "        print row"
   ]
  },
  {
   "cell_type": "code",
   "execution_count": 29,
   "metadata": {
    "pycharm": {
     "is_executing": false
    }
   },
   "outputs": [
    {
     "name": "stdout",
     "text": [
      "[['Name', 'Phone'], ['IFEOMA ROSARIO', '848-1434'], ['KYLAN CLAY', '271-3698'], ['DUSTIN EVANS', '583-3803'], ['KELLY CARVER', '614-9223']]\n"
     ],
     "output_type": "stream"
    }
   ],
   "source": [
    "d = []\n",
    "with open(\"simpledata.csv\", \"r\") as f:\n",
    "    reader = csv.reader(f)\n",
    "    row_num = 0\n",
    "    for row in reader:\n",
    "        if row_num == 0:\n",
    "            d.append(row)\n",
    "        else:\n",
    "            d.append([row[0].upper(),row[1]])\n",
    "        row_num += 1\n",
    "print d"
   ]
  },
  {
   "cell_type": "code",
   "execution_count": 30,
   "metadata": {
    "collapsed": true,
    "pycharm": {
     "is_executing": false
    }
   },
   "outputs": [
    {
     "name": "stdout",
     "text": [
      "['KELLY CARVER', '614-9223']\n"
     ],
     "output_type": "stream"
    }
   ],
   "source": [
    "with open(\"simpledata2.csv\", \"w\") as f:\n",
    "    writer = csv.writer(f)\n",
    "    for row in d:\n",
    "        writer.writerow(row)\n",
    "    print row"
   ]
  },
  {
   "cell_type": "markdown",
   "metadata": {
    "pycharm": {}
   },
   "source": [
    "## Exercise:"
   ]
  },
  {
   "cell_type": "markdown",
   "metadata": {
    "pycharm": {}
   },
   "source": [
    "Practice with the dictionary\n",
    "\n",
    "x = {\"Hello\":1, \"Goodbye\": 2}\n",
    "\n",
    "First save it as text using the with ... as syntax and read it back into a different variable, y. \n",
    "\n",
    "Does print y[\"Hello\"] show 1? \n",
    "What kind of variable is y?"
   ]
  },
  {
   "cell_type": "code",
   "execution_count": 31,
   "metadata": {
    "collapsed": true,
    "pycharm": {
     "is_executing": false
    }
   },
   "outputs": [
    {
     "name": "stdout",
     "text": [
      "x = {\"Hello\":1, \"Goodbye\": 2}\n"
     ],
     "output_type": "stream"
    }
   ],
   "source": [
    "with open(\"dic data\", \"r\") as f:\n",
    "    reader = f.read()\n",
    "print reader"
   ]
  }
 ],
 "metadata": {
  "kernelspec": {
   "name": "python3",
   "language": "python",
   "display_name": "Python 3"
  },
  "language_info": {
   "codemirror_mode": {
    "name": "ipython",
    "version": 2
   },
   "file_extension": ".py",
   "mimetype": "text/x-python",
   "name": "python",
   "nbconvert_exporter": "python",
   "pygments_lexer": "ipython2",
   "version": "2.7.14"
  },
  "pycharm": {
   "stem_cell": {
    "cell_type": "raw",
    "source": [],
    "metadata": {
     "collapsed": false
    }
   }
  }
 },
 "nbformat": 4,
 "nbformat_minor": 2
}
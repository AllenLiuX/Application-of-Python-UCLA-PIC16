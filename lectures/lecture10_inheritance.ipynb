{
 "cells": [
  {
   "cell_type": "markdown",
   "metadata": {
    "pycharm": {}
   },
   "source": [
    "# Lecture 10\n",
    "\n",
    "- Write subclasses that inherit variables and methods from their superclasses\n",
    "- Create new-style classes and use the built-in super function to access methods of the superclass\n",
    "- Inheritance vs. Composition\n",
    "\n",
    "__Reading Material__: \n",
    "\n",
    "- [Class Inheritance and Overloading Methods](http://www.tutorialspoint.com/python/python_classes_objects.htm)"
   ]
  },
  {
   "cell_type": "markdown",
   "metadata": {
    "pycharm": {}
   },
   "source": [
    "## 1.  Class Inheritance and Overloading Methods"
   ]
  },
  {
   "cell_type": "markdown",
   "metadata": {
    "pycharm": {}
   },
   "source": [
    "- Try running __inheritance1.py__. Here we have a superclass ClassA and a subclass ClassB; we\n",
    "indicate that ClassB extends (subclasses) ClassA by including ClassA in parentheses after the name of ClassB. Both have initializers that print something when they run. ClassA has an class variable static_var (named because it's very similar to a static field in Java), and its initializer defines an instance variable instance_var. In the main function, we create a ClassB object and see that indeed, the class itself and an instance of that class have inherited the class variable static_var from ClassA. However, b does not have an instance_var because the superclass initializer doesn’t run automatically when we create an instance of the subclass"
   ]
  },
  {
   "cell_type": "code",
   "execution_count": 1,
   "metadata": {
    "collapsed": true,
    "pycharm": {
     "is_executing": false
    }
   },
   "outputs": [
    {
     "name": "stdout",
     "text": [
      "ClassB.static_var = 1\nInitializing B\nb.static_var = 1\nb.instance_var = b has no instance variable instance_var\n"
     ],
     "output_type": "stream"
    }
   ],
   "source": [
    "class ClassA:\n",
    "    static_var = 1\n",
    "    \n",
    "    def __init__(self):\n",
    "        print \"Initializing A\"\n",
    "        self.instance_var = 2       \n",
    "\n",
    "class ClassB(ClassA):\n",
    "    def __init__(self):\n",
    "        print \"Initializing B\"\n",
    "   \n",
    " \n",
    "def main():\n",
    "    print \"ClassB.static_var =\",ClassB.static_var    \n",
    "    b = ClassB()\n",
    "    print \"b.static_var =\",b.static_var\n",
    "    try: \n",
    "        print \"b.instance_var =\",b.instance_var\n",
    "    except:\n",
    "        print \"b has no instance variable instance_var\"   \n",
    "        \n",
    "if __name__ == \"__main__\":\n",
    "    main()"
   ]
  },
  {
   "cell_type": "markdown",
   "metadata": {
    "pycharm": {}
   },
   "source": [
    "- Now run __inheritance2.py__. The difference here is that we try to call the superclass’ initializer explicitly (using the Python equivalent of super from Java). We're trying to explicitly initialize the superclass object within the instance of the subclass so we can inherit its instance variables. Calling __super(ClassB,self)__ means something like \"give me a reference to the instance of the superclass of ClassB that lives within self\", or “give me a reference to the superclass part of the present object”, then .\\__init\\__( ) calls the initializer of that superclass object. It doesn't work in this script... but with one simple change it will.\n",
    "\n",
    "* The most common use of __super( )__ is actually in \\__init\\__ functions in base classes. This is usually the only place where you need to do some things in a child, and then complete the initialization in the parent."
   ]
  },
  {
   "cell_type": "code",
   "execution_count": 15,
   "metadata": {
    "collapsed": true,
    "pycharm": {
     "is_executing": false
    }
   },
   "outputs": [
    {
     "name": "stdout",
     "text": [
      "Initializing B\nThis is an old style class. Can't use super.\nb.static_var = 1\nb.instance_var = b has no instance variable instance_var\n"
     ],
     "output_type": "stream"
    }
   ],
   "source": [
    "class ClassA:\n",
    "    static_var = 1\n",
    "    def __init__(self):\n",
    "        print \"Initializing A\"\n",
    "        self.instance_var = 2        \n",
    "        \n",
    "\n",
    "class ClassB(ClassA):\n",
    "    def __init__(self):\n",
    "        print \"Initializing B\"\n",
    "        # This is new --\n",
    "        try:\n",
    "            super(ClassB,self).__init__()\n",
    "        except:\n",
    "            print \"This is an old style class. Can't use super.\"\n",
    "        # -- this was new\n",
    "        \n",
    "\n",
    "def main():\n",
    "    \n",
    "    b = ClassB()\n",
    "    print \"b.static_var =\",b.static_var\n",
    "    try: \n",
    "        print \"b.instance_var =\",b.instance_var\n",
    "    except:\n",
    "        print \"b has no instance variable instance_var\"      \n",
    "\n",
    "if __name__ == \"__main__\":\n",
    "    main()"
   ]
  },
  {
   "cell_type": "markdown",
   "metadata": {
    "pycharm": {}
   },
   "source": [
    "- Run __inheritance4.py__. The only difference between this and __inheritance2.py__ is that ClassA subclasses object. This is all it takes to make the built-in super function work properly. Now b has the instance_var inherited from the ClassA object that \"lives within\" it. Why did having ClassA subclass object make this work? Apparently a class that doesn't explicitly subclass object is an \"old-style\" class and those that do are \"new-style\" classes. We'll typically use \"new-style\" classes when we need to use inheritance. All you need to know is that you can refer to the \"superclass object within self\" or “superclass part of the present object” by calling __super(ClassB,self)__, provided the superclass explicitly subclasses object."
   ]
  },
  {
   "cell_type": "code",
   "execution_count": 14,
   "metadata": {
    "collapsed": true,
    "pycharm": {
     "is_executing": false
    }
   },
   "outputs": [
    {
     "name": "stdout",
     "text": [
      "Initializing B\nInitializing A\nb.static_var = 1\nb.instance_var = 2\n"
     ],
     "output_type": "stream"
    }
   ],
   "source": [
    "class ClassA(object): # (object) is new!!!\n",
    "    static_var = 1\n",
    "    def __init__(self):\n",
    "        print \"Initializing A\"\n",
    "        self.instance_var = 2      \n",
    "\n",
    "class ClassB(ClassA):\n",
    "    def __init__(self):\n",
    "        print \"Initializing B\"\n",
    "        try:\n",
    "            super(ClassB,self).__init__()\n",
    "        except:\n",
    "            print \"This is an old style class. Can't use super.\"\n",
    "\n",
    "def main():\n",
    "    b = ClassB()\n",
    "    print \"b.static_var =\",b.static_var\n",
    "    try: \n",
    "        print \"b.instance_var =\",b.instance_var\n",
    "    except:\n",
    "        print \"b has no instance variable instance_var\"    \n",
    "        \n",
    "if __name__ == \"__main__\":\n",
    "    main()"
   ]
  },
  {
   "cell_type": "markdown",
   "metadata": {
    "pycharm": {}
   },
   "source": [
    "- Run __inheritance5.py__. Now we've added __my_method__ to ClassA, and we can invoke it on an instance of ClassB because ClassB subclasses ClassA."
   ]
  },
  {
   "cell_type": "code",
   "execution_count": 16,
   "metadata": {
    "collapsed": true,
    "pycharm": {
     "is_executing": false
    }
   },
   "outputs": [
    {
     "name": "stdout",
     "text": [
      "Initializing B\nInitializing A\nb.static_var = 1\nb.instance_var = 2\nDo Something\n"
     ],
     "output_type": "stream"
    }
   ],
   "source": [
    "class ClassA(object):\n",
    "    static_var = 1\n",
    "    \n",
    "    def __init__(self):\n",
    "        print \"Initializing A\"\n",
    "        self.instance_var = 2    \n",
    "        \n",
    "    # this is new --\n",
    "    def my_method(self):\n",
    "        print \"Do Something\"\n",
    "    # -- this was new\n",
    "    \n",
    "class ClassB(ClassA):\n",
    "    def __init__(self):\n",
    "        print \"Initializing B\"\n",
    "        super(ClassB,self).__init__() \n",
    "        \n",
    "def main():\n",
    "    \n",
    "    b = ClassB()\n",
    "    print \"b.static_var =\",b.static_var\n",
    "    print \"b.instance_var =\",b.instance_var\n",
    "    b.my_method() # this is new\n",
    "        \n",
    "if __name__ == \"__main__\":\n",
    "    main()"
   ]
  },
  {
   "cell_type": "markdown",
   "metadata": {
    "pycharm": {}
   },
   "source": [
    "- Run __inheritance6.py__. Here we override __my_method__ in ClassB. Now, invoking __my_method__ on b causes the ClassB version of the method to run."
   ]
  },
  {
   "cell_type": "code",
   "execution_count": 12,
   "metadata": {
    "collapsed": true,
    "pycharm": {
     "is_executing": false
    }
   },
   "outputs": [
    {
     "name": "stdout",
     "text": [
      "Initializing B\nInitializing A\nb.static_var = 1\nb.instance_var = 2\nDo Something Else\n"
     ],
     "output_type": "stream"
    }
   ],
   "source": [
    "class ClassA(object):\n",
    "    static_var = 1\n",
    "    \n",
    "    def __init__(self):\n",
    "        print \"Initializing A\"\n",
    "        self.instance_var = 2        \n",
    "    \n",
    "    \n",
    "    def my_method(self):\n",
    "        print \"Do Something\"\n",
    "        \n",
    "class ClassB(ClassA):\n",
    "    def __init__(self):\n",
    "        print \"Initializing B\"\n",
    "        super(ClassB,self).__init__()        \n",
    "        \n",
    "    # this is new --\n",
    "    def my_method(self):\n",
    "        print \"Do Something Else\"\n",
    "    # -- this was new\n",
    "\n",
    "\n",
    "def main():\n",
    "    \n",
    "    b = ClassB()\n",
    "    print \"b.static_var =\",b.static_var\n",
    "   \n",
    "    print \"b.instance_var =\",b.instance_var\n",
    "        \n",
    "    b.my_method()\n",
    "    \n",
    "if __name__ == \"__main__\":\n",
    "    main()"
   ]
  },
  {
   "cell_type": "markdown",
   "metadata": {
    "pycharm": {}
   },
   "source": [
    "- Run __inheritance7.py__. Now we've added my_super_method to ClassB that exists only to call the superclass version of __my_method()__. Note that we've used __super(ClassB,self)__ again to get a reference to the superclass object within, and invoke its __my_method__."
   ]
  },
  {
   "cell_type": "code",
   "execution_count": 11,
   "metadata": {
    "collapsed": true,
    "pycharm": {
     "is_executing": false
    }
   },
   "outputs": [
    {
     "name": "stdout",
     "text": [
      "Initializing B\nInitializing A\nb.static_var = 1\nb.instance_var = 2\nDo Something Else\nDo Something\n"
     ],
     "output_type": "stream"
    }
   ],
   "source": [
    "class ClassA(object):\n",
    "    static_var = 1\n",
    "    \n",
    "    def __init__(self):\n",
    "        print \"Initializing A\"\n",
    "        self.instance_var = 2     \n",
    "        \n",
    "        \n",
    "    def my_method(self):\n",
    "        print \"Do Something\"\n",
    "        \n",
    "class ClassB(ClassA):\n",
    "    def __init__(self):\n",
    "        print \"Initializing B\"\n",
    "        super(ClassB,self).__init__()    \n",
    "    \n",
    "    def my_method(self):\n",
    "        print \"Do Something Else\"\n",
    "    \n",
    "    # this is new --\n",
    "    def my_super_method(self):\n",
    "        super(ClassB,self).my_method()\n",
    "    # -- this was new\n",
    "    \n",
    "def main():\n",
    "    \n",
    "    b = ClassB()    \n",
    "    print \"b.static_var =\",b.static_var\n",
    "    \n",
    "    print \"b.instance_var =\",b.instance_var        \n",
    "    \n",
    "    b.my_method()\n",
    "    b.my_super_method() # this is new\n",
    "if __name__ == \"__main__\":\n",
    "    main()"
   ]
  },
  {
   "cell_type": "markdown",
   "metadata": {
    "pycharm": {}
   },
   "source": [
    "- Run __inheritance8.py__. Now we've called __my_method( )__ from within the initializer of ClassA. Perhaps surprisingly, the subclass version of the method is the one that actually gets run! That's the way things are supposed to work. Subclass methods completely override superclass methods unless we use something like super(ClassB,self) to explicitly refer to the superclass object and invoke the method on that. If we really, really want to call the ClassA version of my_method, we can call super(ClassB,self).my_method() or, perhaps more logically here, ClassA.my_method(self), but this is not typical."
   ]
  },
  {
   "cell_type": "code",
   "execution_count": 10,
   "metadata": {
    "collapsed": true,
    "pycharm": {
     "is_executing": false
    }
   },
   "outputs": [
    {
     "name": "stdout",
     "text": [
      "Initializing B\nInitializing A\nDo Something Else\nb.static_var = 1\nb.instance_var = 2\n"
     ],
     "output_type": "stream"
    }
   ],
   "source": [
    "class ClassA(object):\n",
    "    static_var = 1\n",
    "    def __init__(self):\n",
    "        print \"Initializing A\"\n",
    "        self.instance_var = 2\n",
    "        self.my_method() # this is new\n",
    "        \n",
    "    def my_method(self):\n",
    "        print \"Do Something\"\n",
    "        \n",
    "class ClassB(ClassA):\n",
    "    def __init__(self):\n",
    "        print \"Initializing B\"\n",
    "        super(ClassB,self).__init__()\n",
    " \n",
    "    def my_method(self):\n",
    "        print \"Do Something Else\"\n",
    "\n",
    "def main():\n",
    "    b = ClassB()    \n",
    "    print \"b.static_var =\",b.static_var\n",
    "    print \"b.instance_var =\",b.instance_var    \n",
    "\n",
    "    \n",
    "if __name__ == \"__main__\":\n",
    "    main()"
   ]
  },
  {
   "cell_type": "markdown",
   "metadata": {
    "pycharm": {}
   },
   "source": [
    "### Exercises:\n",
    "Read the following code and predict what they will print to the console when run."
   ]
  },
  {
   "cell_type": "code",
   "execution_count": 17,
   "metadata": {
    "collapsed": true,
    "pycharm": {
     "is_executing": false
    }
   },
   "outputs": [
    {
     "name": "stdout",
     "text": [
      "PARENT implicit()\nPARENT implicit()\n"
     ],
     "output_type": "stream"
    }
   ],
   "source": [
    "class Parent(object):\n",
    "    def implicit(self):\n",
    "        print \"PARENT implicit()\"\n",
    "\n",
    "class Child(Parent):\n",
    "    pass\n",
    "\n",
    "dad = Parent()\n",
    "son = Child()\n",
    "\n",
    "dad.implicit()\n",
    "son.implicit()"
   ]
  },
  {
   "cell_type": "code",
   "execution_count": 18,
   "metadata": {
    "collapsed": true,
    "pycharm": {
     "is_executing": false
    }
   },
   "outputs": [
    {
     "name": "stdout",
     "text": [
      "PARENT override()\nCHILD override()\n"
     ],
     "output_type": "stream"
    }
   ],
   "source": [
    "class Parent(object):\n",
    "    def override(self):\n",
    "        print \"PARENT override()\"\n",
    "\n",
    "class Child(Parent):\n",
    "    def override(self):\n",
    "        print \"CHILD override()\"\n",
    "\n",
    "dad = Parent()\n",
    "son = Child()\n",
    "\n",
    "dad.override()\n",
    "son.override()"
   ]
  },
  {
   "cell_type": "code",
   "execution_count": 19,
   "metadata": {
    "collapsed": true,
    "pycharm": {
     "is_executing": false
    }
   },
   "outputs": [
    {
     "name": "stdout",
     "text": [
      "PARENT altered()\nCHILD, BEFORE PARENT altered()\nPARENT altered()\nCHILD, AFTER PARENT altered()\n"
     ],
     "output_type": "stream"
    }
   ],
   "source": [
    "class Parent(object):\n",
    "    def altered(self):\n",
    "        print \"PARENT altered()\"\n",
    "\n",
    "class Child(Parent):\n",
    "    def altered(self):\n",
    "        print \"CHILD, BEFORE PARENT altered()\"\n",
    "        super(Child, self).altered()\n",
    "        print \"CHILD, AFTER PARENT altered()\"\n",
    "\n",
    "dad = Parent()\n",
    "son = Child()\n",
    "\n",
    "dad.altered()\n",
    "son.altered()"
   ]
  },
  {
   "cell_type": "markdown",
   "metadata": {
    "pycharm": {}
   },
   "source": [
    "## 2. Class Composition"
   ]
  },
  {
   "cell_type": "markdown",
   "metadata": {
    "pycharm": {}
   },
   "source": [
    "Inheritance is useful, but another way to do the exact same thing is just to use other classes and modules, rather than rely on implicit inheritance. You can easily call functions in another class."
   ]
  },
  {
   "cell_type": "code",
   "execution_count": 20,
   "metadata": {
    "collapsed": true,
    "pycharm": {
     "is_executing": false
    }
   },
   "outputs": [
    {
     "name": "stdout",
     "text": [
      "OTHER implicit()\nCHILD override()\nCHILD, BEFORE OTHER altered()\nOTHER altered()\nCHILD, AFTER OTHER altered()\n"
     ],
     "output_type": "stream"
    }
   ],
   "source": [
    "class Other(object):\n",
    "    def override(self):\n",
    "        print \"OTHER override()\"\n",
    "    \n",
    "    def implicit(self):\n",
    "        print \"OTHER implicit()\"\n",
    "    \n",
    "    def altered(self):\n",
    "        print \"OTHER altered()\"\n",
    "\n",
    "class Child(object):\n",
    "    def __init__(self):\n",
    "        self.other = Other()\n",
    "    \n",
    "    def implicit(self):\n",
    "        self.other.implicit()\n",
    "    \n",
    "    def override(self):\n",
    "        print \"CHILD override()\"\n",
    "    \n",
    "    def altered(self):\n",
    "        print \"CHILD, BEFORE OTHER altered()\"\n",
    "        self.other.altered()\n",
    "        print \"CHILD, AFTER OTHER altered()\"\n",
    "\n",
    "son = Child()\n",
    "\n",
    "son.implicit()\n",
    "son.override()\n",
    "son.altered()\n"
   ]
  },
  {
   "cell_type": "markdown",
   "metadata": {
    "pycharm": {}
   },
   "source": [
    "### General guidelines:\n",
    "* Avoid multiple inheritance at all costs.\n",
    "* Use composition to package up code into modules that are used in many different unrelated places and situations.\n",
    "* Use inheritance only when there are clearly related reusable pieces of code that fit under a single common concept."
   ]
  }
 ],
 "metadata": {
  "kernelspec": {
   "display_name": "Python 2",
   "language": "python",
   "name": "python2"
  },
  "language_info": {
   "codemirror_mode": {
    "name": "ipython",
    "version": 2
   },
   "file_extension": ".py",
   "mimetype": "text/x-python",
   "name": "python",
   "nbconvert_exporter": "python",
   "pygments_lexer": "ipython2",
   "version": "2.7.14"
  },
  "pycharm": {
   "stem_cell": {
    "cell_type": "raw",
    "source": [],
    "metadata": {
     "collapsed": false
    }
   }
  }
 },
 "nbformat": 4,
 "nbformat_minor": 2
}
{
 "cells": [
  {
   "cell_type": "markdown",
   "metadata": {},
   "source": [
    "# Lecture 25:  Natural Language Toolkit - NLTK\n",
    "- Download data for practice analysis from the NLTK repository\n",
    "- Explore word usage with NLTK’s __concordance__, __similar__, and __dispersion_plot__ functions\n",
    "- Calculate a crude metric of the lexical diversity of a text by comparing the ratio of word __(token)__ types to total words\n",
    "- Calculate the frequency of each word type in a text, and other word metrics using the __FreqDist__ function\n",
    "\n",
    "__Reading material:__\n",
    "- Read the introduction to Chapter 1 of the [NLTK Book](http://www.nltk.org/book/ch01.html). \n",
    "\n",
    "- Follow 1.2, 1.3, 1.4\n",
    "- Follow Chapter 1, section 3 (all)\n",
    "- Skim Chapter 1, section 5. This will give you a good overview of the issues in natural language\n",
    "- Skim Chapter 3 for processing raw text processing.\n"
   ]
  },
  {
   "cell_type": "code",
   "execution_count": 11,
   "metadata": {
    "collapsed": true,
    "pycharm": {
     "is_executing": false
    }
   },
   "outputs": [],
   "source": [
    "import nltk"
   ]
  },
  {
   "cell_type": "code",
   "execution_count": null,
   "metadata": {
    "pycharm": {
     "is_executing": true
    }
   },
   "outputs": [
    {
     "name": "stdout",
     "text": [
      "showing info https://raw.githubusercontent.com/nltk/nltk_data/gh-pages/index.xml\n"
     ],
     "output_type": "stream"
    }
   ],
   "source": [
    "nltk.download()\n",
    "# nltk.download_shell()\n",
    "# try running \"nltk.download_shell()\" instead if there seems to be an issue using the downloader UI"
   ]
  },
  {
   "cell_type": "code",
   "execution_count": null,
   "metadata": {
    "pycharm": {
     "is_executing": true
    }
   },
   "outputs": [],
   "source": [
    "from nltk.book import *"
   ]
  },
  {
   "cell_type": "code",
   "execution_count": 3,
   "metadata": {
    "pycharm": {
     "is_executing": false
    }
   },
   "outputs": [
    {
     "name": "stdout",
     "text": [
      "hello\n",
      "<Text: Moby Dick by Herman Melville 1851>\n",
      "<class 'nltk.text.Text'>\n"
     ],
     "output_type": "stream"
    }
   ],
   "source": [
    "print(text1)\n",
    "print(type(text1))"
   ]
  },
  {
   "cell_type": "code",
   "execution_count": 4,
   "metadata": {
    "pycharm": {
     "is_executing": false
    }
   },
   "outputs": [
    {
     "name": "stdout",
     "text": [
      "Displaying 14 of 14 matches:\n",
      "ueequeg seeing his favourite fishing food before him , and the chowder being s\n",
      "rning over the bottom of the sea for food . Charley Coffin said it was used fo\n",
      " jaws , the harpooneers chewed their food with such a relish that there was a \n",
      "is life on its summit , hoisting his food from the ground with a tackle ; in h\n",
      "the driftings of the sperm whale ' s food ; and , also , calling to mind the r\n",
      "ave every reason to believe that the food of the sperm whale -- squid or cuttl\n",
      "e to Moby Dick , they must also have food for their more common , daily appeti\n",
      " furnish to the sperm whale his only food . For though other species of whales\n",
      "h other species of whales find their food above water , and may be seen by man\n",
      "e spermaceti whale obtains his whole food in unknown zones below the surface ;\n",
      " can tell of what , precisely , that food consists . At times , when closely p\n",
      "s in water . But the Sperm Whale ' s food is far beneath the surface , and the\n",
      ". But the whaleman , as he seeks the food of light , so he lives in light . He\n",
      " not dawn upon that world . Here ' s food for thought , had Ahab time to think\n"
     ],
     "output_type": "stream"
    }
   ],
   "source": [
    "# Searching Text\n",
    "text1.concordance(\"food\")"
   ]
  },
  {
   "cell_type": "code",
   "execution_count": 5,
   "metadata": {
    "pycharm": {
     "is_executing": false
    }
   },
   "outputs": [
    {
     "name": "stdout",
     "text": [
      "head back bow hand mouth time crew sake body name eyes boat length\n",
      "work side stern voyages voyage coast names\n"
     ],
     "output_type": "stream"
    }
   ],
   "source": [
    "# To find other words that appear in a similar range of contexts\n",
    "text1.similar(\"food\")"
   ]
  },
  {
   "cell_type": "code",
   "execution_count": 7,
   "metadata": {
    "pycharm": {
     "is_executing": false
    }
   },
   "outputs": [
    {
     "data": {
      "text/plain": "<Figure size 432x288 with 1 Axes>",
      "image/png": "[encoded data removed]"
     },
     "metadata": {
      "needs_background": "light"
     },
     "output_type": "display_data"
    }
   ],
   "source": [
    "text1.dispersion_plot([\"food\", \"time\", \"live\", \"here\"])"
   ]
  },
  {
   "cell_type": "code",
   "execution_count": 10,
   "metadata": {
    "pycharm": {
     "is_executing": false
    }
   },
   "outputs": [
    {
     "name": "stdout",
     "text": [
      "[(',', 18713), ('the', 13721), ('.', 6862), ('of', 6536), ('and', 6024)]\n"
     ],
     "output_type": "stream"
    },
    {
     "data": {
      "text/plain": "<Figure size 432x288 with 1 Axes>",
      "image/png": "[encoded data removed]"
     },
     "metadata": {
      "needs_background": "light"
     },
     "output_type": "display_data"
    },
    {
     "data": {
      "text/plain": "<matplotlib.axes._subplots.AxesSubplot at 0x1a3094e518>"
     },
     "metadata": {},
     "output_type": "execute_result",
     "execution_count": 10
    }
   ],
   "source": [
    "# to get frequency distribution of some text\n",
    "fdist1=FreqDist(text1)\n",
    "print(fdist1.most_common(5))\n",
    "fdist1.plot(30, cumulative=False)"
   ]
  }
 ],
 "metadata": {
  "kernelspec": {
   "name": "python3",
   "language": "python",
   "display_name": "Python 3"
  },
  "language_info": {
   "codemirror_mode": {
    "name": "ipython",
    "version": 2
   },
   "file_extension": ".py",
   "mimetype": "text/x-python",
   "name": "python",
   "nbconvert_exporter": "python",
   "pygments_lexer": "ipython2",
   "version": "2.7.14"
  },
  "pycharm": {
   "stem_cell": {
    "cell_type": "raw",
    "source": [],
    "metadata": {
     "collapsed": false
    }
   }
  }
 },
 "nbformat": 4,
 "nbformat_minor": 2
}
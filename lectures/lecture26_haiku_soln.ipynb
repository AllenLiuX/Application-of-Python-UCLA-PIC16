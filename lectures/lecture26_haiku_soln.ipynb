{
 "cells": [
  {
   "cell_type": "markdown",
   "metadata": {},
   "source": [
    "Your task is create a random Haiku generator program. A Haiku is a poem like:\n",
    "\n",
    "Whitecaps on the bay: <br>\n",
    "A broken signboard banging <br>\n",
    "In the April wind. <br>\n",
    "— Richard Wright, collected in Haiku: This Other World, 1998, copied from <a href = \"https://en.wikipedia.org/wiki/Haiku\">Wikipedia</a>\n",
    "\n",
    "A haiku is defined not by a rhyme pattern, but by the number of syllables in each line. Traditionally, a haiku has three lines: <br>\n",
    "First: Five syllables. <br>\n",
    "Seven in the second line, <br>\n",
    "and Five in the third. <br>\n",
    "\n",
    "Your random haiku genarator will generate haikus worthy of literary praise almost surely. Of course, it will generate many, many more bad haikus, like:\n",
    "\n",
    "dorr comfortably <br>\n",
    "mahabharata brandwein <br>\n",
    "boltz gumbert fromm glib <br>"
   ]
  },
  {
   "cell_type": "markdown",
   "metadata": {},
   "source": [
    "Before you begin, you might need to use the NLTK downloader to get the corpora <tt>cmudict</tt> and <tt>words</tt>. If they are already installed, the following should succeed."
   ]
  },
  {
   "cell_type": "code",
   "execution_count": 1,
   "metadata": {
    "collapsed": true,
    "pycharm": {
     "is_executing": false
    }
   },
   "outputs": [],
   "source": [
    "from nltk.corpus import cmudict\n",
    "from nltk.corpus import words"
   ]
  },
  {
   "cell_type": "markdown",
   "metadata": {},
   "source": [
    "If not, you need to get them."
   ]
  },
  {
   "cell_type": "code",
   "execution_count": null,
   "metadata": {
    "pycharm": {
     "is_executing": true
    }
   },
   "outputs": [
    {
     "name": "stdout",
     "text": [
      "showing info https://raw.githubusercontent.com/nltk/nltk_data/gh-pages/index.xml\n"
     ],
     "output_type": "stream"
    }
   ],
   "source": [
    "import nltk\n",
    "nltk.download()"
   ]
  },
  {
   "cell_type": "markdown",
   "metadata": {},
   "source": [
    "I'm going to give you some help. <tt>cmudict.dict()</tt> returns a Python dictionary in which each key is a word and the corresponding value is a <i>list</i> containing ways of pronouncing the word. When there is more than one pronunciation, the list has more than one element. I suggest you explore some entries in <tt>cmudict.dict()</tt> to get a better sense of what's going on. Try looking up the pronunciation \"hello\" and \"goodbye\". <i>Don't worry at all if you don't understand how to interpret the pronunciations. I don't. It's irrelevant for this problem. The only point is that each key is a word and the corresponding value is a <i>list</i> containing some representation of ways of pronouncing the word</i>."
   ]
  },
  {
   "cell_type": "code",
   "execution_count": null,
   "metadata": {
    "pycharm": {
     "is_executing": true
    }
   },
   "outputs": [],
   "source": [
    "# Explore this object.\n",
    "# Suggestion: don't print it all. \n",
    "# That would take a while...\n",
    "\n",
    "print type(cmudict.dict())\n",
    "print cmudict.dict().keys()[0]\n",
    "d = cmudict.dict()\n",
    "d['fawn']"
   ]
  },
  {
   "cell_type": "markdown",
   "metadata": {},
   "source": [
    "Based on this, we can write a function that determines the number of syllables in a given word."
   ]
  },
  {
   "cell_type": "code",
   "execution_count": null,
   "metadata": {
    "collapsed": true,
    "pycharm": {
     "is_executing": true
    }
   },
   "outputs": [],
   "source": [
    "def nsyl(word):\n",
    "    return [len(list(y for y in x if y[-1].isdigit())) for x in d[word.lower()]]"
   ]
  },
  {
   "cell_type": "markdown",
   "metadata": {},
   "source": [
    "You don't need to understand <i>exactly</i> how the function works, because that would require understanding how the dictionary represents pronunciations. But in short, <tt>nsyl</tt> does some processing on the pronunciations to determine the number of syllables in each pronunciation. Before proceeding, I suggest you try it out on \"hello\", \"goodbye\", and maybe some other common words to get a sense of how it works. "
   ]
  },
  {
   "cell_type": "code",
   "execution_count": null,
   "metadata": {
    "pycharm": {
     "is_executing": true
    }
   },
   "outputs": [],
   "source": [
    "# try it\n",
    "\n",
    "print nsyl(\"hello\")\n",
    "print nsyl(\"goodbye\")"
   ]
  },
  {
   "cell_type": "markdown",
   "metadata": {},
   "source": [
    "1) Create a dictionary <tt>d2</tt> in which each key is an integer and the corresponding value is a list of all words with that many syllables. <i>For words with multiple pronunciations, consider only the first pronunciation. </i>"
   ]
  },
  {
   "cell_type": "code",
   "execution_count": null,
   "metadata": {
    "pycharm": {
     "is_executing": true
    }
   },
   "outputs": [],
   "source": [
    "d2 = {} # d2 = dict()\n",
    "for word in d.keys():\n",
    "    n = nsyl(word)\n",
    "    n = n[0]\n",
    "    try:\n",
    "        d2[n].append(word)\n",
    "    except:\n",
    "        d2[n] = [word]"
   ]
  },
  {
   "cell_type": "code",
   "execution_count": null,
   "metadata": {
    "pycharm": {
     "is_executing": true
    }
   },
   "outputs": [],
   "source": [
    "d2[2]\n",
    "print nsyl('sonji')"
   ]
  },
  {
   "cell_type": "markdown",
   "metadata": {},
   "source": [
    "2) One word in the dictionary contains more syllables than any other. Print this word."
   ]
  },
  {
   "cell_type": "code",
   "execution_count": null,
   "metadata": {
    "pycharm": {
     "is_executing": true
    }
   },
   "outputs": [],
   "source": [
    "d2.keys()\n",
    "print d2[14][0]"
   ]
  },
  {
   "cell_type": "markdown",
   "metadata": {},
   "source": [
    "3) Print the number of words with a given number of syllables like:\n",
    "<pre>\n",
    "0: 4\n",
    "1: 16240\n",
    "2: 56982\n",
    "</pre>\n",
    "etc... <br>\n",
    "Note that there are are some words with zero syllables. That's fine. Not all \"words\" in the dictionary are real English words. We'll revisit this in the very last step."
   ]
  },
  {
   "cell_type": "code",
   "execution_count": null,
   "metadata": {
    "pycharm": {
     "is_executing": true
    }
   },
   "outputs": [],
   "source": [
    "for n in d2.keys():\n",
    "    print str(n)+\": \"+str(len(d2[n]))"
   ]
  },
  {
   "cell_type": "markdown",
   "metadata": {},
   "source": [
    "4) Write a function <tt>sylPattern(n)</tt> that returns a list of random integers that sum to <tt>n</tt>. (Later, you will choose for each element of the list a random word with the given number of syllables.) Your function should work for any n > 1. Test it for n = 15. For example:\n",
    "<pre>\n",
    "x = sylPattern(15)\n",
    "print x\n",
    "print sum(x) == 15\n",
    "</pre>\n",
    "should print something like:\n",
    "<pre>\n",
    "[1, 5, 1, 1, 5, 2]\n",
    "True\n",
    "</pre>\n",
    "<i>Hint: You don't need to know any special functions to do this; all you need is basic random number generation capability from the </i><tt>random</tt><i> module. The rest of the algorithm is up to you.</i>"
   ]
  },
  {
   "cell_type": "code",
   "execution_count": null,
   "metadata": {
    "pycharm": {
     "is_executing": true
    }
   },
   "outputs": [],
   "source": [
    "# Your code here\n",
    "import random\n",
    "# print random.randint(0,5)\n",
    "def sylPattern(n):\n",
    "    l = []\n",
    "    while n > 0:\n",
    "        x = random.randint(1,5)\n",
    "        if x <= n:\n",
    "            l.append(x)\n",
    "            n = n - x\n",
    "    return l"
   ]
  },
  {
   "cell_type": "code",
   "execution_count": null,
   "metadata": {
    "pycharm": {
     "is_executing": true
    }
   },
   "outputs": [],
   "source": [
    "x = sylPattern(15)\n",
    "print x\n",
    "print sum(x) == 15"
   ]
  },
  {
   "cell_type": "markdown",
   "metadata": {},
   "source": [
    "5) Write and test a function <tt>randWord(n)</tt> that returns a random word with <tt>n</tt> syllables. For instance:\n",
    "<pre>\n",
    "print randWord(6)\n",
    "</pre>\n",
    "shows something like:\n",
    "<pre>\n",
    "amiability\n",
    "</pre>"
   ]
  },
  {
   "cell_type": "code",
   "execution_count": null,
   "metadata": {
    "collapsed": true,
    "pycharm": {
     "is_executing": true
    }
   },
   "outputs": [],
   "source": [
    "# Your code here\n",
    "def randWord(n):\n",
    "    words = d2[n]\n",
    "    N = len(words)\n",
    "    return d2[n][random.randint(0,N)]"
   ]
  },
  {
   "cell_type": "code",
   "execution_count": null,
   "metadata": {
    "pycharm": {
     "is_executing": true
    }
   },
   "outputs": [],
   "source": [
    "randWord(5)\n",
    "print nsyl('reinvigorate')"
   ]
  },
  {
   "cell_type": "markdown",
   "metadata": {},
   "source": [
    "6) Write and test a function <tt>randLine(n)</tt> that returns a line with <tt>n</tt> syllables (separated by spaces). For instance:\n",
    "<pre>\n",
    "randLine(10)\n",
    "</pre>\n",
    "shows something like:\n",
    "<pre>\n",
    "porcupine melodrama gable scot\n",
    "</pre>"
   ]
  },
  {
   "cell_type": "code",
   "execution_count": null,
   "metadata": {
    "collapsed": true,
    "pycharm": {
     "is_executing": true
    }
   },
   "outputs": [],
   "source": [
    "# Your code here\n",
    "def randLine(n):\n",
    "    l = sylPattern(n)\n",
    "    line = \"\"\n",
    "    for i in l:\n",
    "        word = randWord(i)\n",
    "        line += word + \" \"\n",
    "    line += \"\\n\"\n",
    "    return line"
   ]
  },
  {
   "cell_type": "code",
   "execution_count": null,
   "metadata": {
    "pycharm": {
     "is_executing": true
    }
   },
   "outputs": [],
   "source": [
    "#randLine(5)\n",
    "print nsyl('casualties')\n",
    "print nsyl('kiel')"
   ]
  },
  {
   "cell_type": "markdown",
   "metadata": {},
   "source": [
    "7) Finally, write and test haiku(). For instance:\n",
    "<pre>\n",
    "print haiku()\n",
    "</pre>\n",
    "should show a haiku formatted like:\n",
    "<pre>\n",
    "psalm degenerate\n",
    "lapsed land mend holl franchiser\n",
    "chia ill pint draft\n",
    "</pre>"
   ]
  },
  {
   "cell_type": "code",
   "execution_count": null,
   "metadata": {
    "collapsed": true,
    "pycharm": {
     "is_executing": true
    }
   },
   "outputs": [],
   "source": [
    "# Your code here\n",
    "def haiku():\n",
    "    return randLine(5)+randLine(7)+randLine(5)"
   ]
  },
  {
   "cell_type": "code",
   "execution_count": null,
   "metadata": {
    "pycharm": {
     "is_executing": true
    }
   },
   "outputs": [],
   "source": [
    "print haiku()"
   ]
  },
  {
   "cell_type": "code",
   "execution_count": null,
   "metadata": {
    "collapsed": true,
    "pycharm": {
     "is_executing": true
    }
   },
   "outputs": [],
   "source": []
  }
 ],
 "metadata": {
  "kernelspec": {
   "name": "pycharm-4ce8e770",
   "language": "python",
   "display_name": "PyCharm (PycharmProjects)"
  },
  "language_info": {
   "codemirror_mode": {
    "name": "ipython",
    "version": 2
   },
   "file_extension": ".py",
   "mimetype": "text/x-python",
   "name": "python",
   "nbconvert_exporter": "python",
   "pygments_lexer": "ipython2",
   "version": "2.7.14"
  },
  "pycharm": {
   "stem_cell": {
    "cell_type": "raw",
    "source": [],
    "metadata": {
     "collapsed": false
    }
   }
  }
 },
 "nbformat": 4,
 "nbformat_minor": 1
}
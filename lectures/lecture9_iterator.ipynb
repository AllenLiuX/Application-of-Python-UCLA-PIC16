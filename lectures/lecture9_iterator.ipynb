{
 "cells": [
  {
   "cell_type": "markdown",
   "metadata": {
    "pycharm": {}
   },
   "source": [
    "# Lecture 9: Iterators and generators\n",
    "\n",
    "- Implement iterator behavior in custom classes so they can be looped through using the same convenient syntax as built-in containers\n",
    "- Use generators to create simple, custom iterators\n",
    "\n",
    "__Reading material__: \n",
    "- [Python tutorial](https://docs.python.org/2/tutorial/) 9.9 - 9.11\n",
    "- Optional: http://anandology.com/python-practice-book/iterators.html"
   ]
  },
  {
   "cell_type": "markdown",
   "metadata": {
    "pycharm": {}
   },
   "source": [
    "We’re learning to write the blueprint for our own container objects, that is, objects that contain multiple elements that we can access individually and iterate over in a for loop. Python lists, tuples, sets, and dictionaries are all built-in container objects. "
   ]
  },
  {
   "cell_type": "code",
   "execution_count": 1,
   "metadata": {
    "pycharm": {
     "is_executing": false
    }
   },
   "outputs": [
    {
     "name": "stdout",
     "text": [
      "1\n2\n3\n1\n2\n3\ntwo\none\n1\n2\n3\n"
     ],
     "output_type": "stream"
    }
   ],
   "source": [
    "for element in [1, 2, 3]:\n",
    "    print element\n",
    "for element in (1, 2, 3):\n",
    "    print element\n",
    "for key in {'one':1, 'two':2}:\n",
    "    print key\n",
    "for char in \"123\":\n",
    "    print char"
   ]
  },
  {
   "cell_type": "markdown",
   "metadata": {
    "pycharm": {}
   },
   "source": [
    "## Iterators\n",
    "Now we’re trying to create our own.\n",
    "Our custom container might have a built-in container object as an instance variable. For instance, the following __Reverse__ class has an instance variable data that is already a container. In this case, we just need to write some code that tells a for loop how to iterate over that instance variable."
   ]
  },
  {
   "cell_type": "code",
   "execution_count": 1,
   "metadata": {
    "collapsed": true,
    "pycharm": {
     "is_executing": false
    }
   },
   "outputs": [],
   "source": [
    "class Reverse:\n",
    "    \"\"\"Iterator for looping over a sequence backwards.\"\"\"\n",
    "    def __init__(self, data):\n",
    "        self.data = data\n",
    "\n",
    "    def __iter__(self):\n",
    "        return ReverseIterator(self)\n",
    "    \n",
    "class ReverseIterator:\n",
    "    def __init__(self, reverseObject):\n",
    "        self.index = len(reverseObject.data)\n",
    "        self.r = reverseObject\n",
    "        \n",
    "    def next(self):\n",
    "        if self.index == 0:\n",
    "            raise StopIteration\n",
    "        self.index = self.index - 1\n",
    "        return self.r.data[self.index]"
   ]
  },
  {
   "cell_type": "code",
   "execution_count": 2,
   "metadata": {
    "collapsed": true,
    "pycharm": {
     "is_executing": false
    }
   },
   "outputs": [
    {
     "name": "stdout",
     "text": [
      "<__main__.Reverse instance at 0x10a8035f0>\n"
     ],
     "output_type": "stream"
    }
   ],
   "source": [
    "rev = Reverse('spam')\n",
    "print rev"
   ]
  },
  {
   "cell_type": "code",
   "execution_count": 3,
   "metadata": {
    "pycharm": {
     "is_executing": false
    }
   },
   "outputs": [
    {
     "data": {
      "text/plain": "<__main__.ReverseIterator instance at 0x10a803680>"
     },
     "metadata": {},
     "output_type": "execute_result",
     "execution_count": 3
    }
   ],
   "source": [
    "iter(rev)"
   ]
  },
  {
   "cell_type": "code",
   "execution_count": 4,
   "metadata": {
    "pycharm": {
     "is_executing": false
    }
   },
   "outputs": [
    {
     "name": "stdout",
     "text": [
      "m\na\np\ns\n"
     ],
     "output_type": "stream"
    }
   ],
   "source": [
    "for char in rev:\n",
    "    print char"
   ]
  },
  {
   "cell_type": "markdown",
   "metadata": {
    "pycharm": {}
   },
   "source": [
    "- The simplest sort of container object will have its own __next__ method that, when called, returns to the for loop the next element in the container. When there are no more elements in the container, it raises a StopIteration exception (see 8.4 in [Python tutorial](https://docs.python.org/2/tutorial/) ) instead of returning an element. The for loop terminates when it gets this exception.\n",
    "\n",
    "- In general, however, the container object doesn’t need to have its own __next__ method. Instead, it may assign the job of picking the next element to a separate object, called an __iterator__.\n",
    "\n",
    "Note: the next( ) method has been renamed to \\__next\\__( ) in Python 3."
   ]
  },
  {
   "cell_type": "markdown",
   "source": [
    "- In general, an iterator is any object that defines a suitable __next__ method. When an iterator object’s __next__ method is invoked, the method should return the next element of some collection – whatever that may mean. How the __next__ method is written defines the order in which the elements of a collection are iterated over in a for loop.\n",
    "\n",
    "- Your collection appoints an iterator by defining an \\__iter\\__ method that returns an instance of an iterator object."
   ],
   "metadata": {
    "pycharm": {
     "metadata": false
    }
   }
  },
  {
   "cell_type": "markdown",
   "metadata": {
    "pycharm": {}
   },
   "source": [
    "If the collection has its own next method, the collection’s \\__iter\\__ method can return self; the container will serve as its own iterator. Note that in the following example, the __Reverse__ class is both the container and the iterator object. But in general, the iterator can be a separate object from the container."
   ]
  },
  {
   "cell_type": "code",
   "execution_count": 5,
   "metadata": {
    "collapsed": true,
    "pycharm": {
     "is_executing": false
    }
   },
   "outputs": [],
   "source": [
    "class Reverse:\n",
    "    \"\"\"Iterator for looping over a sequence backwards.\"\"\"\n",
    "    def __init__(self, data):\n",
    "        self.data = data\n",
    "        self.index = len(data)\n",
    "\n",
    "    def __iter__(self):\n",
    "        return self\n",
    "\n",
    "    def next(self):\n",
    "        if self.index == 0:\n",
    "            raise StopIteration\n",
    "        self.index = self.index - 1\n",
    "        return self.data[self.index]"
   ]
  },
  {
   "cell_type": "code",
   "execution_count": 6,
   "metadata": {
    "pycharm": {
     "is_executing": false
    }
   },
   "outputs": [
    {
     "name": "stdout",
     "text": [
      "e\nl\np\np\na\n"
     ],
     "output_type": "stream"
    }
   ],
   "source": [
    "rev = Reverse('apple')\n",
    "iter(rev)\n",
    "for char in rev:\n",
    "    print char"
   ]
  },
  {
   "cell_type": "markdown",
   "metadata": {
    "pycharm": {}
   },
   "source": [
    "Here's another example:"
   ]
  },
  {
   "cell_type": "code",
   "execution_count": null,
   "metadata": {
    "pycharm": {}
   },
   "outputs": [],
   "source": [
    "class ThreeElementContainer:\n",
    "    def __init__(self, a = 0, b = 0, c = 0):\n",
    "        self.a = a\n",
    "        self.b = b\n",
    "        self.c = c\n",
    "        self.i = 0\n",
    "    \n",
    "    def __iter__(self):\n",
    "        print \"iter called\"\n",
    "        return self\n",
    "        \n",
    "    def next(self):\n",
    "        print \"next called\"\n",
    "        if self.i == 0:\n",
    "            el = self.a\n",
    "        elif self.i == 1:\n",
    "            el = self.b\n",
    "        elif self.i == 2:\n",
    "            el = self.c\n",
    "        else:\n",
    "            print \"raised an exception\"\n",
    "            raise StopIteration\n",
    "        self.i += 1\n",
    "        return el\n",
    "        \n",
    "    def __str__(self):\n",
    "        return \"[\" + str(self.a) + \", \" + str(self.b) + \", \" + str(self.c)+ \"]\"\n",
    "        \n",
    "t = ThreeElementContainer(5,10,15)\n",
    "#print t\n",
    "for el in t:\n",
    "    print el"
   ]
  },
  {
   "cell_type": "markdown",
   "metadata": {
    "pycharm": {}
   },
   "source": [
    "## Generators\n",
    "The generator is the elegant brother of iterator that allows you to write iterators like the one you saw earlier, but in a much easier syntax where you do not have to write classes with \\__iter\\__( ) and next( ) methods."
   ]
  },
  {
   "cell_type": "markdown",
   "metadata": {
    "pycharm": {}
   },
   "source": [
    "Now let's write a __generator__ every_other(data) that yields every other\n",
    "element of the data. "
   ]
  },
  {
   "cell_type": "code",
   "execution_count": 7,
   "metadata": {
    "pycharm": {
     "is_executing": false
    }
   },
   "outputs": [
    {
     "name": "stdout",
     "text": [
      "s p r a i r g l s i e p a i o i u\n"
     ],
     "output_type": "stream"
    }
   ],
   "source": [
    "def every_other(data):\n",
    "    for index in range(0,len(data),2):\n",
    "        yield data[index]\n",
    "        \n",
    "for char in every_other(\"supercalifragilisticexpialidocious\"):\n",
    "    print char,"
   ]
  },
  {
   "cell_type": "markdown",
   "metadata": {
    "pycharm": {}
   },
   "source": [
    "The magic word with generators is __yield__. There is no return statement in the function every_other. The return value of the function will actually be a generator. Inside the for loop when the execution reaches the yield statement, the value of data[index] is returned and the generator state is suspended. During the second next call, the generator resumes from the index at which it stopped earlier and increases this index by one. It continues with the for loop and comes to the yield statement again.\n",
    "\n",
    "__yield__ basically replaces the return statement of a function but rather provides a result to its caller without destroying local variables. Thus, in the next iteration, it can work on this local variable value again. So unlike a normal function that you have seen before, where on each call it starts with new set of variables - a generator will resume the execution where it was left off."
   ]
  },
  {
   "cell_type": "markdown",
   "metadata": {
    "pycharm": {}
   },
   "source": [
    "Now let's rewrite the ThreeElementContainer class using a generator:"
   ]
  },
  {
   "cell_type": "code",
   "execution_count": null,
   "metadata": {
    "pycharm": {}
   },
   "outputs": [],
   "source": [
    "class ThreeElementContainer:\n",
    "    def __init__(self, a = 0, b = 0, c = 0):\n",
    "        self.a = a\n",
    "        self.b = b\n",
    "        self.c = c\n",
    "#        self.i = 0\n",
    "    \n",
    "#    def __iter__(self):\n",
    "#        print \"iter called\"\n",
    "#        return self\n",
    "\n",
    "    def __iter__(self):\n",
    "        return self.generator()\n",
    "    \n",
    "    def generator(self):\n",
    "        yield self.a\n",
    "        yield self.b\n",
    "        yield self.c\n",
    "        \n",
    "#    def next(self):\n",
    "#        print \"next called\"\n",
    "#        if self.i == 0:\n",
    "#            el = self.a\n",
    "#        elif self.i == 1:\n",
    "#            el = self.b\n",
    "#        elif self.i == 2:\n",
    "#            el = self.c\n",
    "#        else:\n",
    "#            print \"raised an exception\"\n",
    "#            raise StopIteration\n",
    "#        self.i += 1\n",
    "#        return el\n",
    "        \n",
    "    def __str__(self):\n",
    "        return \"[\" + str(self.a) + \", \" + str(self.b) + \", \" + str(self.c)+ \"]\"\n",
    "        \n",
    "t = ThreeElementContainer(5,10,15)\n",
    "#print t\n",
    "for el in t:\n",
    "    print el\n"
   ]
  },
  {
   "cell_type": "markdown",
   "metadata": {
    "pycharm": {}
   },
   "source": [
    "## Generator expressions\n",
    "The generator expressions are the generator equivalent of a list comprehension, but with parentheses instead of square brackets. Just like a list comprehension returns a list, a generator expression will return a generator."
   ]
  },
  {
   "cell_type": "code",
   "execution_count": 8,
   "metadata": {
    "pycharm": {
     "is_executing": false
    }
   },
   "outputs": [
    {
     "name": "stdout",
     "text": [
      "<type 'generator'>\n[1, 4, 9, 16, 25, 36, 49, 64, 81]\n"
     ],
     "output_type": "stream"
    }
   ],
   "source": "squares = (x * x for x in range(1,10))\nprint(type(squares))\nprint(list(squares))"
  },
  {
   "cell_type": "markdown",
   "metadata": {
    "pycharm": {}
   },
   "source": [
    "We can also create the same generator every_other (as above) in a single line using a\n",
    "lambda function and a generator expression."
   ]
  },
  {
   "cell_type": "code",
   "execution_count": 1,
   "metadata": {
    "pycharm": {
     "is_executing": false
    }
   },
   "outputs": [
    {
     "name": "stdout",
     "text": [
      "s p r a i r g l s i e p a i o i u \ns p r a i r g l s i e p a i o i u\n"
     ],
     "output_type": "stream"
    }
   ],
   "source": "every_other2 = lambda data: (char for char in data[::2])\nfor char in every_other2(\"supercalifragilisticexpialidocious\"):\n    print char,\n\nprint \"\"\n\n# a more memory-efficient solution\nevery_other3 = lambda data: (data[index] for index in xrange(0,len(data),2)) # range would work, too\nfor char in every_other3(\"supercalifragilisticexpialidocious\"):\n    print char,"
  }
 ],
 "metadata": {
  "kernelspec": {
   "name": "pycharm-3f1b4da7",
   "language": "python",
   "display_name": "PyCharm (PycharmProjects)"
  },
  "language_info": {
   "codemirror_mode": {
    "name": "ipython",
    "version": 2
   },
   "file_extension": ".py",
   "mimetype": "text/x-python",
   "name": "python",
   "nbconvert_exporter": "python",
   "pygments_lexer": "ipython2",
   "version": "2.7.14"
  },
  "pycharm": {
   "stem_cell": {
    "cell_type": "raw",
    "source": [],
    "metadata": {
     "collapsed": false
    }
   }
  }
 },
 "nbformat": 4,
 "nbformat_minor": 2
}
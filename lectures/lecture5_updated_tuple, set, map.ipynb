{
 "cells": [
  {
   "cell_type": "markdown",
   "metadata": {
    "pycharm": {}
   },
   "source": [
    "# Lecture 5\n",
    "1. Removing elements from a list using del\n",
    "2. Tuples and Sets\n",
    "3. Relative efficiency of map, list comprehension and for loops\n",
    "\n",
    "Reading material: [Python tutorial](https://docs.python.org/2/tutorial/) 5.2 - 5.4"
   ]
  },
  {
   "cell_type": "markdown",
   "metadata": {
    "pycharm": {}
   },
   "source": [
    "## 1. the __del__ statement\n",
    "The __del__ method is used to remove an item, slices, or clear the entire list."
   ]
  },
  {
   "cell_type": "code",
   "execution_count": 4,
   "metadata": {
    "pycharm": {
     "is_executing": false
    }
   },
   "outputs": [
    {
     "name": "stdout",
     "text": [
      "[0, 1, 2, 3, 4]\n",
      "[0, 1, 3, 4]\n",
      "[0, 4]\n",
      "[]\n"
     ],
     "output_type": "stream"
    },
    {
     "ename": "NameError",
     "evalue": "name 'a' is not defined",
     "traceback": [
      "\u001b[0;31m\u001b[0m",
      "\u001b[0;31mNameError\u001b[0mTraceback (most recent call last)",
      "\u001b[0;32m<ipython-input-4-cc297cfe322f>\u001b[0m in \u001b[0;36m<module>\u001b[0;34m()\u001b[0m\n\u001b[1;32m     13\u001b[0m \u001b[0;34m\u001b[0m\u001b[0m\n\u001b[1;32m     14\u001b[0m \u001b[0;32mdel\u001b[0m \u001b[0ma\u001b[0m\u001b[0;34m\u001b[0m\u001b[0m\n\u001b[0;32m---> 15\u001b[0;31m \u001b[0;32mprint\u001b[0m \u001b[0ma\u001b[0m\u001b[0;34m\u001b[0m\u001b[0m\n\u001b[0m\u001b[1;32m     16\u001b[0m \u001b[0;34m\u001b[0m\u001b[0m\n",
      "\u001b[0;31mNameError\u001b[0m: name 'a' is not defined"
     ],
     "output_type": "error"
    }
   ],
   "source": [
    "a = range(5)\n",
    "print(a)\n",
    "\n",
    "del a[2]\n",
    "print(a)\n",
    "\n",
    "del a[1:3]\n",
    "print a\n",
    "\n",
    "del a[:]\n",
    "print a\n",
    "\n",
    "del a\n",
    "print a"
   ]
  },
  {
   "cell_type": "markdown",
   "metadata": {
    "pycharm": {}
   },
   "source": [
    "## 2. Tuples and Sets"
   ]
  },
  {
   "cell_type": "markdown",
   "metadata": {
    "pycharm": {}
   },
   "source": [
    "__Tuples__ are immutable, and usually contain a heterogeneous sequence of elements that are accessed via unpacking or indexing. \n",
    "__Lists__ are mutable, and their elements are usually homogeneous and are accessed by iterating over the list."
   ]
  },
  {
   "cell_type": "code",
   "execution_count": null,
   "metadata": {
    "pycharm": {
     "is_executing": false
    }
   },
   "outputs": [],
   "source": [
    "x = (3,'a',[1,2,3],{'A':1, 'B':2})\n",
    "print type(x)\n",
    "print x[0]\n",
    "print x[1:3]\n",
    "#x[0] = 5 # this does not work\n",
    "print x[2][1]\n",
    "\n",
    "x[2][1] = 4\n",
    "print x # a tuple can contain mutable object, although the tuple itself is immutable"
   ]
  },
  {
   "cell_type": "code",
   "execution_count": null,
   "metadata": {
    "pycharm": {
     "is_executing": false
    }
   },
   "outputs": [],
   "source": [
    "a = 1\n",
    "b = 2\n",
    "tmp = a\n",
    "a = b\n",
    "b = tmp\n",
    "print a,b"
   ]
  },
  {
   "cell_type": "code",
   "execution_count": null,
   "metadata": {
    "pycharm": {
     "is_executing": false
    }
   },
   "outputs": [],
   "source": [
    "a, b = 1, 2\n",
    "print a, b\n",
    "a, b = b, a\n",
    "print a, b"
   ]
  },
  {
   "cell_type": "code",
   "execution_count": null,
   "metadata": {
    "pycharm": {
     "is_executing": false
    }
   },
   "outputs": [],
   "source": [
    "t = 1, 2 # tuple packing\n",
    "print t, type(t)\n",
    "a, b = t # tuple unpacking\n",
    "print a, b"
   ]
  },
  {
   "cell_type": "code",
   "execution_count": null,
   "metadata": {
    "pycharm": {
     "is_executing": false
    }
   },
   "outputs": [],
   "source": [
    "def myfun(a,b):\n",
    "    return a+1, b+2\n",
    "c,d = myfun(100, 200)\n",
    "print c,d"
   ]
  },
  {
   "cell_type": "code",
   "execution_count": null,
   "metadata": {
    "pycharm": {
     "is_executing": false
    }
   },
   "outputs": [],
   "source": [
    "x = (3,'a',[1,2,3],{'A':1, 'B':2})\n",
    "a,b,c,d = x # tuple unpacking\n",
    "print b\n",
    "print x[2]"
   ]
  },
  {
   "cell_type": "code",
   "execution_count": null,
   "metadata": {
    "pycharm": {
     "is_executing": false
    }
   },
   "outputs": [],
   "source": [
    "age = input(\"How old are you? \")\n",
    "height = raw_input(\"How tall are you? \")\n",
    "x = age, height #tuple packing\n",
    "print type(x), type(age), type(height)\n",
    "print \"So, you're %s old, %s tall.\" % x\n",
    "print \"So, you're %r old, %r tall.\" % x"
   ]
  },
  {
   "cell_type": "code",
   "execution_count": null,
   "metadata": {
    "pycharm": {
     "is_executing": false
    }
   },
   "outputs": [],
   "source": [
    "age = input(\"How old are you? \") # not recommended"
   ]
  },
  {
   "cell_type": "markdown",
   "metadata": {
    "pycharm": {}
   },
   "source": [
    "A __Set__ is an unordered collection of items. Every element is unique (no duplicates) and must be immutable (which cannot be changed). However, the set itself is mutable. We can add or remove items from it.\n",
    "\n"
   ]
  },
  {
   "cell_type": "code",
   "execution_count": null,
   "metadata": {
    "jupyter": {
     "outputs_hidden": true
    },
    "pycharm": {
     "is_executing": false
    }
   },
   "outputs": [],
   "source": [
    "my_set = {1,2,3,4,3,2}\n",
    "print(my_set)\n",
    "\n",
    "set2 = set()\n",
    "print type(set2)"
   ]
  },
  {
   "cell_type": "code",
   "execution_count": null,
   "metadata": {
    "jupyter": {
     "outputs_hidden": true
    },
    "pycharm": {
     "is_executing": false
    }
   },
   "outputs": [],
   "source": [
    "#my_set = {1, 2, [3, 4]} # error! set cannot have mutable items\n",
    "my_set[0] # error! set does not support indexing"
   ]
  },
  {
   "cell_type": "markdown",
   "metadata": {
    "pycharm": {}
   },
   "source": [
    "__ Try the following methods to change a set in Python:__\n",
    "- my_set = {1,2,3}\n",
    "- my_set.add(4) # add one item\n",
    "- my_set.update([5,6,7]) #add multiple items"
   ]
  },
  {
   "cell_type": "code",
   "execution_count": null,
   "metadata": {
    "jupyter": {
     "outputs_hidden": true
    },
    "pycharm": {
     "is_executing": false
    }
   },
   "outputs": [],
   "source": [
    "my_set = {1,2,3}\n",
    "my_set.add(4)\n",
    "my_set.update([5,6,7])\n",
    "print my_set"
   ]
  },
  {
   "cell_type": "markdown",
   "metadata": {
    "pycharm": {}
   },
   "source": [
    "__Exercise__: Determine the number of unique letters in \"supercalifragilisticexpialidocious\" using a set."
   ]
  },
  {
   "cell_type": "code",
   "execution_count": null,
   "metadata": {
    "jupyter": {
     "outputs_hidden": true
    },
    "pycharm": {
     "is_executing": false
    }
   },
   "outputs": [],
   "source": [
    "len(set(list(\"supercalifragilisticexpialidocious\")))"
   ]
  },
  {
   "cell_type": "markdown",
   "metadata": {
    "pycharm": {}
   },
   "source": [
    "## 3. Maps\n",
    "One of the common things we do with list and other sequences is applying an operation to each item and collect the result. For example, we can update all the items in a list with a __for__ loop or __list comprehension__. "
   ]
  },
  {
   "cell_type": "code",
   "execution_count": null,
   "metadata": {
    "jupyter": {
     "outputs_hidden": true
    },
    "pycharm": {
     "is_executing": false
    }
   },
   "outputs": [],
   "source": [
    "x = [1,2,3,4,5]\n",
    "y = []\n",
    "for i in x:\n",
    "    y.append(i**2)\n",
    "print y\n",
    "\n",
    "y = [i**2 for i in x]\n",
    "print y"
   ]
  },
  {
   "cell_type": "markdown",
   "metadata": {
    "pycharm": {}
   },
   "source": [
    "There is another built-in feature that is very helpful: __map__. \n",
    "\n",
    "The __map(myFunction, mySequence)__ applies a passed-in function to each item in an iterable object and returns a list containing all the function call results."
   ]
  },
  {
   "cell_type": "code",
   "execution_count": null,
   "metadata": {
    "jupyter": {
     "outputs_hidden": true
    },
    "pycharm": {
     "is_executing": false
    }
   },
   "outputs": [],
   "source": [
    "x = [1,2,3,4,5]\n",
    "def f(x):\n",
    "    return x**2\n",
    "map(f,x)"
   ]
  },
  {
   "cell_type": "markdown",
   "metadata": {
    "pycharm": {}
   },
   "source": [
    "__map()__ expects a function to be passed in. This is where __lambda__ routinely appears."
   ]
  },
  {
   "cell_type": "code",
   "execution_count": null,
   "metadata": {
    "jupyter": {
     "outputs_hidden": true
    },
    "pycharm": {
     "is_executing": false
    }
   },
   "outputs": [],
   "source": [
    "x = [1,2,3,4,5]\n",
    "map(lambda t: t**2, x)"
   ]
  },
  {
   "cell_type": "markdown",
   "metadata": {
    "pycharm": {}
   },
   "source": [
    "We can also use __map()__ on multiple sequences, where corresponding item from each sequence will be passed."
   ]
  },
  {
   "cell_type": "code",
   "execution_count": null,
   "metadata": {
    "jupyter": {
     "outputs_hidden": true
    },
    "pycharm": {
     "is_executing": false
    }
   },
   "outputs": [],
   "source": [
    "x1 = [1,2,3,4,5]\n",
    "x2 = [2,3,4,5,6]\n",
    "map(lambda t,s: t+s, x1, x2)"
   ]
  },
  {
   "cell_type": "markdown",
   "metadata": {
    "pycharm": {}
   },
   "source": [
    "#### Efficiency of map, list comprehension and for loops. \n",
    "To compare relative efficiency of multiple approaches to a given task, let's time code segment execution using the time module."
   ]
  },
  {
   "cell_type": "code",
   "execution_count": null,
   "metadata": {
    "jupyter": {
     "outputs_hidden": true
    },
    "pycharm": {
     "is_executing": false
    }
   },
   "outputs": [],
   "source": [
    "import time\n",
    "begin = time.clock() #record start time\n",
    "#your code goes here\n",
    "end = time.clock() # record end time\"\n",
    "print end - begin #calculate difference (elapsed time)"
   ]
  },
  {
   "cell_type": "markdown",
   "metadata": {
    "pycharm": {}
   },
   "source": [
    "Consider the following code to generate a list of the squares of N integers:"
   ]
  },
  {
   "cell_type": "code",
   "execution_count": null,
   "metadata": {
    "jupyter": {
     "outputs_hidden": true
    },
    "pycharm": {
     "is_executing": false
    }
   },
   "outputs": [],
   "source": [
    "import time\n",
    "N = 1000000\n",
    "x = range(N)\n",
    "y = []\n",
    "t1 = time.clock()\n",
    "for i in x:\n",
    "    y.append(i**2)\n",
    "t2 = time.clock()\n",
    "print \"Appending to an empty list\", t2 - t1\n",
    "\n",
    "y = x\n",
    "t1 = time.clock()\n",
    "for i in x:\n",
    "    y[i] = i**2\n",
    "t2 = time.clock()\n",
    "print \"Updating an existing list\", t2 - t1"
   ]
  },
  {
   "cell_type": "markdown",
   "metadata": {
    "pycharm": {}
   },
   "source": [
    "__Tip #1__: when possible, re-using an existing list in a for loop is usually faster than appending to an empty list"
   ]
  },
  {
   "cell_type": "code",
   "execution_count": null,
   "metadata": {
    "jupyter": {
     "outputs_hidden": true
    },
    "pycharm": {
     "is_executing": false
    }
   },
   "outputs": [],
   "source": [
    "N = 1000000\n",
    "x = range(N)\n",
    "def f(x):\n",
    "    return x**2\n",
    "\n",
    "y = x\n",
    "t1 = time.clock()\n",
    "y = [f(i) for i in x]\n",
    "t2 = time.clock()\n",
    "print \"with list comprehension\", t2 - t1\n",
    "\n",
    "y = x\n",
    "t1 = time.clock()\n",
    "for i in x:\n",
    "    y[i] = f(i)\n",
    "t2 = time.clock()\n",
    "print \"with for loop\", t2 - t1"
   ]
  },
  {
   "cell_type": "markdown",
   "metadata": {
    "pycharm": {}
   },
   "source": [
    "__Tip #2__: when you only need to perform a single function call in a for loop, it is faster to use list comprehension "
   ]
  },
  {
   "cell_type": "code",
   "execution_count": null,
   "metadata": {
    "jupyter": {
     "outputs_hidden": true
    },
    "pycharm": {
     "is_executing": false
    }
   },
   "outputs": [],
   "source": [
    "N = 1000000\n",
    "x = range(N)\n",
    "def f(x):\n",
    "    return x**2\n",
    "\n",
    "y = x\n",
    "t1 = time.clock()\n",
    "y = [f(i) for i in x]\n",
    "t2 = time.clock()\n",
    "print \"with list comprehension\", t2 - t1\n",
    "\n",
    "t1 = time.clock()\n",
    "y = map(f,x)\n",
    "t2 = time.clock()\n",
    "print \"with map\", t2 - t1\n"
   ]
  },
  {
   "cell_type": "markdown",
   "metadata": {
    "pycharm": {}
   },
   "source": [
    "__Tip #3__: it is faster to use map than list comprehension when the operation you need to perform requires a single function call."
   ]
  },
  {
   "cell_type": "code",
   "execution_count": null,
   "metadata": {
    "pycharm": {
     "is_executing": false
    }
   },
   "outputs": [],
   "source": []
  }
 ],
 "metadata": {
  "kernelspec": {
   "name": "pycharm-4ce8e770",
   "language": "python",
   "display_name": "PyCharm (PycharmProjects)"
  },
  "language_info": {
   "codemirror_mode": {
    "name": "ipython",
    "version": 2
   },
   "file_extension": ".py",
   "mimetype": "text/x-python",
   "name": "python",
   "nbconvert_exporter": "python",
   "pygments_lexer": "ipython2",
   "version": "2.7.16"
  },
  "pycharm": {
   "stem_cell": {
    "cell_type": "raw",
    "source": [],
    "metadata": {
     "collapsed": false
    }
   }
  }
 },
 "nbformat": 4,
 "nbformat_minor": 4
}
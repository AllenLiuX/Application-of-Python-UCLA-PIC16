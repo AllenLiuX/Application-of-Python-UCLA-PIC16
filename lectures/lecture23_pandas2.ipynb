{
 "cells": [
  {
   "cell_type": "markdown",
   "metadata": {},
   "source": [
    "# Lecture 23: Pandas II\n",
    "\n",
    "- Identify the appropriate pandas data structure (Series or a DataFrame) to contain data\n",
    "- Read and write Excel worksheets with pandas\n",
    "- Use IPython tab completion to view the attributes of an object\n",
    "- Select DataFrame data by lists/slices of row/column indices/labels\n",
    "- Select DataFrame data by element values using boolean indexing\n",
    "- Modify selected DataFrame data using the assignment operator\n",
    "- Add data by concatenation and remove data by copying the desired data into a new DataFrame.\n",
    "\n",
    "__Reading Material:__\n",
    "- [Pandas Tutorial](https://pandas.pydata.org/pandas-docs/stable/getting_started/tutorials.html)\n",
    "- Pandas Basics Cheat Sheet (on CCLE)"
   ]
  },
  {
   "cell_type": "markdown",
   "metadata": {},
   "source": [
    "- Read the [pandas Overview](https://pandas.pydata.org/pandas-docs/stable/getting_started/overview.html) until “Getting Support”. so focus on “Data Structures at a Glance” and “Mutability and copying of data”. This is what you should get now:\n",
    "    - We will be working with two kinds of pandas data structures: \n",
    "        - Series (one dimensional, homogeneously-typed arrays) and \n",
    "        - DataFrames (2D arrays with column and row labels, each column of which is typically a Series).  \n",
    "     You can think of a Series as a single column from a table, and a DataFrame as a table (composed of several columns), but they are separate kinds of objects, each with its own methods.\n",
    "    - It notes that it is conceivable to have a single class of objects capable of storing either 1D, 2D, or 3D (some sort of “N-D array” object, or a list of lists of lists, for instance) but the designers of pandas chose not to do that. Instead there is one class for 1D data (Series), one class for 2D data (DataFrame), and one class for 3D data (which we won’t use).\n",
    "    - Once created, the values in a pandas data structure (a __Series__ or __DataFrame__) can be edited, but it might not be possible to add new, additional values. To accomplish the same goal, you’d have to copy all the data into a new, larger data structure. It’s like we’re back in C++, when we can change the values of an array, but not change its length."
   ]
  },
  {
   "cell_type": "markdown",
   "metadata": {},
   "source": [
    "### Object Creation\n",
    "- Read [10 minutes to pandas](https://pandas.pydata.org/pandas-docs/stable/getting_started/10min.html) up to “Object Creation”. "
   ]
  },
  {
   "cell_type": "code",
   "execution_count": 88,
   "metadata": {
    "collapsed": true,
    "pycharm": {
     "is_executing": false
    }
   },
   "outputs": [],
   "source": [
    "import pandas as pd\n",
    "import numpy as np"
   ]
  },
  {
   "cell_type": "markdown",
   "metadata": {},
   "source": [
    "- We use the __Series__ constructor to convert a regular Python list into a __pandas Series__ object. When printed, the__ Series__ object shows its index column, a list of integers by default, to the left of the actual data. __np.nan__ is simply an object called “Not a Number” used to represent a quantitative concept that is not actually a number, like infinity. "
   ]
  },
  {
   "cell_type": "code",
   "execution_count": 89,
   "metadata": {
    "pycharm": {
     "is_executing": false
    }
   },
   "outputs": [
    {
     "name": "stdout",
     "text": [
      "0    1.0\n",
      "1    3.0\n",
      "2    5.0\n",
      "3    NaN\n",
      "4    6.0\n",
      "5    8.0\n",
      "dtype: float64\n"
     ],
     "output_type": "stream"
    }
   ],
   "source": [
    "s = pd.Series([1, 3, 5, np.nan, 6, 8])\n",
    "print s"
   ]
  },
  {
   "cell_type": "markdown",
   "metadata": {},
   "source": [
    "- The __date_range__ function generates a range of dates. The first argument is the initial date as a string in a “YYYYMMDD” format, and the next argument is the total number of consecutive dates we want to be generated. The default separation between values in the range is one day (you can modify this using the __freq__ parameter). "
   ]
  },
  {
   "cell_type": "code",
   "execution_count": 90,
   "metadata": {
    "pycharm": {
     "is_executing": false
    }
   },
   "outputs": [
    {
     "data": {
      "text/plain": "DatetimeIndex(['2019-11-21', '2019-11-22', '2019-11-23', '2019-11-24',\n               '2019-11-25', '2019-11-26'],\n              dtype='datetime64[ns]', freq='D')"
     },
     "metadata": {},
     "output_type": "execute_result",
     "execution_count": 90
    }
   ],
   "source": [
    "dates = pd.date_range('20191121', periods=6)\n",
    "dates"
   ]
  },
  {
   "cell_type": "markdown",
   "metadata": {},
   "source": [
    "- The command __np.random.rand(6,4)__ generates an object representing a two dimensional (six rows, four columns) array of random numbers between zero and one. We create a __DataFrame__ object out of it. But rather than using an integer index to refer to a particular row, we want to use a date to pick out rows. Apparently each date corresponds with four numbers, which could represent, for example, the average temperature, humidity, rainfall, and wind speed on that day."
   ]
  },
  {
   "cell_type": "code",
   "execution_count": 91,
   "metadata": {
    "pycharm": {
     "is_executing": false
    }
   },
   "outputs": [
    {
     "name": "stdout",
     "text": [
      "                   A         B         C         D\n",
      "2019-11-21  0.007925 -0.131252 -0.013149 -0.003546\n",
      "2019-11-22  0.837588  2.269171 -0.268708 -0.347136\n",
      "2019-11-23 -0.206599 -0.086877  0.580100 -0.809417\n",
      "2019-11-24 -0.973963  0.630189  1.040340 -0.137702\n",
      "2019-11-25 -0.939005  0.504361 -1.504999 -0.350847\n",
      "2019-11-26 -1.390855  1.613343  0.099504  0.990571\n",
      "<type 'list'>\n",
      "['1', '2', '3']\n"
     ],
     "output_type": "stream"
    }
   ],
   "source": [
    "df_test = pd.DataFrame(np.random.randn(6, 4), index=dates, columns=list('ABCD'))\n",
    "print df_test\n",
    "print type(list('Abcd'))\n",
    "print list(\"123\")"
   ]
  },
  {
   "cell_type": "markdown",
   "metadata": {},
   "source": [
    "- I suggest you try out the IPython tab completion technique mentioned at the end of the section to check out of few attributes. That is, in IPython, type the name of the DataFrame variable followed by a \".\", press the tab key on your keyboard, and note the selectable list of attributes that appears."
   ]
  },
  {
   "cell_type": "code",
   "execution_count": 92,
   "metadata": {
    "collapsed": true,
    "pycharm": {
     "is_executing": false
    }
   },
   "outputs": [
    {
     "data": {
      "text/plain": "Index([u'A', u'B', u'C', u'D'], dtype='object')"
     },
     "metadata": {},
     "output_type": "execute_result",
     "execution_count": 92
    }
   ],
   "source": [
    "df_test.keys()\n"
   ]
  },
  {
   "cell_type": "markdown",
   "metadata": {},
   "source": [
    "## Getting Data In/Out\n",
    "\n",
    "- Skip way ahead to Getting Data In/Out – Excel in [10 minutes to pandas](https://pandas.pydata.org/pandas-docs/stable/getting_started/10min.html).\n",
    "\n",
    "Now let's load the only sheet of data.xlsx into a variable (a __DataFrame__)."
   ]
  },
  {
   "cell_type": "code",
   "execution_count": 93,
   "metadata": {
    "pycharm": {
     "is_executing": false
    }
   },
   "outputs": [
    {
     "data": {
      "text/plain": "                 Phone      First       Last\nMember #                                    \nA1001     125-111-4978     Austin       Bell\nA1002     763-303-7544     Declan       Buck\nA1003     695-919-3789      Carol    Vazquez\nA1004     276-570-7451      Fleur     Dunlap\nA1005     498-479-7074      Garth     Potter\nA1006     139-907-8100    Martena    Jenkins\nA1007     893-406-0425   Emmanuel     Morgan\nA1008     205-472-5798       Hoyt    Tillman\nA1009     820-847-5666       Tana    Vazquez\nA1010     186-115-8489      Kitra     Jordan\nA1011     287-177-2909      Jenna     Strong\nA1012     899-323-0486      Helen   Sheppard\nA1013     614-992-6830    Michael     Franco\nA1014     572-564-7938      Imani      Byers\nA1015     937-238-8313      Wendy      Stout\nA1016     455-370-9268     Walker    Edwards\nA1017     337-350-0922       Yael       Lamb\nA1018     353-651-7605     Baxter    Charles\nA1019     136-956-6416        Yen      Stein\nA1020     482-431-3179      Perry        Ray\nA1021     259-589-0664  Alexander    Patrick\nA1022     601-488-1174      Irene   Cantrell\nA1023     630-962-1162   Channing    Holland\nA1024     607-929-1091       Roth      Nunez\nA1025     679-505-2213       Anne    Sanders\nA1026     852-561-0924       Erin    Puckett\nA1027     620-969-5670     Evelyn     Harris\nA1028     654-990-2627       Todd   Castillo\nA1029     530-493-8306     Carson      Curry\nA1030     594-789-4449   Savannah       Wood\n...                ...        ...        ...\nA1071     411-883-7642       Ulla      Avery\nA1072     736-791-1156     Ariana      Small\nA1073     677-980-7326       Cleo     Moreno\nA1074     697-777-7905      Reece     Ortega\nA1075     279-445-6561        Ori     Cotton\nA1076     207-872-8956   Harrison       Page\nA1077     672-355-0177    Vaughan   Browning\nA1078     384-530-6659   Kathleen  Mcconnell\nA1079     241-622-2164       Todd         Le\nA1080     178-836-2737      Hilel   Mcintyre\nA1081     513-285-0257  MacKenzie     Finley\nA1082     724-607-5594      Anika      Bates\nA1083     655-277-9422   Caldwell    Winters\nA1084     652-717-6070      Flynn   Odonnell\nA1085     618-571-0200    Anthony    Whitley\nA1086     422-508-6558      Amber      Bauer\nA1087     920-271-2608    Melissa     Acosta\nA1088     420-181-3711  Jessamine     Reeves\nA1089     423-672-9066   Meredith     Carter\nA1090     192-617-3694     Keelie    Fischer\nA1091     963-621-8389      Thane    Jenkins\nA1092     225-392-0669    Brandon     Joseph\nA1093     421-485-3036    Latifah     Palmer\nA1094     146-650-2279      Briar   Mccarthy\nA1095     971-380-3157        Ori       Wise\nA1096     801-950-2736    Carolyn      Reese\nA1097     363-333-3522      Carla      Hardy\nA1098     611-668-2294      Halla     Barker\nA1099     162-830-7380     Joseph      Nunez\nA1100     706-238-3765       Finn   Hamilton\n\n[100 rows x 3 columns]",
      "text/html": "<div>\n<style scoped>\n    .dataframe tbody tr th:only-of-type {\n        vertical-align: middle;\n    }\n\n    .dataframe tbody tr th {\n        vertical-align: top;\n    }\n\n    .dataframe thead th {\n        text-align: right;\n    }\n</style>\n<table border=\"1\" class=\"dataframe\">\n  <thead>\n    <tr style=\"text-align: right;\">\n      <th></th>\n      <th>Phone</th>\n      <th>First</th>\n      <th>Last</th>\n    </tr>\n    <tr>\n      <th>Member #</th>\n      <th></th>\n      <th></th>\n      <th></th>\n    </tr>\n  </thead>\n  <tbody>\n    <tr>\n      <th>A1001</th>\n      <td>125-111-4978</td>\n      <td>Austin</td>\n      <td>Bell</td>\n    </tr>\n    <tr>\n      <th>A1002</th>\n      <td>763-303-7544</td>\n      <td>Declan</td>\n      <td>Buck</td>\n    </tr>\n    <tr>\n      <th>A1003</th>\n      <td>695-919-3789</td>\n      <td>Carol</td>\n      <td>Vazquez</td>\n    </tr>\n    <tr>\n      <th>A1004</th>\n      <td>276-570-7451</td>\n      <td>Fleur</td>\n      <td>Dunlap</td>\n    </tr>\n    <tr>\n      <th>A1005</th>\n      <td>498-479-7074</td>\n      <td>Garth</td>\n      <td>Potter</td>\n    </tr>\n    <tr>\n      <th>A1006</th>\n      <td>139-907-8100</td>\n      <td>Martena</td>\n      <td>Jenkins</td>\n    </tr>\n    <tr>\n      <th>A1007</th>\n      <td>893-406-0425</td>\n      <td>Emmanuel</td>\n      <td>Morgan</td>\n    </tr>\n    <tr>\n      <th>A1008</th>\n      <td>205-472-5798</td>\n      <td>Hoyt</td>\n      <td>Tillman</td>\n    </tr>\n    <tr>\n      <th>A1009</th>\n      <td>820-847-5666</td>\n      <td>Tana</td>\n      <td>Vazquez</td>\n    </tr>\n    <tr>\n      <th>A1010</th>\n      <td>186-115-8489</td>\n      <td>Kitra</td>\n      <td>Jordan</td>\n    </tr>\n    <tr>\n      <th>A1011</th>\n      <td>287-177-2909</td>\n      <td>Jenna</td>\n      <td>Strong</td>\n    </tr>\n    <tr>\n      <th>A1012</th>\n      <td>899-323-0486</td>\n      <td>Helen</td>\n      <td>Sheppard</td>\n    </tr>\n    <tr>\n      <th>A1013</th>\n      <td>614-992-6830</td>\n      <td>Michael</td>\n      <td>Franco</td>\n    </tr>\n    <tr>\n      <th>A1014</th>\n      <td>572-564-7938</td>\n      <td>Imani</td>\n      <td>Byers</td>\n    </tr>\n    <tr>\n      <th>A1015</th>\n      <td>937-238-8313</td>\n      <td>Wendy</td>\n      <td>Stout</td>\n    </tr>\n    <tr>\n      <th>A1016</th>\n      <td>455-370-9268</td>\n      <td>Walker</td>\n      <td>Edwards</td>\n    </tr>\n    <tr>\n      <th>A1017</th>\n      <td>337-350-0922</td>\n      <td>Yael</td>\n      <td>Lamb</td>\n    </tr>\n    <tr>\n      <th>A1018</th>\n      <td>353-651-7605</td>\n      <td>Baxter</td>\n      <td>Charles</td>\n    </tr>\n    <tr>\n      <th>A1019</th>\n      <td>136-956-6416</td>\n      <td>Yen</td>\n      <td>Stein</td>\n    </tr>\n    <tr>\n      <th>A1020</th>\n      <td>482-431-3179</td>\n      <td>Perry</td>\n      <td>Ray</td>\n    </tr>\n    <tr>\n      <th>A1021</th>\n      <td>259-589-0664</td>\n      <td>Alexander</td>\n      <td>Patrick</td>\n    </tr>\n    <tr>\n      <th>A1022</th>\n      <td>601-488-1174</td>\n      <td>Irene</td>\n      <td>Cantrell</td>\n    </tr>\n    <tr>\n      <th>A1023</th>\n      <td>630-962-1162</td>\n      <td>Channing</td>\n      <td>Holland</td>\n    </tr>\n    <tr>\n      <th>A1024</th>\n      <td>607-929-1091</td>\n      <td>Roth</td>\n      <td>Nunez</td>\n    </tr>\n    <tr>\n      <th>A1025</th>\n      <td>679-505-2213</td>\n      <td>Anne</td>\n      <td>Sanders</td>\n    </tr>\n    <tr>\n      <th>A1026</th>\n      <td>852-561-0924</td>\n      <td>Erin</td>\n      <td>Puckett</td>\n    </tr>\n    <tr>\n      <th>A1027</th>\n      <td>620-969-5670</td>\n      <td>Evelyn</td>\n      <td>Harris</td>\n    </tr>\n    <tr>\n      <th>A1028</th>\n      <td>654-990-2627</td>\n      <td>Todd</td>\n      <td>Castillo</td>\n    </tr>\n    <tr>\n      <th>A1029</th>\n      <td>530-493-8306</td>\n      <td>Carson</td>\n      <td>Curry</td>\n    </tr>\n    <tr>\n      <th>A1030</th>\n      <td>594-789-4449</td>\n      <td>Savannah</td>\n      <td>Wood</td>\n    </tr>\n    <tr>\n      <th>...</th>\n      <td>...</td>\n      <td>...</td>\n      <td>...</td>\n    </tr>\n    <tr>\n      <th>A1071</th>\n      <td>411-883-7642</td>\n      <td>Ulla</td>\n      <td>Avery</td>\n    </tr>\n    <tr>\n      <th>A1072</th>\n      <td>736-791-1156</td>\n      <td>Ariana</td>\n      <td>Small</td>\n    </tr>\n    <tr>\n      <th>A1073</th>\n      <td>677-980-7326</td>\n      <td>Cleo</td>\n      <td>Moreno</td>\n    </tr>\n    <tr>\n      <th>A1074</th>\n      <td>697-777-7905</td>\n      <td>Reece</td>\n      <td>Ortega</td>\n    </tr>\n    <tr>\n      <th>A1075</th>\n      <td>279-445-6561</td>\n      <td>Ori</td>\n      <td>Cotton</td>\n    </tr>\n    <tr>\n      <th>A1076</th>\n      <td>207-872-8956</td>\n      <td>Harrison</td>\n      <td>Page</td>\n    </tr>\n    <tr>\n      <th>A1077</th>\n      <td>672-355-0177</td>\n      <td>Vaughan</td>\n      <td>Browning</td>\n    </tr>\n    <tr>\n      <th>A1078</th>\n      <td>384-530-6659</td>\n      <td>Kathleen</td>\n      <td>Mcconnell</td>\n    </tr>\n    <tr>\n      <th>A1079</th>\n      <td>241-622-2164</td>\n      <td>Todd</td>\n      <td>Le</td>\n    </tr>\n    <tr>\n      <th>A1080</th>\n      <td>178-836-2737</td>\n      <td>Hilel</td>\n      <td>Mcintyre</td>\n    </tr>\n    <tr>\n      <th>A1081</th>\n      <td>513-285-0257</td>\n      <td>MacKenzie</td>\n      <td>Finley</td>\n    </tr>\n    <tr>\n      <th>A1082</th>\n      <td>724-607-5594</td>\n      <td>Anika</td>\n      <td>Bates</td>\n    </tr>\n    <tr>\n      <th>A1083</th>\n      <td>655-277-9422</td>\n      <td>Caldwell</td>\n      <td>Winters</td>\n    </tr>\n    <tr>\n      <th>A1084</th>\n      <td>652-717-6070</td>\n      <td>Flynn</td>\n      <td>Odonnell</td>\n    </tr>\n    <tr>\n      <th>A1085</th>\n      <td>618-571-0200</td>\n      <td>Anthony</td>\n      <td>Whitley</td>\n    </tr>\n    <tr>\n      <th>A1086</th>\n      <td>422-508-6558</td>\n      <td>Amber</td>\n      <td>Bauer</td>\n    </tr>\n    <tr>\n      <th>A1087</th>\n      <td>920-271-2608</td>\n      <td>Melissa</td>\n      <td>Acosta</td>\n    </tr>\n    <tr>\n      <th>A1088</th>\n      <td>420-181-3711</td>\n      <td>Jessamine</td>\n      <td>Reeves</td>\n    </tr>\n    <tr>\n      <th>A1089</th>\n      <td>423-672-9066</td>\n      <td>Meredith</td>\n      <td>Carter</td>\n    </tr>\n    <tr>\n      <th>A1090</th>\n      <td>192-617-3694</td>\n      <td>Keelie</td>\n      <td>Fischer</td>\n    </tr>\n    <tr>\n      <th>A1091</th>\n      <td>963-621-8389</td>\n      <td>Thane</td>\n      <td>Jenkins</td>\n    </tr>\n    <tr>\n      <th>A1092</th>\n      <td>225-392-0669</td>\n      <td>Brandon</td>\n      <td>Joseph</td>\n    </tr>\n    <tr>\n      <th>A1093</th>\n      <td>421-485-3036</td>\n      <td>Latifah</td>\n      <td>Palmer</td>\n    </tr>\n    <tr>\n      <th>A1094</th>\n      <td>146-650-2279</td>\n      <td>Briar</td>\n      <td>Mccarthy</td>\n    </tr>\n    <tr>\n      <th>A1095</th>\n      <td>971-380-3157</td>\n      <td>Ori</td>\n      <td>Wise</td>\n    </tr>\n    <tr>\n      <th>A1096</th>\n      <td>801-950-2736</td>\n      <td>Carolyn</td>\n      <td>Reese</td>\n    </tr>\n    <tr>\n      <th>A1097</th>\n      <td>363-333-3522</td>\n      <td>Carla</td>\n      <td>Hardy</td>\n    </tr>\n    <tr>\n      <th>A1098</th>\n      <td>611-668-2294</td>\n      <td>Halla</td>\n      <td>Barker</td>\n    </tr>\n    <tr>\n      <th>A1099</th>\n      <td>162-830-7380</td>\n      <td>Joseph</td>\n      <td>Nunez</td>\n    </tr>\n    <tr>\n      <th>A1100</th>\n      <td>706-238-3765</td>\n      <td>Finn</td>\n      <td>Hamilton</td>\n    </tr>\n  </tbody>\n</table>\n<p>100 rows × 3 columns</p>\n</div>"
     },
     "metadata": {},
     "output_type": "execute_result",
     "execution_count": 93
    }
   ],
   "source": [
    "df = pd.read_excel('data.xlsx', 'Worksheet', index_col=0)\n",
    "df"
   ]
  },
  {
   "cell_type": "markdown",
   "metadata": {},
   "source": [
    "- If you don’t understand what a worksheet is, that workbook files can contain multiple worksheets, or why the name of a worksheet needs to be specified, read [this](https://www.excel-easy.com/basics/worksheets.html). \n",
    "Note that the second argument to the __read_excel__ method accepts integer arguments as an alternative to the worksheet name. \n",
    "\n",
    "- If you left the index column as __None__, a column of integers has been added to the left of the data in the worksheet. We’ll learn that we can use the elements in this column to access rows of the DataFrame, just like we use integers to access elements of a list. However, note that the 0th column in the original excel worksheet can (and should, in this case) be used as an index. Check out what happens when you change the index column to 0. The integer index column is not created; instead we can use the Member ID, a string, to refer to a particular row, just a key is used to access an element of a dictionary.\n"
   ]
  },
  {
   "cell_type": "markdown",
   "metadata": {},
   "source": [
    "## Viewing Data\n",
    "\n",
    "Now read [Viewing Data](https://pandas.pydata.org/pandas-docs/stable/getting_started/10min.html).\n",
    "- Try all the attributes (methods and instance variables) mentioned in the section on the data you imported from excel. \n",
    "- You’re going to see a lot of u“string”; the u indicates that the string is encoded using Unicode rather than ASCII. You don’t need to know this."
   ]
  },
  {
   "cell_type": "code",
   "execution_count": 94,
   "metadata": {
    "pycharm": {
     "is_executing": false
    }
   },
   "outputs": [
    {
     "data": {
      "text/plain": "                 Phone   First     Last\nMember #                               \nA1001     125-111-4978  Austin     Bell\nA1002     763-303-7544  Declan     Buck\nA1003     695-919-3789   Carol  Vazquez\nA1004     276-570-7451   Fleur   Dunlap\nA1005     498-479-7074   Garth   Potter",
      "text/html": "<div>\n<style scoped>\n    .dataframe tbody tr th:only-of-type {\n        vertical-align: middle;\n    }\n\n    .dataframe tbody tr th {\n        vertical-align: top;\n    }\n\n    .dataframe thead th {\n        text-align: right;\n    }\n</style>\n<table border=\"1\" class=\"dataframe\">\n  <thead>\n    <tr style=\"text-align: right;\">\n      <th></th>\n      <th>Phone</th>\n      <th>First</th>\n      <th>Last</th>\n    </tr>\n    <tr>\n      <th>Member #</th>\n      <th></th>\n      <th></th>\n      <th></th>\n    </tr>\n  </thead>\n  <tbody>\n    <tr>\n      <th>A1001</th>\n      <td>125-111-4978</td>\n      <td>Austin</td>\n      <td>Bell</td>\n    </tr>\n    <tr>\n      <th>A1002</th>\n      <td>763-303-7544</td>\n      <td>Declan</td>\n      <td>Buck</td>\n    </tr>\n    <tr>\n      <th>A1003</th>\n      <td>695-919-3789</td>\n      <td>Carol</td>\n      <td>Vazquez</td>\n    </tr>\n    <tr>\n      <th>A1004</th>\n      <td>276-570-7451</td>\n      <td>Fleur</td>\n      <td>Dunlap</td>\n    </tr>\n    <tr>\n      <th>A1005</th>\n      <td>498-479-7074</td>\n      <td>Garth</td>\n      <td>Potter</td>\n    </tr>\n  </tbody>\n</table>\n</div>"
     },
     "metadata": {},
     "output_type": "execute_result",
     "execution_count": 94
    }
   ],
   "source": [
    "df.head()"
   ]
  },
  {
   "cell_type": "code",
   "execution_count": 95,
   "metadata": {
    "pycharm": {
     "is_executing": false
    }
   },
   "outputs": [
    {
     "data": {
      "text/plain": "                 Phone    First      Last\nMember #                                 \nA1096     801-950-2736  Carolyn     Reese\nA1097     363-333-3522    Carla     Hardy\nA1098     611-668-2294    Halla    Barker\nA1099     162-830-7380   Joseph     Nunez\nA1100     706-238-3765     Finn  Hamilton",
      "text/html": "<div>\n<style scoped>\n    .dataframe tbody tr th:only-of-type {\n        vertical-align: middle;\n    }\n\n    .dataframe tbody tr th {\n        vertical-align: top;\n    }\n\n    .dataframe thead th {\n        text-align: right;\n    }\n</style>\n<table border=\"1\" class=\"dataframe\">\n  <thead>\n    <tr style=\"text-align: right;\">\n      <th></th>\n      <th>Phone</th>\n      <th>First</th>\n      <th>Last</th>\n    </tr>\n    <tr>\n      <th>Member #</th>\n      <th></th>\n      <th></th>\n      <th></th>\n    </tr>\n  </thead>\n  <tbody>\n    <tr>\n      <th>A1096</th>\n      <td>801-950-2736</td>\n      <td>Carolyn</td>\n      <td>Reese</td>\n    </tr>\n    <tr>\n      <th>A1097</th>\n      <td>363-333-3522</td>\n      <td>Carla</td>\n      <td>Hardy</td>\n    </tr>\n    <tr>\n      <th>A1098</th>\n      <td>611-668-2294</td>\n      <td>Halla</td>\n      <td>Barker</td>\n    </tr>\n    <tr>\n      <th>A1099</th>\n      <td>162-830-7380</td>\n      <td>Joseph</td>\n      <td>Nunez</td>\n    </tr>\n    <tr>\n      <th>A1100</th>\n      <td>706-238-3765</td>\n      <td>Finn</td>\n      <td>Hamilton</td>\n    </tr>\n  </tbody>\n</table>\n</div>"
     },
     "metadata": {},
     "output_type": "execute_result",
     "execution_count": 95
    }
   ],
   "source": [
    "df.tail()"
   ]
  },
  {
   "cell_type": "code",
   "execution_count": 96,
   "metadata": {
    "pycharm": {
     "is_executing": false
    }
   },
   "outputs": [
    {
     "data": {
      "text/plain": "Index([u'A1001', u'A1002', u'A1003', u'A1004', u'A1005', u'A1006', u'A1007',\n       u'A1008', u'A1009', u'A1010', u'A1011', u'A1012', u'A1013', u'A1014',\n       u'A1015', u'A1016', u'A1017', u'A1018', u'A1019', u'A1020', u'A1021',\n       u'A1022', u'A1023', u'A1024', u'A1025', u'A1026', u'A1027', u'A1028',\n       u'A1029', u'A1030', u'A1031', u'A1032', u'A1033', u'A1034', u'A1035',\n       u'A1036', u'A1037', u'A1038', u'A1039', u'A1040', u'A1041', u'A1042',\n       u'A1043', u'A1044', u'A1045', u'A1046', u'A1047', u'A1048', u'A1049',\n       u'A1050', u'A1051', u'A1052', u'A1053', u'A1054', u'A1055', u'A1056',\n       u'A1057', u'A1058', u'A1059', u'A1060', u'A1061', u'A1062', u'A1063',\n       u'A1064', u'A1065', u'A1066', u'A1067', u'A1068', u'A1069', u'A1070',\n       u'A1071', u'A1072', u'A1073', u'A1074', u'A1075', u'A1076', u'A1077',\n       u'A1078', u'A1079', u'A1080', u'A1081', u'A1082', u'A1083', u'A1084',\n       u'A1085', u'A1086', u'A1087', u'A1088', u'A1089', u'A1090', u'A1091',\n       u'A1092', u'A1093', u'A1094', u'A1095', u'A1096', u'A1097', u'A1098',\n       u'A1099', u'A1100'],\n      dtype='object', name=u'Member #')"
     },
     "metadata": {},
     "output_type": "execute_result",
     "execution_count": 96
    }
   ],
   "source": [
    "df.index"
   ]
  },
  {
   "cell_type": "code",
   "execution_count": 97,
   "metadata": {
    "pycharm": {
     "is_executing": false
    }
   },
   "outputs": [
    {
     "data": {
      "text/plain": "Index([u'Phone', u'First', u'Last'], dtype='object')"
     },
     "metadata": {},
     "output_type": "execute_result",
     "execution_count": 97
    }
   ],
   "source": [
    "df.columns"
   ]
  },
  {
   "cell_type": "code",
   "execution_count": 98,
   "metadata": {
    "pycharm": {
     "is_executing": false
    }
   },
   "outputs": [
    {
     "data": {
      "text/plain": "array([[u'125-111-4978', u'Austin', u'Bell'],\n       [u'763-303-7544', u'Declan', u'Buck'],\n       [u'695-919-3789', u'Carol', u'Vazquez'],\n       [u'276-570-7451', u'Fleur', u'Dunlap'],\n       [u'498-479-7074', u'Garth', u'Potter'],\n       [u'139-907-8100', u'Martena', u'Jenkins'],\n       [u'893-406-0425', u'Emmanuel', u'Morgan'],\n       [u'205-472-5798', u'Hoyt', u'Tillman'],\n       [u'820-847-5666', u'Tana', u'Vazquez'],\n       [u'186-115-8489', u'Kitra', u'Jordan'],\n       [u'287-177-2909', u'Jenna', u'Strong'],\n       [u'899-323-0486', u'Helen', u'Sheppard'],\n       [u'614-992-6830', u'Michael', u'Franco'],\n       [u'572-564-7938', u'Imani', u'Byers'],\n       [u'937-238-8313', u'Wendy', u'Stout'],\n       [u'455-370-9268', u'Walker', u'Edwards'],\n       [u'337-350-0922', u'Yael', u'Lamb'],\n       [u'353-651-7605', u'Baxter', u'Charles'],\n       [u'136-956-6416', u'Yen', u'Stein'],\n       [u'482-431-3179', u'Perry', u'Ray'],\n       [u'259-589-0664', u'Alexander', u'Patrick'],\n       [u'601-488-1174', u'Irene', u'Cantrell'],\n       [u'630-962-1162', u'Channing', u'Holland'],\n       [u'607-929-1091', u'Roth', u'Nunez'],\n       [u'679-505-2213', u'Anne', u'Sanders'],\n       [u'852-561-0924', u'Erin', u'Puckett'],\n       [u'620-969-5670', u'Evelyn', u'Harris'],\n       [u'654-990-2627', u'Todd', u'Castillo'],\n       [u'530-493-8306', u'Carson', u'Curry'],\n       [u'594-789-4449', u'Savannah', u'Wood'],\n       [u'834-211-7419', u'Ruby', u'Mcgee'],\n       [u'242-558-4196', u'Meredith', u'Wilkerson'],\n       [u'406-131-3525', u'Calvin', u'Schroeder'],\n       [u'548-715-2455', u'Farrah', u'Rowe'],\n       [u'631-323-8493', u'Lewis', u'Witt'],\n       [u'239-411-7282', u'Wallace', u'Blackwell'],\n       [u'364-584-1094', u'Melodie', u'Maldonado'],\n       [u'583-430-3157', u'Nita', u'Mitchell'],\n       [u'905-550-4518', u'Edward', u'Mcclure'],\n       [u'474-992-6615', u'Ariel', u'Alford'],\n       [u'426-318-6825', u'Hiroko', u'Reed'],\n       [u'598-729-8144', u'Ariel', u'Solomon'],\n       [u'134-819-9669', u'Anjolie', u'Melton'],\n       [u'512-229-3963', u'Jillian', u'Mcfadden'],\n       [u'399-792-2059', u'Quinlan', u'Berger'],\n       [u'792-950-8116', u'Dillon', u'Campos'],\n       [u'619-948-4860', u'Scarlett', u'Browning'],\n       [u'771-964-9335', u'Kaitlin', u'Kemp'],\n       [u'556-992-2754', u'Summer', u'Justice'],\n       [u'788-756-7054', u'Jena', u'Garcia'],\n       [u'145-839-1115', u'Tasha', u'Hickman'],\n       [u'789-767-9574', u'Chaney', u'Meadows'],\n       [u'272-446-0526', u'Lila', u'Whitehead'],\n       [u'569-719-7376', u'Raven', u'Randolph'],\n       [u'532-537-4622', u'Amal', u'Cooke'],\n       [u'464-812-6144', u'Leonard', u'Green'],\n       [u'710-973-1741', u'Fredericka', u'Shaw'],\n       [u'368-224-3826', u'Illiana', u'Jennings'],\n       [u'725-843-4084', u'Lara', u'Conner'],\n       [u'242-782-8361', u'Tatum', u'Le'],\n       [u'740-286-2241', u'Trevor', u'Wade'],\n       [u'865-365-7405', u'Michael', u'Fuller'],\n       [u'443-699-5862', u'Sharon', u'Wallace'],\n       [u'576-202-7486', u'Nevada', u'Whitfield'],\n       [u'926-479-4319', u'Dieter', u'Hampton'],\n       [u'677-234-5220', u'Camille', u'Brown'],\n       [u'596-606-9735', u'Margaret', u'Parker'],\n       [u'477-476-5041', u'Jonah', u'Rivas'],\n       [u'182-733-6396', u'Grace', u'Shelton'],\n       [u'301-987-3246', u'Summer', u'Tanner'],\n       [u'411-883-7642', u'Ulla', u'Avery'],\n       [u'736-791-1156', u'Ariana', u'Small'],\n       [u'677-980-7326', u'Cleo', u'Moreno'],\n       [u'697-777-7905', u'Reece', u'Ortega'],\n       [u'279-445-6561', u'Ori', u'Cotton'],\n       [u'207-872-8956', u'Harrison', u'Page'],\n       [u'672-355-0177', u'Vaughan', u'Browning'],\n       [u'384-530-6659', u'Kathleen', u'Mcconnell'],\n       [u'241-622-2164', u'Todd', u'Le'],\n       [u'178-836-2737', u'Hilel', u'Mcintyre'],\n       [u'513-285-0257', u'MacKenzie', u'Finley'],\n       [u'724-607-5594', u'Anika', u'Bates'],\n       [u'655-277-9422', u'Caldwell', u'Winters'],\n       [u'652-717-6070', u'Flynn', u'Odonnell'],\n       [u'618-571-0200', u'Anthony', u'Whitley'],\n       [u'422-508-6558', u'Amber', u'Bauer'],\n       [u'920-271-2608', u'Melissa', u'Acosta'],\n       [u'420-181-3711', u'Jessamine', u'Reeves'],\n       [u'423-672-9066', u'Meredith', u'Carter'],\n       [u'192-617-3694', u'Keelie', u'Fischer'],\n       [u'963-621-8389', u'Thane', u'Jenkins'],\n       [u'225-392-0669', u'Brandon', u'Joseph'],\n       [u'421-485-3036', u'Latifah', u'Palmer'],\n       [u'146-650-2279', u'Briar', u'Mccarthy'],\n       [u'971-380-3157', u'Ori', u'Wise'],\n       [u'801-950-2736', u'Carolyn', u'Reese'],\n       [u'363-333-3522', u'Carla', u'Hardy'],\n       [u'611-668-2294', u'Halla', u'Barker'],\n       [u'162-830-7380', u'Joseph', u'Nunez'],\n       [u'706-238-3765', u'Finn', u'Hamilton']], dtype=object)"
     },
     "metadata": {},
     "output_type": "execute_result",
     "execution_count": 98
    }
   ],
   "source": [
    "df.values"
   ]
  },
  {
   "cell_type": "code",
   "execution_count": 99,
   "metadata": {
    "pycharm": {
     "is_executing": false
    }
   },
   "outputs": [
    {
     "data": {
      "text/plain": "               Phone     First     Last\ncount            100       100      100\nunique           100        94       95\ntop     207-872-8956  Meredith  Vazquez\nfreq               1         2        2",
      "text/html": "<div>\n<style scoped>\n    .dataframe tbody tr th:only-of-type {\n        vertical-align: middle;\n    }\n\n    .dataframe tbody tr th {\n        vertical-align: top;\n    }\n\n    .dataframe thead th {\n        text-align: right;\n    }\n</style>\n<table border=\"1\" class=\"dataframe\">\n  <thead>\n    <tr style=\"text-align: right;\">\n      <th></th>\n      <th>Phone</th>\n      <th>First</th>\n      <th>Last</th>\n    </tr>\n  </thead>\n  <tbody>\n    <tr>\n      <th>count</th>\n      <td>100</td>\n      <td>100</td>\n      <td>100</td>\n    </tr>\n    <tr>\n      <th>unique</th>\n      <td>100</td>\n      <td>94</td>\n      <td>95</td>\n    </tr>\n    <tr>\n      <th>top</th>\n      <td>207-872-8956</td>\n      <td>Meredith</td>\n      <td>Vazquez</td>\n    </tr>\n    <tr>\n      <th>freq</th>\n      <td>1</td>\n      <td>2</td>\n      <td>2</td>\n    </tr>\n  </tbody>\n</table>\n</div>"
     },
     "metadata": {},
     "output_type": "execute_result",
     "execution_count": 99
    }
   ],
   "source": [
    "df.describe()"
   ]
  },
  {
   "cell_type": "code",
   "execution_count": 100,
   "metadata": {
    "pycharm": {
     "is_executing": false
    }
   },
   "outputs": [
    {
     "data": {
      "text/plain": "Member #         A1001         A1002         A1003         A1004  \\\nPhone     125-111-4978  763-303-7544  695-919-3789  276-570-7451   \nFirst           Austin        Declan         Carol         Fleur   \nLast              Bell          Buck       Vazquez        Dunlap   \n\nMember #         A1005         A1006         A1007         A1008  \\\nPhone     498-479-7074  139-907-8100  893-406-0425  205-472-5798   \nFirst            Garth       Martena      Emmanuel          Hoyt   \nLast            Potter       Jenkins        Morgan       Tillman   \n\nMember #         A1009         A1010  ...         A1091         A1092  \\\nPhone     820-847-5666  186-115-8489  ...  963-621-8389  225-392-0669   \nFirst             Tana         Kitra  ...         Thane       Brandon   \nLast           Vazquez        Jordan  ...       Jenkins        Joseph   \n\nMember #         A1093         A1094         A1095         A1096  \\\nPhone     421-485-3036  146-650-2279  971-380-3157  801-950-2736   \nFirst          Latifah         Briar           Ori       Carolyn   \nLast            Palmer      Mccarthy          Wise         Reese   \n\nMember #         A1097         A1098         A1099         A1100  \nPhone     363-333-3522  611-668-2294  162-830-7380  706-238-3765  \nFirst            Carla         Halla        Joseph          Finn  \nLast             Hardy        Barker         Nunez      Hamilton  \n\n[3 rows x 100 columns]",
      "text/html": "<div>\n<style scoped>\n    .dataframe tbody tr th:only-of-type {\n        vertical-align: middle;\n    }\n\n    .dataframe tbody tr th {\n        vertical-align: top;\n    }\n\n    .dataframe thead th {\n        text-align: right;\n    }\n</style>\n<table border=\"1\" class=\"dataframe\">\n  <thead>\n    <tr style=\"text-align: right;\">\n      <th>Member #</th>\n      <th>A1001</th>\n      <th>A1002</th>\n      <th>A1003</th>\n      <th>A1004</th>\n      <th>A1005</th>\n      <th>A1006</th>\n      <th>A1007</th>\n      <th>A1008</th>\n      <th>A1009</th>\n      <th>A1010</th>\n      <th>...</th>\n      <th>A1091</th>\n      <th>A1092</th>\n      <th>A1093</th>\n      <th>A1094</th>\n      <th>A1095</th>\n      <th>A1096</th>\n      <th>A1097</th>\n      <th>A1098</th>\n      <th>A1099</th>\n      <th>A1100</th>\n    </tr>\n  </thead>\n  <tbody>\n    <tr>\n      <th>Phone</th>\n      <td>125-111-4978</td>\n      <td>763-303-7544</td>\n      <td>695-919-3789</td>\n      <td>276-570-7451</td>\n      <td>498-479-7074</td>\n      <td>139-907-8100</td>\n      <td>893-406-0425</td>\n      <td>205-472-5798</td>\n      <td>820-847-5666</td>\n      <td>186-115-8489</td>\n      <td>...</td>\n      <td>963-621-8389</td>\n      <td>225-392-0669</td>\n      <td>421-485-3036</td>\n      <td>146-650-2279</td>\n      <td>971-380-3157</td>\n      <td>801-950-2736</td>\n      <td>363-333-3522</td>\n      <td>611-668-2294</td>\n      <td>162-830-7380</td>\n      <td>706-238-3765</td>\n    </tr>\n    <tr>\n      <th>First</th>\n      <td>Austin</td>\n      <td>Declan</td>\n      <td>Carol</td>\n      <td>Fleur</td>\n      <td>Garth</td>\n      <td>Martena</td>\n      <td>Emmanuel</td>\n      <td>Hoyt</td>\n      <td>Tana</td>\n      <td>Kitra</td>\n      <td>...</td>\n      <td>Thane</td>\n      <td>Brandon</td>\n      <td>Latifah</td>\n      <td>Briar</td>\n      <td>Ori</td>\n      <td>Carolyn</td>\n      <td>Carla</td>\n      <td>Halla</td>\n      <td>Joseph</td>\n      <td>Finn</td>\n    </tr>\n    <tr>\n      <th>Last</th>\n      <td>Bell</td>\n      <td>Buck</td>\n      <td>Vazquez</td>\n      <td>Dunlap</td>\n      <td>Potter</td>\n      <td>Jenkins</td>\n      <td>Morgan</td>\n      <td>Tillman</td>\n      <td>Vazquez</td>\n      <td>Jordan</td>\n      <td>...</td>\n      <td>Jenkins</td>\n      <td>Joseph</td>\n      <td>Palmer</td>\n      <td>Mccarthy</td>\n      <td>Wise</td>\n      <td>Reese</td>\n      <td>Hardy</td>\n      <td>Barker</td>\n      <td>Nunez</td>\n      <td>Hamilton</td>\n    </tr>\n  </tbody>\n</table>\n<p>3 rows × 100 columns</p>\n</div>"
     },
     "metadata": {},
     "output_type": "execute_result",
     "execution_count": 100
    }
   ],
   "source": [
    "df.T\n",
    "# print df.to_numpy()"
   ]
  },
  {
   "cell_type": "markdown",
   "metadata": {},
   "source": [
    "Try different values for axis and ascending to explore what is going on. Can you reverse the order of the rows? Columns?"
   ]
  },
  {
   "cell_type": "code",
   "execution_count": 101,
   "metadata": {
    "pycharm": {
     "is_executing": false
    }
   },
   "outputs": [
    {
     "data": {
      "text/plain": "                 Phone      First       Last\nMember #                                    \nA1001     125-111-4978     Austin       Bell\nA1002     763-303-7544     Declan       Buck\nA1003     695-919-3789      Carol    Vazquez\nA1004     276-570-7451      Fleur     Dunlap\nA1005     498-479-7074      Garth     Potter\nA1006     139-907-8100    Martena    Jenkins\nA1007     893-406-0425   Emmanuel     Morgan\nA1008     205-472-5798       Hoyt    Tillman\nA1009     820-847-5666       Tana    Vazquez\nA1010     186-115-8489      Kitra     Jordan\nA1011     287-177-2909      Jenna     Strong\nA1012     899-323-0486      Helen   Sheppard\nA1013     614-992-6830    Michael     Franco\nA1014     572-564-7938      Imani      Byers\nA1015     937-238-8313      Wendy      Stout\nA1016     455-370-9268     Walker    Edwards\nA1017     337-350-0922       Yael       Lamb\nA1018     353-651-7605     Baxter    Charles\nA1019     136-956-6416        Yen      Stein\nA1020     482-431-3179      Perry        Ray\nA1021     259-589-0664  Alexander    Patrick\nA1022     601-488-1174      Irene   Cantrell\nA1023     630-962-1162   Channing    Holland\nA1024     607-929-1091       Roth      Nunez\nA1025     679-505-2213       Anne    Sanders\nA1026     852-561-0924       Erin    Puckett\nA1027     620-969-5670     Evelyn     Harris\nA1028     654-990-2627       Todd   Castillo\nA1029     530-493-8306     Carson      Curry\nA1030     594-789-4449   Savannah       Wood\n...                ...        ...        ...\nA1071     411-883-7642       Ulla      Avery\nA1072     736-791-1156     Ariana      Small\nA1073     677-980-7326       Cleo     Moreno\nA1074     697-777-7905      Reece     Ortega\nA1075     279-445-6561        Ori     Cotton\nA1076     207-872-8956   Harrison       Page\nA1077     672-355-0177    Vaughan   Browning\nA1078     384-530-6659   Kathleen  Mcconnell\nA1079     241-622-2164       Todd         Le\nA1080     178-836-2737      Hilel   Mcintyre\nA1081     513-285-0257  MacKenzie     Finley\nA1082     724-607-5594      Anika      Bates\nA1083     655-277-9422   Caldwell    Winters\nA1084     652-717-6070      Flynn   Odonnell\nA1085     618-571-0200    Anthony    Whitley\nA1086     422-508-6558      Amber      Bauer\nA1087     920-271-2608    Melissa     Acosta\nA1088     420-181-3711  Jessamine     Reeves\nA1089     423-672-9066   Meredith     Carter\nA1090     192-617-3694     Keelie    Fischer\nA1091     963-621-8389      Thane    Jenkins\nA1092     225-392-0669    Brandon     Joseph\nA1093     421-485-3036    Latifah     Palmer\nA1094     146-650-2279      Briar   Mccarthy\nA1095     971-380-3157        Ori       Wise\nA1096     801-950-2736    Carolyn      Reese\nA1097     363-333-3522      Carla      Hardy\nA1098     611-668-2294      Halla     Barker\nA1099     162-830-7380     Joseph      Nunez\nA1100     706-238-3765       Finn   Hamilton\n\n[100 rows x 3 columns]",
      "text/html": "<div>\n<style scoped>\n    .dataframe tbody tr th:only-of-type {\n        vertical-align: middle;\n    }\n\n    .dataframe tbody tr th {\n        vertical-align: top;\n    }\n\n    .dataframe thead th {\n        text-align: right;\n    }\n</style>\n<table border=\"1\" class=\"dataframe\">\n  <thead>\n    <tr style=\"text-align: right;\">\n      <th></th>\n      <th>Phone</th>\n      <th>First</th>\n      <th>Last</th>\n    </tr>\n    <tr>\n      <th>Member #</th>\n      <th></th>\n      <th></th>\n      <th></th>\n    </tr>\n  </thead>\n  <tbody>\n    <tr>\n      <th>A1001</th>\n      <td>125-111-4978</td>\n      <td>Austin</td>\n      <td>Bell</td>\n    </tr>\n    <tr>\n      <th>A1002</th>\n      <td>763-303-7544</td>\n      <td>Declan</td>\n      <td>Buck</td>\n    </tr>\n    <tr>\n      <th>A1003</th>\n      <td>695-919-3789</td>\n      <td>Carol</td>\n      <td>Vazquez</td>\n    </tr>\n    <tr>\n      <th>A1004</th>\n      <td>276-570-7451</td>\n      <td>Fleur</td>\n      <td>Dunlap</td>\n    </tr>\n    <tr>\n      <th>A1005</th>\n      <td>498-479-7074</td>\n      <td>Garth</td>\n      <td>Potter</td>\n    </tr>\n    <tr>\n      <th>A1006</th>\n      <td>139-907-8100</td>\n      <td>Martena</td>\n      <td>Jenkins</td>\n    </tr>\n    <tr>\n      <th>A1007</th>\n      <td>893-406-0425</td>\n      <td>Emmanuel</td>\n      <td>Morgan</td>\n    </tr>\n    <tr>\n      <th>A1008</th>\n      <td>205-472-5798</td>\n      <td>Hoyt</td>\n      <td>Tillman</td>\n    </tr>\n    <tr>\n      <th>A1009</th>\n      <td>820-847-5666</td>\n      <td>Tana</td>\n      <td>Vazquez</td>\n    </tr>\n    <tr>\n      <th>A1010</th>\n      <td>186-115-8489</td>\n      <td>Kitra</td>\n      <td>Jordan</td>\n    </tr>\n    <tr>\n      <th>A1011</th>\n      <td>287-177-2909</td>\n      <td>Jenna</td>\n      <td>Strong</td>\n    </tr>\n    <tr>\n      <th>A1012</th>\n      <td>899-323-0486</td>\n      <td>Helen</td>\n      <td>Sheppard</td>\n    </tr>\n    <tr>\n      <th>A1013</th>\n      <td>614-992-6830</td>\n      <td>Michael</td>\n      <td>Franco</td>\n    </tr>\n    <tr>\n      <th>A1014</th>\n      <td>572-564-7938</td>\n      <td>Imani</td>\n      <td>Byers</td>\n    </tr>\n    <tr>\n      <th>A1015</th>\n      <td>937-238-8313</td>\n      <td>Wendy</td>\n      <td>Stout</td>\n    </tr>\n    <tr>\n      <th>A1016</th>\n      <td>455-370-9268</td>\n      <td>Walker</td>\n      <td>Edwards</td>\n    </tr>\n    <tr>\n      <th>A1017</th>\n      <td>337-350-0922</td>\n      <td>Yael</td>\n      <td>Lamb</td>\n    </tr>\n    <tr>\n      <th>A1018</th>\n      <td>353-651-7605</td>\n      <td>Baxter</td>\n      <td>Charles</td>\n    </tr>\n    <tr>\n      <th>A1019</th>\n      <td>136-956-6416</td>\n      <td>Yen</td>\n      <td>Stein</td>\n    </tr>\n    <tr>\n      <th>A1020</th>\n      <td>482-431-3179</td>\n      <td>Perry</td>\n      <td>Ray</td>\n    </tr>\n    <tr>\n      <th>A1021</th>\n      <td>259-589-0664</td>\n      <td>Alexander</td>\n      <td>Patrick</td>\n    </tr>\n    <tr>\n      <th>A1022</th>\n      <td>601-488-1174</td>\n      <td>Irene</td>\n      <td>Cantrell</td>\n    </tr>\n    <tr>\n      <th>A1023</th>\n      <td>630-962-1162</td>\n      <td>Channing</td>\n      <td>Holland</td>\n    </tr>\n    <tr>\n      <th>A1024</th>\n      <td>607-929-1091</td>\n      <td>Roth</td>\n      <td>Nunez</td>\n    </tr>\n    <tr>\n      <th>A1025</th>\n      <td>679-505-2213</td>\n      <td>Anne</td>\n      <td>Sanders</td>\n    </tr>\n    <tr>\n      <th>A1026</th>\n      <td>852-561-0924</td>\n      <td>Erin</td>\n      <td>Puckett</td>\n    </tr>\n    <tr>\n      <th>A1027</th>\n      <td>620-969-5670</td>\n      <td>Evelyn</td>\n      <td>Harris</td>\n    </tr>\n    <tr>\n      <th>A1028</th>\n      <td>654-990-2627</td>\n      <td>Todd</td>\n      <td>Castillo</td>\n    </tr>\n    <tr>\n      <th>A1029</th>\n      <td>530-493-8306</td>\n      <td>Carson</td>\n      <td>Curry</td>\n    </tr>\n    <tr>\n      <th>A1030</th>\n      <td>594-789-4449</td>\n      <td>Savannah</td>\n      <td>Wood</td>\n    </tr>\n    <tr>\n      <th>...</th>\n      <td>...</td>\n      <td>...</td>\n      <td>...</td>\n    </tr>\n    <tr>\n      <th>A1071</th>\n      <td>411-883-7642</td>\n      <td>Ulla</td>\n      <td>Avery</td>\n    </tr>\n    <tr>\n      <th>A1072</th>\n      <td>736-791-1156</td>\n      <td>Ariana</td>\n      <td>Small</td>\n    </tr>\n    <tr>\n      <th>A1073</th>\n      <td>677-980-7326</td>\n      <td>Cleo</td>\n      <td>Moreno</td>\n    </tr>\n    <tr>\n      <th>A1074</th>\n      <td>697-777-7905</td>\n      <td>Reece</td>\n      <td>Ortega</td>\n    </tr>\n    <tr>\n      <th>A1075</th>\n      <td>279-445-6561</td>\n      <td>Ori</td>\n      <td>Cotton</td>\n    </tr>\n    <tr>\n      <th>A1076</th>\n      <td>207-872-8956</td>\n      <td>Harrison</td>\n      <td>Page</td>\n    </tr>\n    <tr>\n      <th>A1077</th>\n      <td>672-355-0177</td>\n      <td>Vaughan</td>\n      <td>Browning</td>\n    </tr>\n    <tr>\n      <th>A1078</th>\n      <td>384-530-6659</td>\n      <td>Kathleen</td>\n      <td>Mcconnell</td>\n    </tr>\n    <tr>\n      <th>A1079</th>\n      <td>241-622-2164</td>\n      <td>Todd</td>\n      <td>Le</td>\n    </tr>\n    <tr>\n      <th>A1080</th>\n      <td>178-836-2737</td>\n      <td>Hilel</td>\n      <td>Mcintyre</td>\n    </tr>\n    <tr>\n      <th>A1081</th>\n      <td>513-285-0257</td>\n      <td>MacKenzie</td>\n      <td>Finley</td>\n    </tr>\n    <tr>\n      <th>A1082</th>\n      <td>724-607-5594</td>\n      <td>Anika</td>\n      <td>Bates</td>\n    </tr>\n    <tr>\n      <th>A1083</th>\n      <td>655-277-9422</td>\n      <td>Caldwell</td>\n      <td>Winters</td>\n    </tr>\n    <tr>\n      <th>A1084</th>\n      <td>652-717-6070</td>\n      <td>Flynn</td>\n      <td>Odonnell</td>\n    </tr>\n    <tr>\n      <th>A1085</th>\n      <td>618-571-0200</td>\n      <td>Anthony</td>\n      <td>Whitley</td>\n    </tr>\n    <tr>\n      <th>A1086</th>\n      <td>422-508-6558</td>\n      <td>Amber</td>\n      <td>Bauer</td>\n    </tr>\n    <tr>\n      <th>A1087</th>\n      <td>920-271-2608</td>\n      <td>Melissa</td>\n      <td>Acosta</td>\n    </tr>\n    <tr>\n      <th>A1088</th>\n      <td>420-181-3711</td>\n      <td>Jessamine</td>\n      <td>Reeves</td>\n    </tr>\n    <tr>\n      <th>A1089</th>\n      <td>423-672-9066</td>\n      <td>Meredith</td>\n      <td>Carter</td>\n    </tr>\n    <tr>\n      <th>A1090</th>\n      <td>192-617-3694</td>\n      <td>Keelie</td>\n      <td>Fischer</td>\n    </tr>\n    <tr>\n      <th>A1091</th>\n      <td>963-621-8389</td>\n      <td>Thane</td>\n      <td>Jenkins</td>\n    </tr>\n    <tr>\n      <th>A1092</th>\n      <td>225-392-0669</td>\n      <td>Brandon</td>\n      <td>Joseph</td>\n    </tr>\n    <tr>\n      <th>A1093</th>\n      <td>421-485-3036</td>\n      <td>Latifah</td>\n      <td>Palmer</td>\n    </tr>\n    <tr>\n      <th>A1094</th>\n      <td>146-650-2279</td>\n      <td>Briar</td>\n      <td>Mccarthy</td>\n    </tr>\n    <tr>\n      <th>A1095</th>\n      <td>971-380-3157</td>\n      <td>Ori</td>\n      <td>Wise</td>\n    </tr>\n    <tr>\n      <th>A1096</th>\n      <td>801-950-2736</td>\n      <td>Carolyn</td>\n      <td>Reese</td>\n    </tr>\n    <tr>\n      <th>A1097</th>\n      <td>363-333-3522</td>\n      <td>Carla</td>\n      <td>Hardy</td>\n    </tr>\n    <tr>\n      <th>A1098</th>\n      <td>611-668-2294</td>\n      <td>Halla</td>\n      <td>Barker</td>\n    </tr>\n    <tr>\n      <th>A1099</th>\n      <td>162-830-7380</td>\n      <td>Joseph</td>\n      <td>Nunez</td>\n    </tr>\n    <tr>\n      <th>A1100</th>\n      <td>706-238-3765</td>\n      <td>Finn</td>\n      <td>Hamilton</td>\n    </tr>\n  </tbody>\n</table>\n<p>100 rows × 3 columns</p>\n</div>"
     },
     "metadata": {},
     "output_type": "execute_result",
     "execution_count": 101
    }
   ],
   "source": [
    "df.sort_index(axis=0, ascending=True)"
   ]
  },
  {
   "cell_type": "markdown",
   "metadata": {},
   "source": [
    "- Can you sort the data by First Name or Last Name instead of by Member Number?"
   ]
  },
  {
   "cell_type": "code",
   "execution_count": 126,
   "metadata": {
    "pycharm": {
     "is_executing": false
    }
   },
   "outputs": [
    {
     "data": {
      "text/plain": "                 Phone       First       Last\nMember #                                     \nA1018     353-651-7605      Baxter    Charles\nA1092     225-392-0669     Brandon     Joseph\nA1094     146-650-2279       Briar   Mccarthy\nA1083     655-277-9422    Caldwell    Winters\nA1033     406-131-3525      Calvin  Schroeder\nA1066     677-234-5220     Camille      Brown\nA1097     363-333-3522       Carla      Hardy\nA1003     695-919-3789       Carol    Vazquez\nA1096     801-950-2736     Carolyn      Reese\nA1029     530-493-8306      Carson      Curry\nA1052     789-767-9574      Chaney    Meadows\nA1023     630-962-1162    Channing    Holland\nA1073     677-980-7326        Cleo     Moreno\nA1002     763-303-7544      Declan       Buck\nA1065     926-479-4319      Dieter    Hampton\nA1046     792-950-8116      Dillon     Campos\nA1039     905-550-4518      Edward    Mcclure\nA1007     893-406-0425    Emmanuel     Morgan\nA1026     852-561-0924        Erin    Puckett\nA1027     620-969-5670      Evelyn     Harris\nA1034     548-715-2455      Farrah       Rowe\nA1100     706-238-3765        Finn   Hamilton\nA1004     276-570-7451       Fleur     Dunlap\nA1084     652-717-6070       Flynn   Odonnell\nA1057     710-973-1741  Fredericka       Shaw\nA1005     498-479-7074       Garth     Potter\nA1069     182-733-6396       Grace    Shelton\nA1098     611-668-2294       Halla     Barker\nA1076     207-872-8956    Harrison       Page\nA1012     899-323-0486       Helen   Sheppard\n...                ...         ...        ...\nA1030     594-789-4449    Savannah       Wood\nA1047     619-948-4860    Scarlett   Browning\nA1063     443-699-5862      Sharon    Wallace\nA1049     556-992-2754      Summer    Justice\nA1070     301-987-3246      Summer     Tanner\nA1009     820-847-5666        Tana    Vazquez\nA1051     145-839-1115       Tasha    Hickman\nA1060     242-782-8361       Tatum         Le\nA1091     963-621-8389       Thane    Jenkins\nA1028     654-990-2627        Todd   Castillo\nA1079     241-622-2164        Todd         Le\nA1061     740-286-2241      Trevor       Wade\nA1071     411-883-7642        Ulla      Avery\nA1086     422-508-6558     Unicorn      Bauer\nA1021     259-589-0664     Unicorn    Patrick\nA1082     724-607-5594     Unicorn      Bates\nA1072     736-791-1156     Unicorn      Small\nA1025     679-505-2213     Unicorn    Sanders\nA1055     532-537-4622     Unicorn      Cooke\nA1043     134-819-9669     Unicorn     Melton\nA1042     598-729-8144     Unicorn    Solomon\nA1040     474-992-6615     Unicorn     Alford\nA1085     618-571-0200     Unicorn    Whitley\nA1001     125-111-4978     Unicorn       Bell\nA1077     672-355-0177     Vaughan   Browning\nA1016     455-370-9268      Walker    Edwards\nA1036     239-411-7282     Wallace  Blackwell\nA1015     937-238-8313       Wendy      Stout\nA1017     337-350-0922        Yael       Lamb\nA1019     136-956-6416         Yen      Stein\n\n[100 rows x 3 columns]",
      "text/html": "<div>\n<style scoped>\n    .dataframe tbody tr th:only-of-type {\n        vertical-align: middle;\n    }\n\n    .dataframe tbody tr th {\n        vertical-align: top;\n    }\n\n    .dataframe thead th {\n        text-align: right;\n    }\n</style>\n<table border=\"1\" class=\"dataframe\">\n  <thead>\n    <tr style=\"text-align: right;\">\n      <th></th>\n      <th>Phone</th>\n      <th>First</th>\n      <th>Last</th>\n    </tr>\n    <tr>\n      <th>Member #</th>\n      <th></th>\n      <th></th>\n      <th></th>\n    </tr>\n  </thead>\n  <tbody>\n    <tr>\n      <th>A1018</th>\n      <td>353-651-7605</td>\n      <td>Baxter</td>\n      <td>Charles</td>\n    </tr>\n    <tr>\n      <th>A1092</th>\n      <td>225-392-0669</td>\n      <td>Brandon</td>\n      <td>Joseph</td>\n    </tr>\n    <tr>\n      <th>A1094</th>\n      <td>146-650-2279</td>\n      <td>Briar</td>\n      <td>Mccarthy</td>\n    </tr>\n    <tr>\n      <th>A1083</th>\n      <td>655-277-9422</td>\n      <td>Caldwell</td>\n      <td>Winters</td>\n    </tr>\n    <tr>\n      <th>A1033</th>\n      <td>406-131-3525</td>\n      <td>Calvin</td>\n      <td>Schroeder</td>\n    </tr>\n    <tr>\n      <th>A1066</th>\n      <td>677-234-5220</td>\n      <td>Camille</td>\n      <td>Brown</td>\n    </tr>\n    <tr>\n      <th>A1097</th>\n      <td>363-333-3522</td>\n      <td>Carla</td>\n      <td>Hardy</td>\n    </tr>\n    <tr>\n      <th>A1003</th>\n      <td>695-919-3789</td>\n      <td>Carol</td>\n      <td>Vazquez</td>\n    </tr>\n    <tr>\n      <th>A1096</th>\n      <td>801-950-2736</td>\n      <td>Carolyn</td>\n      <td>Reese</td>\n    </tr>\n    <tr>\n      <th>A1029</th>\n      <td>530-493-8306</td>\n      <td>Carson</td>\n      <td>Curry</td>\n    </tr>\n    <tr>\n      <th>A1052</th>\n      <td>789-767-9574</td>\n      <td>Chaney</td>\n      <td>Meadows</td>\n    </tr>\n    <tr>\n      <th>A1023</th>\n      <td>630-962-1162</td>\n      <td>Channing</td>\n      <td>Holland</td>\n    </tr>\n    <tr>\n      <th>A1073</th>\n      <td>677-980-7326</td>\n      <td>Cleo</td>\n      <td>Moreno</td>\n    </tr>\n    <tr>\n      <th>A1002</th>\n      <td>763-303-7544</td>\n      <td>Declan</td>\n      <td>Buck</td>\n    </tr>\n    <tr>\n      <th>A1065</th>\n      <td>926-479-4319</td>\n      <td>Dieter</td>\n      <td>Hampton</td>\n    </tr>\n    <tr>\n      <th>A1046</th>\n      <td>792-950-8116</td>\n      <td>Dillon</td>\n      <td>Campos</td>\n    </tr>\n    <tr>\n      <th>A1039</th>\n      <td>905-550-4518</td>\n      <td>Edward</td>\n      <td>Mcclure</td>\n    </tr>\n    <tr>\n      <th>A1007</th>\n      <td>893-406-0425</td>\n      <td>Emmanuel</td>\n      <td>Morgan</td>\n    </tr>\n    <tr>\n      <th>A1026</th>\n      <td>852-561-0924</td>\n      <td>Erin</td>\n      <td>Puckett</td>\n    </tr>\n    <tr>\n      <th>A1027</th>\n      <td>620-969-5670</td>\n      <td>Evelyn</td>\n      <td>Harris</td>\n    </tr>\n    <tr>\n      <th>A1034</th>\n      <td>548-715-2455</td>\n      <td>Farrah</td>\n      <td>Rowe</td>\n    </tr>\n    <tr>\n      <th>A1100</th>\n      <td>706-238-3765</td>\n      <td>Finn</td>\n      <td>Hamilton</td>\n    </tr>\n    <tr>\n      <th>A1004</th>\n      <td>276-570-7451</td>\n      <td>Fleur</td>\n      <td>Dunlap</td>\n    </tr>\n    <tr>\n      <th>A1084</th>\n      <td>652-717-6070</td>\n      <td>Flynn</td>\n      <td>Odonnell</td>\n    </tr>\n    <tr>\n      <th>A1057</th>\n      <td>710-973-1741</td>\n      <td>Fredericka</td>\n      <td>Shaw</td>\n    </tr>\n    <tr>\n      <th>A1005</th>\n      <td>498-479-7074</td>\n      <td>Garth</td>\n      <td>Potter</td>\n    </tr>\n    <tr>\n      <th>A1069</th>\n      <td>182-733-6396</td>\n      <td>Grace</td>\n      <td>Shelton</td>\n    </tr>\n    <tr>\n      <th>A1098</th>\n      <td>611-668-2294</td>\n      <td>Halla</td>\n      <td>Barker</td>\n    </tr>\n    <tr>\n      <th>A1076</th>\n      <td>207-872-8956</td>\n      <td>Harrison</td>\n      <td>Page</td>\n    </tr>\n    <tr>\n      <th>A1012</th>\n      <td>899-323-0486</td>\n      <td>Helen</td>\n      <td>Sheppard</td>\n    </tr>\n    <tr>\n      <th>...</th>\n      <td>...</td>\n      <td>...</td>\n      <td>...</td>\n    </tr>\n    <tr>\n      <th>A1030</th>\n      <td>594-789-4449</td>\n      <td>Savannah</td>\n      <td>Wood</td>\n    </tr>\n    <tr>\n      <th>A1047</th>\n      <td>619-948-4860</td>\n      <td>Scarlett</td>\n      <td>Browning</td>\n    </tr>\n    <tr>\n      <th>A1063</th>\n      <td>443-699-5862</td>\n      <td>Sharon</td>\n      <td>Wallace</td>\n    </tr>\n    <tr>\n      <th>A1049</th>\n      <td>556-992-2754</td>\n      <td>Summer</td>\n      <td>Justice</td>\n    </tr>\n    <tr>\n      <th>A1070</th>\n      <td>301-987-3246</td>\n      <td>Summer</td>\n      <td>Tanner</td>\n    </tr>\n    <tr>\n      <th>A1009</th>\n      <td>820-847-5666</td>\n      <td>Tana</td>\n      <td>Vazquez</td>\n    </tr>\n    <tr>\n      <th>A1051</th>\n      <td>145-839-1115</td>\n      <td>Tasha</td>\n      <td>Hickman</td>\n    </tr>\n    <tr>\n      <th>A1060</th>\n      <td>242-782-8361</td>\n      <td>Tatum</td>\n      <td>Le</td>\n    </tr>\n    <tr>\n      <th>A1091</th>\n      <td>963-621-8389</td>\n      <td>Thane</td>\n      <td>Jenkins</td>\n    </tr>\n    <tr>\n      <th>A1028</th>\n      <td>654-990-2627</td>\n      <td>Todd</td>\n      <td>Castillo</td>\n    </tr>\n    <tr>\n      <th>A1079</th>\n      <td>241-622-2164</td>\n      <td>Todd</td>\n      <td>Le</td>\n    </tr>\n    <tr>\n      <th>A1061</th>\n      <td>740-286-2241</td>\n      <td>Trevor</td>\n      <td>Wade</td>\n    </tr>\n    <tr>\n      <th>A1071</th>\n      <td>411-883-7642</td>\n      <td>Ulla</td>\n      <td>Avery</td>\n    </tr>\n    <tr>\n      <th>A1086</th>\n      <td>422-508-6558</td>\n      <td>Unicorn</td>\n      <td>Bauer</td>\n    </tr>\n    <tr>\n      <th>A1021</th>\n      <td>259-589-0664</td>\n      <td>Unicorn</td>\n      <td>Patrick</td>\n    </tr>\n    <tr>\n      <th>A1082</th>\n      <td>724-607-5594</td>\n      <td>Unicorn</td>\n      <td>Bates</td>\n    </tr>\n    <tr>\n      <th>A1072</th>\n      <td>736-791-1156</td>\n      <td>Unicorn</td>\n      <td>Small</td>\n    </tr>\n    <tr>\n      <th>A1025</th>\n      <td>679-505-2213</td>\n      <td>Unicorn</td>\n      <td>Sanders</td>\n    </tr>\n    <tr>\n      <th>A1055</th>\n      <td>532-537-4622</td>\n      <td>Unicorn</td>\n      <td>Cooke</td>\n    </tr>\n    <tr>\n      <th>A1043</th>\n      <td>134-819-9669</td>\n      <td>Unicorn</td>\n      <td>Melton</td>\n    </tr>\n    <tr>\n      <th>A1042</th>\n      <td>598-729-8144</td>\n      <td>Unicorn</td>\n      <td>Solomon</td>\n    </tr>\n    <tr>\n      <th>A1040</th>\n      <td>474-992-6615</td>\n      <td>Unicorn</td>\n      <td>Alford</td>\n    </tr>\n    <tr>\n      <th>A1085</th>\n      <td>618-571-0200</td>\n      <td>Unicorn</td>\n      <td>Whitley</td>\n    </tr>\n    <tr>\n      <th>A1001</th>\n      <td>125-111-4978</td>\n      <td>Unicorn</td>\n      <td>Bell</td>\n    </tr>\n    <tr>\n      <th>A1077</th>\n      <td>672-355-0177</td>\n      <td>Vaughan</td>\n      <td>Browning</td>\n    </tr>\n    <tr>\n      <th>A1016</th>\n      <td>455-370-9268</td>\n      <td>Walker</td>\n      <td>Edwards</td>\n    </tr>\n    <tr>\n      <th>A1036</th>\n      <td>239-411-7282</td>\n      <td>Wallace</td>\n      <td>Blackwell</td>\n    </tr>\n    <tr>\n      <th>A1015</th>\n      <td>937-238-8313</td>\n      <td>Wendy</td>\n      <td>Stout</td>\n    </tr>\n    <tr>\n      <th>A1017</th>\n      <td>337-350-0922</td>\n      <td>Yael</td>\n      <td>Lamb</td>\n    </tr>\n    <tr>\n      <th>A1019</th>\n      <td>136-956-6416</td>\n      <td>Yen</td>\n      <td>Stein</td>\n    </tr>\n  </tbody>\n</table>\n<p>100 rows × 3 columns</p>\n</div>"
     },
     "metadata": {},
     "output_type": "execute_result",
     "execution_count": 126
    }
   ],
   "source": [
    "df.sort_values(by=\"First\")"
   ]
  },
  {
   "cell_type": "markdown",
   "metadata": {},
   "source": [
    "## Getting data:  \n",
    "\n",
    "Next read [Getting](https://pandas.pydata.org/pandas-docs/stable/getting_started/10min.html)."
   ]
  },
  {
   "cell_type": "markdown",
   "metadata": {},
   "source": [
    "- select column First using the [\"Column_Name\"] notation"
   ]
  },
  {
   "cell_type": "code",
   "execution_count": 103,
   "metadata": {
    "pycharm": {
     "is_executing": false
    }
   },
   "outputs": [
    {
     "data": {
      "text/plain": "Member #\nA1001       Austin\nA1002       Declan\nA1003        Carol\nA1004        Fleur\nA1005        Garth\nA1006      Martena\nA1007     Emmanuel\nA1008         Hoyt\nA1009         Tana\nA1010        Kitra\nA1011        Jenna\nA1012        Helen\nA1013      Michael\nA1014        Imani\nA1015        Wendy\nA1016       Walker\nA1017         Yael\nA1018       Baxter\nA1019          Yen\nA1020        Perry\nA1021    Alexander\nA1022        Irene\nA1023     Channing\nA1024         Roth\nA1025         Anne\nA1026         Erin\nA1027       Evelyn\nA1028         Todd\nA1029       Carson\nA1030     Savannah\n           ...    \nA1071         Ulla\nA1072       Ariana\nA1073         Cleo\nA1074        Reece\nA1075          Ori\nA1076     Harrison\nA1077      Vaughan\nA1078     Kathleen\nA1079         Todd\nA1080        Hilel\nA1081    MacKenzie\nA1082        Anika\nA1083     Caldwell\nA1084        Flynn\nA1085      Anthony\nA1086        Amber\nA1087      Melissa\nA1088    Jessamine\nA1089     Meredith\nA1090       Keelie\nA1091        Thane\nA1092      Brandon\nA1093      Latifah\nA1094        Briar\nA1095          Ori\nA1096      Carolyn\nA1097        Carla\nA1098        Halla\nA1099       Joseph\nA1100         Finn\nName: First, Length: 100, dtype: object"
     },
     "metadata": {},
     "output_type": "execute_result",
     "execution_count": 103
    }
   ],
   "source": [
    "df[\"First\"]"
   ]
  },
  {
   "cell_type": "markdown",
   "metadata": {},
   "source": [
    "- select column First using the .Column_Name notation"
   ]
  },
  {
   "cell_type": "code",
   "execution_count": 104,
   "metadata": {
    "pycharm": {
     "is_executing": false
    }
   },
   "outputs": [
    {
     "data": {
      "text/plain": "Member #\nA1001       Austin\nA1002       Declan\nA1003        Carol\nA1004        Fleur\nA1005        Garth\nA1006      Martena\nA1007     Emmanuel\nA1008         Hoyt\nA1009         Tana\nA1010        Kitra\nA1011        Jenna\nA1012        Helen\nA1013      Michael\nA1014        Imani\nA1015        Wendy\nA1016       Walker\nA1017         Yael\nA1018       Baxter\nA1019          Yen\nA1020        Perry\nA1021    Alexander\nA1022        Irene\nA1023     Channing\nA1024         Roth\nA1025         Anne\nA1026         Erin\nA1027       Evelyn\nA1028         Todd\nA1029       Carson\nA1030     Savannah\n           ...    \nA1071         Ulla\nA1072       Ariana\nA1073         Cleo\nA1074        Reece\nA1075          Ori\nA1076     Harrison\nA1077      Vaughan\nA1078     Kathleen\nA1079         Todd\nA1080        Hilel\nA1081    MacKenzie\nA1082        Anika\nA1083     Caldwell\nA1084        Flynn\nA1085      Anthony\nA1086        Amber\nA1087      Melissa\nA1088    Jessamine\nA1089     Meredith\nA1090       Keelie\nA1091        Thane\nA1092      Brandon\nA1093      Latifah\nA1094        Briar\nA1095          Ori\nA1096      Carolyn\nA1097        Carla\nA1098        Halla\nA1099       Joseph\nA1100         Finn\nName: First, Length: 100, dtype: object"
     },
     "metadata": {},
     "output_type": "execute_result",
     "execution_count": 104
    }
   ],
   "source": [
    "df.First"
   ]
  },
  {
   "cell_type": "markdown",
   "metadata": {},
   "source": [
    "- select rows 3 - 6 by slicing based on the row number (zero-indexed). Note that row number slicing excludes the row corresponding with the second argument, just like regular Python list slicing"
   ]
  },
  {
   "cell_type": "code",
   "execution_count": 105,
   "metadata": {
    "pycharm": {
     "is_executing": false
    }
   },
   "outputs": [
    {
     "data": {
      "text/plain": "                 Phone     First     Last\nMember #                                 \nA1004     276-570-7451     Fleur   Dunlap\nA1005     498-479-7074     Garth   Potter\nA1006     139-907-8100   Martena  Jenkins\nA1007     893-406-0425  Emmanuel   Morgan",
      "text/html": "<div>\n<style scoped>\n    .dataframe tbody tr th:only-of-type {\n        vertical-align: middle;\n    }\n\n    .dataframe tbody tr th {\n        vertical-align: top;\n    }\n\n    .dataframe thead th {\n        text-align: right;\n    }\n</style>\n<table border=\"1\" class=\"dataframe\">\n  <thead>\n    <tr style=\"text-align: right;\">\n      <th></th>\n      <th>Phone</th>\n      <th>First</th>\n      <th>Last</th>\n    </tr>\n    <tr>\n      <th>Member #</th>\n      <th></th>\n      <th></th>\n      <th></th>\n    </tr>\n  </thead>\n  <tbody>\n    <tr>\n      <th>A1004</th>\n      <td>276-570-7451</td>\n      <td>Fleur</td>\n      <td>Dunlap</td>\n    </tr>\n    <tr>\n      <th>A1005</th>\n      <td>498-479-7074</td>\n      <td>Garth</td>\n      <td>Potter</td>\n    </tr>\n    <tr>\n      <th>A1006</th>\n      <td>139-907-8100</td>\n      <td>Martena</td>\n      <td>Jenkins</td>\n    </tr>\n    <tr>\n      <th>A1007</th>\n      <td>893-406-0425</td>\n      <td>Emmanuel</td>\n      <td>Morgan</td>\n    </tr>\n  </tbody>\n</table>\n</div>"
     },
     "metadata": {},
     "output_type": "execute_result",
     "execution_count": 105
    }
   ],
   "source": [
    "df[3:7]"
   ]
  },
  {
   "cell_type": "markdown",
   "metadata": {},
   "source": [
    "- select Members A1002 - A1005 by slicing based on the DataFrame index, in this case the member number. Note that index slicing is inclusive of the second argument. "
   ]
  },
  {
   "cell_type": "code",
   "execution_count": 105,
   "outputs": [],
   "source": [],
   "metadata": {
    "collapsed": false,
    "pycharm": {
     "name": "#%%\n",
     "is_executing": false
    }
   }
  },
  {
   "cell_type": "code",
   "execution_count": 106,
   "metadata": {
    "pycharm": {
     "is_executing": false
    }
   },
   "outputs": [
    {
     "data": {
      "text/plain": "                 Phone   First     Last\nMember #                               \nA1002     763-303-7544  Declan     Buck\nA1003     695-919-3789   Carol  Vazquez\nA1004     276-570-7451   Fleur   Dunlap\nA1005     498-479-7074   Garth   Potter",
      "text/html": "<div>\n<style scoped>\n    .dataframe tbody tr th:only-of-type {\n        vertical-align: middle;\n    }\n\n    .dataframe tbody tr th {\n        vertical-align: top;\n    }\n\n    .dataframe thead th {\n        text-align: right;\n    }\n</style>\n<table border=\"1\" class=\"dataframe\">\n  <thead>\n    <tr style=\"text-align: right;\">\n      <th></th>\n      <th>Phone</th>\n      <th>First</th>\n      <th>Last</th>\n    </tr>\n    <tr>\n      <th>Member #</th>\n      <th></th>\n      <th></th>\n      <th></th>\n    </tr>\n  </thead>\n  <tbody>\n    <tr>\n      <th>A1002</th>\n      <td>763-303-7544</td>\n      <td>Declan</td>\n      <td>Buck</td>\n    </tr>\n    <tr>\n      <th>A1003</th>\n      <td>695-919-3789</td>\n      <td>Carol</td>\n      <td>Vazquez</td>\n    </tr>\n    <tr>\n      <th>A1004</th>\n      <td>276-570-7451</td>\n      <td>Fleur</td>\n      <td>Dunlap</td>\n    </tr>\n    <tr>\n      <th>A1005</th>\n      <td>498-479-7074</td>\n      <td>Garth</td>\n      <td>Potter</td>\n    </tr>\n  </tbody>\n</table>\n</div>"
     },
     "metadata": {},
     "output_type": "execute_result",
     "execution_count": 106
    }
   ],
   "source": [
    "df[\"A1002\":\"A1005\"]"
   ]
  },
  {
   "cell_type": "markdown",
   "metadata": {},
   "source": [
    " - select ONLY row 3 / Member only by slicing based on the row index (zero-indexed) or the member number. Note that you MUST slice like \"[start:end]\"; a single row index number or label does not work."
   ]
  },
  {
   "cell_type": "code",
   "execution_count": 107,
   "metadata": {
    "pycharm": {
     "is_executing": false
    }
   },
   "outputs": [
    {
     "data": {
      "text/plain": "                 Phone  First     Last\nMember #                              \nA1003     695-919-3789  Carol  Vazquez",
      "text/html": "<div>\n<style scoped>\n    .dataframe tbody tr th:only-of-type {\n        vertical-align: middle;\n    }\n\n    .dataframe tbody tr th {\n        vertical-align: top;\n    }\n\n    .dataframe thead th {\n        text-align: right;\n    }\n</style>\n<table border=\"1\" class=\"dataframe\">\n  <thead>\n    <tr style=\"text-align: right;\">\n      <th></th>\n      <th>Phone</th>\n      <th>First</th>\n      <th>Last</th>\n    </tr>\n    <tr>\n      <th>Member #</th>\n      <th></th>\n      <th></th>\n      <th></th>\n    </tr>\n  </thead>\n  <tbody>\n    <tr>\n      <th>A1003</th>\n      <td>695-919-3789</td>\n      <td>Carol</td>\n      <td>Vazquez</td>\n    </tr>\n  </tbody>\n</table>\n</div>"
     },
     "metadata": {},
     "output_type": "execute_result",
     "execution_count": 107
    }
   ],
   "source": [
    "df[2:3]"
   ]
  },
  {
   "cell_type": "code",
   "execution_count": 108,
   "metadata": {
    "scrolled": true,
    "pycharm": {
     "is_executing": false
    }
   },
   "outputs": [
    {
     "data": {
      "text/plain": "                 Phone  First     Last\nMember #                              \nA1003     695-919-3789  Carol  Vazquez",
      "text/html": "<div>\n<style scoped>\n    .dataframe tbody tr th:only-of-type {\n        vertical-align: middle;\n    }\n\n    .dataframe tbody tr th {\n        vertical-align: top;\n    }\n\n    .dataframe thead th {\n        text-align: right;\n    }\n</style>\n<table border=\"1\" class=\"dataframe\">\n  <thead>\n    <tr style=\"text-align: right;\">\n      <th></th>\n      <th>Phone</th>\n      <th>First</th>\n      <th>Last</th>\n    </tr>\n    <tr>\n      <th>Member #</th>\n      <th></th>\n      <th></th>\n      <th></th>\n    </tr>\n  </thead>\n  <tbody>\n    <tr>\n      <th>A1003</th>\n      <td>695-919-3789</td>\n      <td>Carol</td>\n      <td>Vazquez</td>\n    </tr>\n  </tbody>\n</table>\n</div>"
     },
     "metadata": {},
     "output_type": "execute_result",
     "execution_count": 108
    }
   ],
   "source": [
    "df[\"A1003\":\"A1003\"]"
   ]
  },
  {
   "cell_type": "markdown",
   "metadata": {},
   "source": [
    "## Selection by Label\n",
    "\n",
    "Read [Selection by Label](https://pandas.pydata.org/pandas-docs/stable/getting_started/10min.html). By \"label\", it means row label/index (Member #) or column label text rather than number."
   ]
  },
  {
   "cell_type": "markdown",
   "metadata": {},
   "source": [
    "- Print out df.loc. Apparently it’s some sort of special __pandas__ object. It seems the operator [] has been overloaded (by writing a \\_\\_getitem\\_\\_ method) for this object to provide a different means of accessing data from the DataFrame. According to the note at the beginning of the Selection section, it is somehow optimized to be faster than the regular DataFrame indexing above."
   ]
  },
  {
   "cell_type": "code",
   "execution_count": 109,
   "metadata": {
    "pycharm": {
     "is_executing": false
    }
   },
   "outputs": [
    {
     "data": {
      "text/plain": "<pandas.core.indexing._LocIndexer at 0x117e5a208>"
     },
     "metadata": {},
     "output_type": "execute_result",
     "execution_count": 109
    }
   ],
   "source": [
    "df.loc"
   ]
  },
  {
   "cell_type": "markdown",
   "metadata": {},
   "source": [
    "- Use __.loc__ to select member A1002. Apparently the .loc object doesn’t require slicing like the DataFrame indexing."
   ]
  },
  {
   "cell_type": "code",
   "execution_count": 110,
   "metadata": {
    "pycharm": {
     "is_executing": false
    }
   },
   "outputs": [
    {
     "data": {
      "text/plain": "Phone    763-303-7544\nFirst          Declan\nLast             Buck\nName: A1002, dtype: object"
     },
     "metadata": {},
     "output_type": "execute_result",
     "execution_count": 110
    }
   ],
   "source": [
    "df.loc[\"A1002\"]"
   ]
  },
  {
   "cell_type": "markdown",
   "metadata": {},
   "source": [
    "- Select members A1002 - A1005 first and last names (no phone numbers). "
   ]
  },
  {
   "cell_type": "code",
   "execution_count": 127,
   "metadata": {
    "pycharm": {
     "is_executing": false
    }
   },
   "outputs": [
    {
     "data": {
      "text/plain": "                 Phone     Last\nMember #                       \nA1002     763-303-7544     Buck\nA1003     695-919-3789  Vazquez\nA1004     276-570-7451   Dunlap\nA1005     498-479-7074   Potter",
      "text/html": "<div>\n<style scoped>\n    .dataframe tbody tr th:only-of-type {\n        vertical-align: middle;\n    }\n\n    .dataframe tbody tr th {\n        vertical-align: top;\n    }\n\n    .dataframe thead th {\n        text-align: right;\n    }\n</style>\n<table border=\"1\" class=\"dataframe\">\n  <thead>\n    <tr style=\"text-align: right;\">\n      <th></th>\n      <th>Phone</th>\n      <th>Last</th>\n    </tr>\n    <tr>\n      <th>Member #</th>\n      <th></th>\n      <th></th>\n    </tr>\n  </thead>\n  <tbody>\n    <tr>\n      <th>A1002</th>\n      <td>763-303-7544</td>\n      <td>Buck</td>\n    </tr>\n    <tr>\n      <th>A1003</th>\n      <td>695-919-3789</td>\n      <td>Vazquez</td>\n    </tr>\n    <tr>\n      <th>A1004</th>\n      <td>276-570-7451</td>\n      <td>Dunlap</td>\n    </tr>\n    <tr>\n      <th>A1005</th>\n      <td>498-479-7074</td>\n      <td>Potter</td>\n    </tr>\n  </tbody>\n</table>\n</div>"
     },
     "metadata": {},
     "output_type": "execute_result",
     "execution_count": 127
    }
   ],
   "source": [
    "df.loc[\"A1002\":\"A1005\",[\"First\",\"Last\"]]"
   ]
  },
  {
   "cell_type": "markdown",
   "metadata": {},
   "source": [
    "- Can you select based on a list of member numbers (e.g. [\"A1002\", \"A1003\"] instead of slicing like \"A1002\":\"A1003\")? \n",
    "- Can you select by slicing column names (e.g. \"First\":\"Last\" instead of [\"First\",\"Last\"])"
   ]
  },
  {
   "cell_type": "code",
   "execution_count": 128,
   "metadata": {
    "collapsed": true,
    "pycharm": {
     "is_executing": false
    }
   },
   "outputs": [
    {
     "data": {
      "text/plain": "                 Phone   First     Last\nMember #                               \nA1002     763-303-7544  Declan     Buck\nA1003     695-919-3789   Carol  Vazquez",
      "text/html": "<div>\n<style scoped>\n    .dataframe tbody tr th:only-of-type {\n        vertical-align: middle;\n    }\n\n    .dataframe tbody tr th {\n        vertical-align: top;\n    }\n\n    .dataframe thead th {\n        text-align: right;\n    }\n</style>\n<table border=\"1\" class=\"dataframe\">\n  <thead>\n    <tr style=\"text-align: right;\">\n      <th></th>\n      <th>Phone</th>\n      <th>First</th>\n      <th>Last</th>\n    </tr>\n    <tr>\n      <th>Member #</th>\n      <th></th>\n      <th></th>\n      <th></th>\n    </tr>\n  </thead>\n  <tbody>\n    <tr>\n      <th>A1002</th>\n      <td>763-303-7544</td>\n      <td>Declan</td>\n      <td>Buck</td>\n    </tr>\n    <tr>\n      <th>A1003</th>\n      <td>695-919-3789</td>\n      <td>Carol</td>\n      <td>Vazquez</td>\n    </tr>\n  </tbody>\n</table>\n</div>"
     },
     "metadata": {},
     "output_type": "execute_result",
     "execution_count": 128
    }
   ],
   "source": [
    "df.loc[[\"A1002\",\"A1003\"],\"Phone\":\"Last\"]"
   ]
  },
  {
   "cell_type": "markdown",
   "metadata": {},
   "source": [
    "## Selection by Position\n",
    "\n",
    "Read [Selection by Position](https://pandas.pydata.org/pandas-docs/stable/getting_started/10min.html).\n",
    "\n",
    "Try the same exercises as you did selecting by label, but this time using column and row numbers with .iloc (instead of row/column names with .loc) Note that like regular Python list slicing, indexing is 0-based (not including the row or column labels), the start bound is included in the returned data, and the end bound is excluded (as usual).\n",
    "\n"
   ]
  },
  {
   "cell_type": "code",
   "execution_count": 113,
   "metadata": {
    "pycharm": {
     "is_executing": false
    }
   },
   "outputs": [
    {
     "data": {
      "text/plain": "Phone    695-919-3789\nFirst           Carol\nLast          Vazquez\nName: A1003, dtype: object"
     },
     "metadata": {},
     "output_type": "execute_result",
     "execution_count": 113
    }
   ],
   "source": [
    "df.iloc[2]"
   ]
  },
  {
   "cell_type": "code",
   "execution_count": 114,
   "metadata": {
    "pycharm": {
     "is_executing": false
    }
   },
   "outputs": [
    {
     "data": {
      "text/plain": "           First     Last\nMember #                 \nA1002     Declan     Buck\nA1003      Carol  Vazquez\nA1004      Fleur   Dunlap\nA1005      Garth   Potter",
      "text/html": "<div>\n<style scoped>\n    .dataframe tbody tr th:only-of-type {\n        vertical-align: middle;\n    }\n\n    .dataframe tbody tr th {\n        vertical-align: top;\n    }\n\n    .dataframe thead th {\n        text-align: right;\n    }\n</style>\n<table border=\"1\" class=\"dataframe\">\n  <thead>\n    <tr style=\"text-align: right;\">\n      <th></th>\n      <th>First</th>\n      <th>Last</th>\n    </tr>\n    <tr>\n      <th>Member #</th>\n      <th></th>\n      <th></th>\n    </tr>\n  </thead>\n  <tbody>\n    <tr>\n      <th>A1002</th>\n      <td>Declan</td>\n      <td>Buck</td>\n    </tr>\n    <tr>\n      <th>A1003</th>\n      <td>Carol</td>\n      <td>Vazquez</td>\n    </tr>\n    <tr>\n      <th>A1004</th>\n      <td>Fleur</td>\n      <td>Dunlap</td>\n    </tr>\n    <tr>\n      <th>A1005</th>\n      <td>Garth</td>\n      <td>Potter</td>\n    </tr>\n  </tbody>\n</table>\n</div>"
     },
     "metadata": {},
     "output_type": "execute_result",
     "execution_count": 114
    }
   ],
   "source": [
    "df.iloc[1:5,[1,2]]"
   ]
  },
  {
   "cell_type": "code",
   "execution_count": 115,
   "metadata": {
    "pycharm": {
     "is_executing": false
    }
   },
   "outputs": [
    {
     "data": {
      "text/plain": "                 Phone   First    Last\nMember #                              \nA1002     763-303-7544  Declan    Buck\nA1005     498-479-7074   Garth  Potter",
      "text/html": "<div>\n<style scoped>\n    .dataframe tbody tr th:only-of-type {\n        vertical-align: middle;\n    }\n\n    .dataframe tbody tr th {\n        vertical-align: top;\n    }\n\n    .dataframe thead th {\n        text-align: right;\n    }\n</style>\n<table border=\"1\" class=\"dataframe\">\n  <thead>\n    <tr style=\"text-align: right;\">\n      <th></th>\n      <th>Phone</th>\n      <th>First</th>\n      <th>Last</th>\n    </tr>\n    <tr>\n      <th>Member #</th>\n      <th></th>\n      <th></th>\n      <th></th>\n    </tr>\n  </thead>\n  <tbody>\n    <tr>\n      <th>A1002</th>\n      <td>763-303-7544</td>\n      <td>Declan</td>\n      <td>Buck</td>\n    </tr>\n    <tr>\n      <th>A1005</th>\n      <td>498-479-7074</td>\n      <td>Garth</td>\n      <td>Potter</td>\n    </tr>\n  </tbody>\n</table>\n</div>"
     },
     "metadata": {},
     "output_type": "execute_result",
     "execution_count": 115
    }
   ],
   "source": [
    "df.loc[[\"A1002\",\"A1005\"]]"
   ]
  },
  {
   "cell_type": "code",
   "execution_count": 116,
   "metadata": {
    "pycharm": {
     "is_executing": false
    }
   },
   "outputs": [
    {
     "data": {
      "text/plain": "                 Phone   First    Last\nMember #                              \nA1002     763-303-7544  Declan    Buck\nA1005     498-479-7074   Garth  Potter",
      "text/html": "<div>\n<style scoped>\n    .dataframe tbody tr th:only-of-type {\n        vertical-align: middle;\n    }\n\n    .dataframe tbody tr th {\n        vertical-align: top;\n    }\n\n    .dataframe thead th {\n        text-align: right;\n    }\n</style>\n<table border=\"1\" class=\"dataframe\">\n  <thead>\n    <tr style=\"text-align: right;\">\n      <th></th>\n      <th>Phone</th>\n      <th>First</th>\n      <th>Last</th>\n    </tr>\n    <tr>\n      <th>Member #</th>\n      <th></th>\n      <th></th>\n      <th></th>\n    </tr>\n  </thead>\n  <tbody>\n    <tr>\n      <th>A1002</th>\n      <td>763-303-7544</td>\n      <td>Declan</td>\n      <td>Buck</td>\n    </tr>\n    <tr>\n      <th>A1005</th>\n      <td>498-479-7074</td>\n      <td>Garth</td>\n      <td>Potter</td>\n    </tr>\n  </tbody>\n</table>\n</div>"
     },
     "metadata": {},
     "output_type": "execute_result",
     "execution_count": 116
    }
   ],
   "source": [
    "df.iloc[[1,4]]"
   ]
  },
  {
   "cell_type": "code",
   "execution_count": 117,
   "metadata": {
    "pycharm": {
     "is_executing": false
    }
   },
   "outputs": [
    {
     "data": {
      "text/plain": "                 Phone   First     Last\nMember #                               \nA1002     763-303-7544  Declan     Buck\nA1003     695-919-3789   Carol  Vazquez\nA1004     276-570-7451   Fleur   Dunlap\nA1005     498-479-7074   Garth   Potter",
      "text/html": "<div>\n<style scoped>\n    .dataframe tbody tr th:only-of-type {\n        vertical-align: middle;\n    }\n\n    .dataframe tbody tr th {\n        vertical-align: top;\n    }\n\n    .dataframe thead th {\n        text-align: right;\n    }\n</style>\n<table border=\"1\" class=\"dataframe\">\n  <thead>\n    <tr style=\"text-align: right;\">\n      <th></th>\n      <th>Phone</th>\n      <th>First</th>\n      <th>Last</th>\n    </tr>\n    <tr>\n      <th>Member #</th>\n      <th></th>\n      <th></th>\n      <th></th>\n    </tr>\n  </thead>\n  <tbody>\n    <tr>\n      <th>A1002</th>\n      <td>763-303-7544</td>\n      <td>Declan</td>\n      <td>Buck</td>\n    </tr>\n    <tr>\n      <th>A1003</th>\n      <td>695-919-3789</td>\n      <td>Carol</td>\n      <td>Vazquez</td>\n    </tr>\n    <tr>\n      <th>A1004</th>\n      <td>276-570-7451</td>\n      <td>Fleur</td>\n      <td>Dunlap</td>\n    </tr>\n    <tr>\n      <th>A1005</th>\n      <td>498-479-7074</td>\n      <td>Garth</td>\n      <td>Potter</td>\n    </tr>\n  </tbody>\n</table>\n</div>"
     },
     "metadata": {},
     "output_type": "execute_result",
     "execution_count": 117
    }
   ],
   "source": [
    "df.loc[\"A1002\":\"A1005\",\"Phone\":\"Last\"]"
   ]
  },
  {
   "cell_type": "code",
   "execution_count": 118,
   "metadata": {
    "pycharm": {
     "is_executing": false
    }
   },
   "outputs": [
    {
     "data": {
      "text/plain": "           First     Last\nMember #                 \nA1002     Declan     Buck\nA1003      Carol  Vazquez\nA1004      Fleur   Dunlap\nA1005      Garth   Potter",
      "text/html": "<div>\n<style scoped>\n    .dataframe tbody tr th:only-of-type {\n        vertical-align: middle;\n    }\n\n    .dataframe tbody tr th {\n        vertical-align: top;\n    }\n\n    .dataframe thead th {\n        text-align: right;\n    }\n</style>\n<table border=\"1\" class=\"dataframe\">\n  <thead>\n    <tr style=\"text-align: right;\">\n      <th></th>\n      <th>First</th>\n      <th>Last</th>\n    </tr>\n    <tr>\n      <th>Member #</th>\n      <th></th>\n      <th></th>\n    </tr>\n  </thead>\n  <tbody>\n    <tr>\n      <th>A1002</th>\n      <td>Declan</td>\n      <td>Buck</td>\n    </tr>\n    <tr>\n      <th>A1003</th>\n      <td>Carol</td>\n      <td>Vazquez</td>\n    </tr>\n    <tr>\n      <th>A1004</th>\n      <td>Fleur</td>\n      <td>Dunlap</td>\n    </tr>\n    <tr>\n      <th>A1005</th>\n      <td>Garth</td>\n      <td>Potter</td>\n    </tr>\n  </tbody>\n</table>\n</div>"
     },
     "metadata": {},
     "output_type": "execute_result",
     "execution_count": 118
    }
   ],
   "source": [
    "df.iloc[1:5,1:]"
   ]
  },
  {
   "cell_type": "markdown",
   "metadata": {},
   "source": [
    "## Boolean Indexing\n",
    "\n",
    "- Read [Boolean Indexing](https://pandas.pydata.org/pandas-docs/stable/getting_started/10min.html). \n",
    "\n",
    "Note that the operation __df.A > 0__ in the example returns a series of Boolean values. Each element in the series corresponds with whether the value in column A of df is greater than zero. \n",
    "\n",
    "__df[df.A > 0]__ selects only the rows where the Boolean value is true (the value in column A is greater than zero); it leaves out the rows in which the Boolean value is false (the value in column A is less than zero)."
   ]
  },
  {
   "cell_type": "markdown",
   "metadata": {},
   "source": [
    "- Select the rows corresponding with all First names starting with \"M-Z\""
   ]
  },
  {
   "cell_type": "code",
   "execution_count": 119,
   "metadata": {
    "pycharm": {
     "is_executing": false
    }
   },
   "outputs": [
    {
     "data": {
      "text/plain": "                 Phone      First       Last\nMember #                                    \nA1006     139-907-8100    Martena    Jenkins\nA1009     820-847-5666       Tana    Vazquez\nA1013     614-992-6830    Michael     Franco\nA1015     937-238-8313      Wendy      Stout\nA1016     455-370-9268     Walker    Edwards\nA1017     337-350-0922       Yael       Lamb\nA1019     136-956-6416        Yen      Stein\nA1020     482-431-3179      Perry        Ray\nA1024     607-929-1091       Roth      Nunez\nA1028     654-990-2627       Todd   Castillo\nA1030     594-789-4449   Savannah       Wood\nA1031     834-211-7419       Ruby      Mcgee\nA1032     242-558-4196   Meredith  Wilkerson\nA1036     239-411-7282    Wallace  Blackwell\nA1037     364-584-1094    Melodie  Maldonado\nA1038     583-430-3157       Nita   Mitchell\nA1045     399-792-2059    Quinlan     Berger\nA1047     619-948-4860   Scarlett   Browning\nA1049     556-992-2754     Summer    Justice\nA1051     145-839-1115      Tasha    Hickman\nA1054     569-719-7376      Raven   Randolph\nA1060     242-782-8361      Tatum         Le\nA1061     740-286-2241     Trevor       Wade\nA1062     865-365-7405    Michael     Fuller\nA1063     443-699-5862     Sharon    Wallace\nA1064     576-202-7486     Nevada  Whitfield\nA1067     596-606-9735   Margaret     Parker\nA1070     301-987-3246     Summer     Tanner\nA1071     411-883-7642       Ulla      Avery\nA1074     697-777-7905      Reece     Ortega\nA1075     279-445-6561        Ori     Cotton\nA1077     672-355-0177    Vaughan   Browning\nA1079     241-622-2164       Todd         Le\nA1081     513-285-0257  MacKenzie     Finley\nA1087     920-271-2608    Melissa     Acosta\nA1089     423-672-9066   Meredith     Carter\nA1091     963-621-8389      Thane    Jenkins\nA1095     971-380-3157        Ori       Wise",
      "text/html": "<div>\n<style scoped>\n    .dataframe tbody tr th:only-of-type {\n        vertical-align: middle;\n    }\n\n    .dataframe tbody tr th {\n        vertical-align: top;\n    }\n\n    .dataframe thead th {\n        text-align: right;\n    }\n</style>\n<table border=\"1\" class=\"dataframe\">\n  <thead>\n    <tr style=\"text-align: right;\">\n      <th></th>\n      <th>Phone</th>\n      <th>First</th>\n      <th>Last</th>\n    </tr>\n    <tr>\n      <th>Member #</th>\n      <th></th>\n      <th></th>\n      <th></th>\n    </tr>\n  </thead>\n  <tbody>\n    <tr>\n      <th>A1006</th>\n      <td>139-907-8100</td>\n      <td>Martena</td>\n      <td>Jenkins</td>\n    </tr>\n    <tr>\n      <th>A1009</th>\n      <td>820-847-5666</td>\n      <td>Tana</td>\n      <td>Vazquez</td>\n    </tr>\n    <tr>\n      <th>A1013</th>\n      <td>614-992-6830</td>\n      <td>Michael</td>\n      <td>Franco</td>\n    </tr>\n    <tr>\n      <th>A1015</th>\n      <td>937-238-8313</td>\n      <td>Wendy</td>\n      <td>Stout</td>\n    </tr>\n    <tr>\n      <th>A1016</th>\n      <td>455-370-9268</td>\n      <td>Walker</td>\n      <td>Edwards</td>\n    </tr>\n    <tr>\n      <th>A1017</th>\n      <td>337-350-0922</td>\n      <td>Yael</td>\n      <td>Lamb</td>\n    </tr>\n    <tr>\n      <th>A1019</th>\n      <td>136-956-6416</td>\n      <td>Yen</td>\n      <td>Stein</td>\n    </tr>\n    <tr>\n      <th>A1020</th>\n      <td>482-431-3179</td>\n      <td>Perry</td>\n      <td>Ray</td>\n    </tr>\n    <tr>\n      <th>A1024</th>\n      <td>607-929-1091</td>\n      <td>Roth</td>\n      <td>Nunez</td>\n    </tr>\n    <tr>\n      <th>A1028</th>\n      <td>654-990-2627</td>\n      <td>Todd</td>\n      <td>Castillo</td>\n    </tr>\n    <tr>\n      <th>A1030</th>\n      <td>594-789-4449</td>\n      <td>Savannah</td>\n      <td>Wood</td>\n    </tr>\n    <tr>\n      <th>A1031</th>\n      <td>834-211-7419</td>\n      <td>Ruby</td>\n      <td>Mcgee</td>\n    </tr>\n    <tr>\n      <th>A1032</th>\n      <td>242-558-4196</td>\n      <td>Meredith</td>\n      <td>Wilkerson</td>\n    </tr>\n    <tr>\n      <th>A1036</th>\n      <td>239-411-7282</td>\n      <td>Wallace</td>\n      <td>Blackwell</td>\n    </tr>\n    <tr>\n      <th>A1037</th>\n      <td>364-584-1094</td>\n      <td>Melodie</td>\n      <td>Maldonado</td>\n    </tr>\n    <tr>\n      <th>A1038</th>\n      <td>583-430-3157</td>\n      <td>Nita</td>\n      <td>Mitchell</td>\n    </tr>\n    <tr>\n      <th>A1045</th>\n      <td>399-792-2059</td>\n      <td>Quinlan</td>\n      <td>Berger</td>\n    </tr>\n    <tr>\n      <th>A1047</th>\n      <td>619-948-4860</td>\n      <td>Scarlett</td>\n      <td>Browning</td>\n    </tr>\n    <tr>\n      <th>A1049</th>\n      <td>556-992-2754</td>\n      <td>Summer</td>\n      <td>Justice</td>\n    </tr>\n    <tr>\n      <th>A1051</th>\n      <td>145-839-1115</td>\n      <td>Tasha</td>\n      <td>Hickman</td>\n    </tr>\n    <tr>\n      <th>A1054</th>\n      <td>569-719-7376</td>\n      <td>Raven</td>\n      <td>Randolph</td>\n    </tr>\n    <tr>\n      <th>A1060</th>\n      <td>242-782-8361</td>\n      <td>Tatum</td>\n      <td>Le</td>\n    </tr>\n    <tr>\n      <th>A1061</th>\n      <td>740-286-2241</td>\n      <td>Trevor</td>\n      <td>Wade</td>\n    </tr>\n    <tr>\n      <th>A1062</th>\n      <td>865-365-7405</td>\n      <td>Michael</td>\n      <td>Fuller</td>\n    </tr>\n    <tr>\n      <th>A1063</th>\n      <td>443-699-5862</td>\n      <td>Sharon</td>\n      <td>Wallace</td>\n    </tr>\n    <tr>\n      <th>A1064</th>\n      <td>576-202-7486</td>\n      <td>Nevada</td>\n      <td>Whitfield</td>\n    </tr>\n    <tr>\n      <th>A1067</th>\n      <td>596-606-9735</td>\n      <td>Margaret</td>\n      <td>Parker</td>\n    </tr>\n    <tr>\n      <th>A1070</th>\n      <td>301-987-3246</td>\n      <td>Summer</td>\n      <td>Tanner</td>\n    </tr>\n    <tr>\n      <th>A1071</th>\n      <td>411-883-7642</td>\n      <td>Ulla</td>\n      <td>Avery</td>\n    </tr>\n    <tr>\n      <th>A1074</th>\n      <td>697-777-7905</td>\n      <td>Reece</td>\n      <td>Ortega</td>\n    </tr>\n    <tr>\n      <th>A1075</th>\n      <td>279-445-6561</td>\n      <td>Ori</td>\n      <td>Cotton</td>\n    </tr>\n    <tr>\n      <th>A1077</th>\n      <td>672-355-0177</td>\n      <td>Vaughan</td>\n      <td>Browning</td>\n    </tr>\n    <tr>\n      <th>A1079</th>\n      <td>241-622-2164</td>\n      <td>Todd</td>\n      <td>Le</td>\n    </tr>\n    <tr>\n      <th>A1081</th>\n      <td>513-285-0257</td>\n      <td>MacKenzie</td>\n      <td>Finley</td>\n    </tr>\n    <tr>\n      <th>A1087</th>\n      <td>920-271-2608</td>\n      <td>Melissa</td>\n      <td>Acosta</td>\n    </tr>\n    <tr>\n      <th>A1089</th>\n      <td>423-672-9066</td>\n      <td>Meredith</td>\n      <td>Carter</td>\n    </tr>\n    <tr>\n      <th>A1091</th>\n      <td>963-621-8389</td>\n      <td>Thane</td>\n      <td>Jenkins</td>\n    </tr>\n    <tr>\n      <th>A1095</th>\n      <td>971-380-3157</td>\n      <td>Ori</td>\n      <td>Wise</td>\n    </tr>\n  </tbody>\n</table>\n</div>"
     },
     "metadata": {},
     "output_type": "execute_result",
     "execution_count": 119
    }
   ],
   "source": [
    "df[\"M\" <= df.First]"
   ]
  },
  {
   "cell_type": "markdown",
   "metadata": {},
   "source": [
    "- Select the rows with all First names that are \"Meredith\" or \"Summer\" (that is, are in the list [“Meredith”, “Summer”])"
   ]
  },
  {
   "cell_type": "code",
   "execution_count": 120,
   "metadata": {
    "pycharm": {
     "is_executing": false
    }
   },
   "outputs": [
    {
     "data": {
      "text/plain": "                 Phone     First       Last\nMember #                                   \nA1032     242-558-4196  Meredith  Wilkerson\nA1049     556-992-2754    Summer    Justice\nA1070     301-987-3246    Summer     Tanner\nA1089     423-672-9066  Meredith     Carter",
      "text/html": "<div>\n<style scoped>\n    .dataframe tbody tr th:only-of-type {\n        vertical-align: middle;\n    }\n\n    .dataframe tbody tr th {\n        vertical-align: top;\n    }\n\n    .dataframe thead th {\n        text-align: right;\n    }\n</style>\n<table border=\"1\" class=\"dataframe\">\n  <thead>\n    <tr style=\"text-align: right;\">\n      <th></th>\n      <th>Phone</th>\n      <th>First</th>\n      <th>Last</th>\n    </tr>\n    <tr>\n      <th>Member #</th>\n      <th></th>\n      <th></th>\n      <th></th>\n    </tr>\n  </thead>\n  <tbody>\n    <tr>\n      <th>A1032</th>\n      <td>242-558-4196</td>\n      <td>Meredith</td>\n      <td>Wilkerson</td>\n    </tr>\n    <tr>\n      <th>A1049</th>\n      <td>556-992-2754</td>\n      <td>Summer</td>\n      <td>Justice</td>\n    </tr>\n    <tr>\n      <th>A1070</th>\n      <td>301-987-3246</td>\n      <td>Summer</td>\n      <td>Tanner</td>\n    </tr>\n    <tr>\n      <th>A1089</th>\n      <td>423-672-9066</td>\n      <td>Meredith</td>\n      <td>Carter</td>\n    </tr>\n  </tbody>\n</table>\n</div>"
     },
     "metadata": {},
     "output_type": "execute_result",
     "execution_count": 120
    }
   ],
   "source": [
    "df[df.First.isin([\"Meredith\",\"Summer\"])]"
   ]
  },
  {
   "cell_type": "markdown",
   "metadata": {},
   "source": [
    "- Select the rows with all First names that are \"Meredith\" or \"Summer\" and whose phone numbers start with 3-9. \n",
    "\n",
    "Note that you can perform element-wise logical operations with the & and | symbols, but you should be careful to group operations with parentheses."
   ]
  },
  {
   "cell_type": "code",
   "execution_count": 121,
   "metadata": {
    "pycharm": {
     "is_executing": false
    }
   },
   "outputs": [
    {
     "data": {
      "text/plain": "                 Phone     First     Last\nMember #                                 \nA1049     556-992-2754    Summer  Justice\nA1070     301-987-3246    Summer   Tanner\nA1089     423-672-9066  Meredith   Carter",
      "text/html": "<div>\n<style scoped>\n    .dataframe tbody tr th:only-of-type {\n        vertical-align: middle;\n    }\n\n    .dataframe tbody tr th {\n        vertical-align: top;\n    }\n\n    .dataframe thead th {\n        text-align: right;\n    }\n</style>\n<table border=\"1\" class=\"dataframe\">\n  <thead>\n    <tr style=\"text-align: right;\">\n      <th></th>\n      <th>Phone</th>\n      <th>First</th>\n      <th>Last</th>\n    </tr>\n    <tr>\n      <th>Member #</th>\n      <th></th>\n      <th></th>\n      <th></th>\n    </tr>\n  </thead>\n  <tbody>\n    <tr>\n      <th>A1049</th>\n      <td>556-992-2754</td>\n      <td>Summer</td>\n      <td>Justice</td>\n    </tr>\n    <tr>\n      <th>A1070</th>\n      <td>301-987-3246</td>\n      <td>Summer</td>\n      <td>Tanner</td>\n    </tr>\n    <tr>\n      <th>A1089</th>\n      <td>423-672-9066</td>\n      <td>Meredith</td>\n      <td>Carter</td>\n    </tr>\n  </tbody>\n</table>\n</div>"
     },
     "metadata": {},
     "output_type": "execute_result",
     "execution_count": 121
    }
   ],
   "source": [
    "df[df.First.isin([\"Meredith\",\"Summer\"]) & (df.Phone >= \"3\")]"
   ]
  },
  {
   "cell_type": "markdown",
   "metadata": {},
   "source": [
    "- Select the phone numbers (only) in all the rows in which the first names are \"Meredith\" or \"Summer\". The reading doesn’t show you explicitly, but you can use the logical series returned by an operation in conjunction with .loc and .iloc...."
   ]
  },
  {
   "cell_type": "code",
   "execution_count": 122,
   "metadata": {
    "pycharm": {
     "is_executing": false
    }
   },
   "outputs": [
    {
     "data": {
      "text/plain": "Member #\nA1032    242-558-4196\nA1049    556-992-2754\nA1070    301-987-3246\nA1089    423-672-9066\nName: Phone, dtype: object"
     },
     "metadata": {},
     "output_type": "execute_result",
     "execution_count": 122
    }
   ],
   "source": [
    "df[df.First.isin([\"Meredith\",\"Summer\"])].loc[:,\"Phone\"]"
   ]
  },
  {
   "cell_type": "markdown",
   "metadata": {},
   "source": [
    "## Modify selected DataFrame data\n",
    "\n",
    "- Now that you can select data, not only can you can return it - you can change it! You can change the value of all entries you have selected (to the same new value) simultaneously using the assignment operator. \n",
    "\n",
    "For instance:\n",
    "\n",
    "my_data_frame.loc[\"A1001\",\"Phone\"] = \"888-888-8888\"\n",
    "\n",
    "my_data_frame.iloc[0:1,0:1] = \"111-111-1111\"\n",
    "\n",
    "my_data_frame.loc[my_data_frame.Phone == \"111-111-1111\", \"Phone\"] = \"222-222-2222\""
   ]
  },
  {
   "cell_type": "markdown",
   "metadata": {},
   "source": [
    "- Try changing all the First Names in the DataFrame that start with the letter \"A\" to \"Unicorn\"\n"
   ]
  },
  {
   "cell_type": "code",
   "execution_count": 123,
   "metadata": {
    "pycharm": {
     "is_executing": false
    }
   },
   "outputs": [
    {
     "data": {
      "text/plain": "                 Phone      First       Last\nMember #                                    \nA1001     125-111-4978    Unicorn       Bell\nA1002     763-303-7544     Declan       Buck\nA1003     695-919-3789      Carol    Vazquez\nA1004     276-570-7451      Fleur     Dunlap\nA1005     498-479-7074      Garth     Potter\nA1006     139-907-8100    Martena    Jenkins\nA1007     893-406-0425   Emmanuel     Morgan\nA1008     205-472-5798       Hoyt    Tillman\nA1009     820-847-5666       Tana    Vazquez\nA1010     186-115-8489      Kitra     Jordan\nA1011     287-177-2909      Jenna     Strong\nA1012     899-323-0486      Helen   Sheppard\nA1013     614-992-6830    Michael     Franco\nA1014     572-564-7938      Imani      Byers\nA1015     937-238-8313      Wendy      Stout\nA1016     455-370-9268     Walker    Edwards\nA1017     337-350-0922       Yael       Lamb\nA1018     353-651-7605     Baxter    Charles\nA1019     136-956-6416        Yen      Stein\nA1020     482-431-3179      Perry        Ray\nA1021     259-589-0664    Unicorn    Patrick\nA1022     601-488-1174      Irene   Cantrell\nA1023     630-962-1162   Channing    Holland\nA1024     607-929-1091       Roth      Nunez\nA1025     679-505-2213    Unicorn    Sanders\nA1026     852-561-0924       Erin    Puckett\nA1027     620-969-5670     Evelyn     Harris\nA1028     654-990-2627       Todd   Castillo\nA1029     530-493-8306     Carson      Curry\nA1030     594-789-4449   Savannah       Wood\n...                ...        ...        ...\nA1071     411-883-7642       Ulla      Avery\nA1072     736-791-1156    Unicorn      Small\nA1073     677-980-7326       Cleo     Moreno\nA1074     697-777-7905      Reece     Ortega\nA1075     279-445-6561        Ori     Cotton\nA1076     207-872-8956   Harrison       Page\nA1077     672-355-0177    Vaughan   Browning\nA1078     384-530-6659   Kathleen  Mcconnell\nA1079     241-622-2164       Todd         Le\nA1080     178-836-2737      Hilel   Mcintyre\nA1081     513-285-0257  MacKenzie     Finley\nA1082     724-607-5594    Unicorn      Bates\nA1083     655-277-9422   Caldwell    Winters\nA1084     652-717-6070      Flynn   Odonnell\nA1085     618-571-0200    Unicorn    Whitley\nA1086     422-508-6558    Unicorn      Bauer\nA1087     920-271-2608    Melissa     Acosta\nA1088     420-181-3711  Jessamine     Reeves\nA1089     423-672-9066   Meredith     Carter\nA1090     192-617-3694     Keelie    Fischer\nA1091     963-621-8389      Thane    Jenkins\nA1092     225-392-0669    Brandon     Joseph\nA1093     421-485-3036    Latifah     Palmer\nA1094     146-650-2279      Briar   Mccarthy\nA1095     971-380-3157        Ori       Wise\nA1096     801-950-2736    Carolyn      Reese\nA1097     363-333-3522      Carla      Hardy\nA1098     611-668-2294      Halla     Barker\nA1099     162-830-7380     Joseph      Nunez\nA1100     706-238-3765       Finn   Hamilton\n\n[100 rows x 3 columns]",
      "text/html": "<div>\n<style scoped>\n    .dataframe tbody tr th:only-of-type {\n        vertical-align: middle;\n    }\n\n    .dataframe tbody tr th {\n        vertical-align: top;\n    }\n\n    .dataframe thead th {\n        text-align: right;\n    }\n</style>\n<table border=\"1\" class=\"dataframe\">\n  <thead>\n    <tr style=\"text-align: right;\">\n      <th></th>\n      <th>Phone</th>\n      <th>First</th>\n      <th>Last</th>\n    </tr>\n    <tr>\n      <th>Member #</th>\n      <th></th>\n      <th></th>\n      <th></th>\n    </tr>\n  </thead>\n  <tbody>\n    <tr>\n      <th>A1001</th>\n      <td>125-111-4978</td>\n      <td>Unicorn</td>\n      <td>Bell</td>\n    </tr>\n    <tr>\n      <th>A1002</th>\n      <td>763-303-7544</td>\n      <td>Declan</td>\n      <td>Buck</td>\n    </tr>\n    <tr>\n      <th>A1003</th>\n      <td>695-919-3789</td>\n      <td>Carol</td>\n      <td>Vazquez</td>\n    </tr>\n    <tr>\n      <th>A1004</th>\n      <td>276-570-7451</td>\n      <td>Fleur</td>\n      <td>Dunlap</td>\n    </tr>\n    <tr>\n      <th>A1005</th>\n      <td>498-479-7074</td>\n      <td>Garth</td>\n      <td>Potter</td>\n    </tr>\n    <tr>\n      <th>A1006</th>\n      <td>139-907-8100</td>\n      <td>Martena</td>\n      <td>Jenkins</td>\n    </tr>\n    <tr>\n      <th>A1007</th>\n      <td>893-406-0425</td>\n      <td>Emmanuel</td>\n      <td>Morgan</td>\n    </tr>\n    <tr>\n      <th>A1008</th>\n      <td>205-472-5798</td>\n      <td>Hoyt</td>\n      <td>Tillman</td>\n    </tr>\n    <tr>\n      <th>A1009</th>\n      <td>820-847-5666</td>\n      <td>Tana</td>\n      <td>Vazquez</td>\n    </tr>\n    <tr>\n      <th>A1010</th>\n      <td>186-115-8489</td>\n      <td>Kitra</td>\n      <td>Jordan</td>\n    </tr>\n    <tr>\n      <th>A1011</th>\n      <td>287-177-2909</td>\n      <td>Jenna</td>\n      <td>Strong</td>\n    </tr>\n    <tr>\n      <th>A1012</th>\n      <td>899-323-0486</td>\n      <td>Helen</td>\n      <td>Sheppard</td>\n    </tr>\n    <tr>\n      <th>A1013</th>\n      <td>614-992-6830</td>\n      <td>Michael</td>\n      <td>Franco</td>\n    </tr>\n    <tr>\n      <th>A1014</th>\n      <td>572-564-7938</td>\n      <td>Imani</td>\n      <td>Byers</td>\n    </tr>\n    <tr>\n      <th>A1015</th>\n      <td>937-238-8313</td>\n      <td>Wendy</td>\n      <td>Stout</td>\n    </tr>\n    <tr>\n      <th>A1016</th>\n      <td>455-370-9268</td>\n      <td>Walker</td>\n      <td>Edwards</td>\n    </tr>\n    <tr>\n      <th>A1017</th>\n      <td>337-350-0922</td>\n      <td>Yael</td>\n      <td>Lamb</td>\n    </tr>\n    <tr>\n      <th>A1018</th>\n      <td>353-651-7605</td>\n      <td>Baxter</td>\n      <td>Charles</td>\n    </tr>\n    <tr>\n      <th>A1019</th>\n      <td>136-956-6416</td>\n      <td>Yen</td>\n      <td>Stein</td>\n    </tr>\n    <tr>\n      <th>A1020</th>\n      <td>482-431-3179</td>\n      <td>Perry</td>\n      <td>Ray</td>\n    </tr>\n    <tr>\n      <th>A1021</th>\n      <td>259-589-0664</td>\n      <td>Unicorn</td>\n      <td>Patrick</td>\n    </tr>\n    <tr>\n      <th>A1022</th>\n      <td>601-488-1174</td>\n      <td>Irene</td>\n      <td>Cantrell</td>\n    </tr>\n    <tr>\n      <th>A1023</th>\n      <td>630-962-1162</td>\n      <td>Channing</td>\n      <td>Holland</td>\n    </tr>\n    <tr>\n      <th>A1024</th>\n      <td>607-929-1091</td>\n      <td>Roth</td>\n      <td>Nunez</td>\n    </tr>\n    <tr>\n      <th>A1025</th>\n      <td>679-505-2213</td>\n      <td>Unicorn</td>\n      <td>Sanders</td>\n    </tr>\n    <tr>\n      <th>A1026</th>\n      <td>852-561-0924</td>\n      <td>Erin</td>\n      <td>Puckett</td>\n    </tr>\n    <tr>\n      <th>A1027</th>\n      <td>620-969-5670</td>\n      <td>Evelyn</td>\n      <td>Harris</td>\n    </tr>\n    <tr>\n      <th>A1028</th>\n      <td>654-990-2627</td>\n      <td>Todd</td>\n      <td>Castillo</td>\n    </tr>\n    <tr>\n      <th>A1029</th>\n      <td>530-493-8306</td>\n      <td>Carson</td>\n      <td>Curry</td>\n    </tr>\n    <tr>\n      <th>A1030</th>\n      <td>594-789-4449</td>\n      <td>Savannah</td>\n      <td>Wood</td>\n    </tr>\n    <tr>\n      <th>...</th>\n      <td>...</td>\n      <td>...</td>\n      <td>...</td>\n    </tr>\n    <tr>\n      <th>A1071</th>\n      <td>411-883-7642</td>\n      <td>Ulla</td>\n      <td>Avery</td>\n    </tr>\n    <tr>\n      <th>A1072</th>\n      <td>736-791-1156</td>\n      <td>Unicorn</td>\n      <td>Small</td>\n    </tr>\n    <tr>\n      <th>A1073</th>\n      <td>677-980-7326</td>\n      <td>Cleo</td>\n      <td>Moreno</td>\n    </tr>\n    <tr>\n      <th>A1074</th>\n      <td>697-777-7905</td>\n      <td>Reece</td>\n      <td>Ortega</td>\n    </tr>\n    <tr>\n      <th>A1075</th>\n      <td>279-445-6561</td>\n      <td>Ori</td>\n      <td>Cotton</td>\n    </tr>\n    <tr>\n      <th>A1076</th>\n      <td>207-872-8956</td>\n      <td>Harrison</td>\n      <td>Page</td>\n    </tr>\n    <tr>\n      <th>A1077</th>\n      <td>672-355-0177</td>\n      <td>Vaughan</td>\n      <td>Browning</td>\n    </tr>\n    <tr>\n      <th>A1078</th>\n      <td>384-530-6659</td>\n      <td>Kathleen</td>\n      <td>Mcconnell</td>\n    </tr>\n    <tr>\n      <th>A1079</th>\n      <td>241-622-2164</td>\n      <td>Todd</td>\n      <td>Le</td>\n    </tr>\n    <tr>\n      <th>A1080</th>\n      <td>178-836-2737</td>\n      <td>Hilel</td>\n      <td>Mcintyre</td>\n    </tr>\n    <tr>\n      <th>A1081</th>\n      <td>513-285-0257</td>\n      <td>MacKenzie</td>\n      <td>Finley</td>\n    </tr>\n    <tr>\n      <th>A1082</th>\n      <td>724-607-5594</td>\n      <td>Unicorn</td>\n      <td>Bates</td>\n    </tr>\n    <tr>\n      <th>A1083</th>\n      <td>655-277-9422</td>\n      <td>Caldwell</td>\n      <td>Winters</td>\n    </tr>\n    <tr>\n      <th>A1084</th>\n      <td>652-717-6070</td>\n      <td>Flynn</td>\n      <td>Odonnell</td>\n    </tr>\n    <tr>\n      <th>A1085</th>\n      <td>618-571-0200</td>\n      <td>Unicorn</td>\n      <td>Whitley</td>\n    </tr>\n    <tr>\n      <th>A1086</th>\n      <td>422-508-6558</td>\n      <td>Unicorn</td>\n      <td>Bauer</td>\n    </tr>\n    <tr>\n      <th>A1087</th>\n      <td>920-271-2608</td>\n      <td>Melissa</td>\n      <td>Acosta</td>\n    </tr>\n    <tr>\n      <th>A1088</th>\n      <td>420-181-3711</td>\n      <td>Jessamine</td>\n      <td>Reeves</td>\n    </tr>\n    <tr>\n      <th>A1089</th>\n      <td>423-672-9066</td>\n      <td>Meredith</td>\n      <td>Carter</td>\n    </tr>\n    <tr>\n      <th>A1090</th>\n      <td>192-617-3694</td>\n      <td>Keelie</td>\n      <td>Fischer</td>\n    </tr>\n    <tr>\n      <th>A1091</th>\n      <td>963-621-8389</td>\n      <td>Thane</td>\n      <td>Jenkins</td>\n    </tr>\n    <tr>\n      <th>A1092</th>\n      <td>225-392-0669</td>\n      <td>Brandon</td>\n      <td>Joseph</td>\n    </tr>\n    <tr>\n      <th>A1093</th>\n      <td>421-485-3036</td>\n      <td>Latifah</td>\n      <td>Palmer</td>\n    </tr>\n    <tr>\n      <th>A1094</th>\n      <td>146-650-2279</td>\n      <td>Briar</td>\n      <td>Mccarthy</td>\n    </tr>\n    <tr>\n      <th>A1095</th>\n      <td>971-380-3157</td>\n      <td>Ori</td>\n      <td>Wise</td>\n    </tr>\n    <tr>\n      <th>A1096</th>\n      <td>801-950-2736</td>\n      <td>Carolyn</td>\n      <td>Reese</td>\n    </tr>\n    <tr>\n      <th>A1097</th>\n      <td>363-333-3522</td>\n      <td>Carla</td>\n      <td>Hardy</td>\n    </tr>\n    <tr>\n      <th>A1098</th>\n      <td>611-668-2294</td>\n      <td>Halla</td>\n      <td>Barker</td>\n    </tr>\n    <tr>\n      <th>A1099</th>\n      <td>162-830-7380</td>\n      <td>Joseph</td>\n      <td>Nunez</td>\n    </tr>\n    <tr>\n      <th>A1100</th>\n      <td>706-238-3765</td>\n      <td>Finn</td>\n      <td>Hamilton</td>\n    </tr>\n  </tbody>\n</table>\n<p>100 rows × 3 columns</p>\n</div>"
     },
     "metadata": {},
     "output_type": "execute_result",
     "execution_count": 123
    }
   ],
   "source": [
    "df.First[df.First < \"B\"] = \"Unicorn\"\n",
    "df"
   ]
  },
  {
   "cell_type": "markdown",
   "metadata": {},
   "source": [
    "## Remove data\n",
    "\n",
    "- You can remove data by selecting what you want and saving that to a new variable.\n",
    "\n",
    "For instance, to remove the row A1001:\n",
    "\n",
    "y = df[1:]\n",
    "\n",
    "y = df[\"A1002\":]\n",
    "\n",
    "y = df[df.index != \"A1001\"]"
   ]
  },
  {
   "cell_type": "code",
   "execution_count": 124,
   "metadata": {
    "pycharm": {
     "is_executing": false
    }
   },
   "outputs": [
    {
     "data": {
      "text/plain": "                 Phone      First       Last\nMember #                                    \nA1002     763-303-7544     Declan       Buck\nA1003     695-919-3789      Carol    Vazquez\nA1004     276-570-7451      Fleur     Dunlap\nA1005     498-479-7074      Garth     Potter\nA1006     139-907-8100    Martena    Jenkins\nA1007     893-406-0425   Emmanuel     Morgan\nA1008     205-472-5798       Hoyt    Tillman\nA1009     820-847-5666       Tana    Vazquez\nA1010     186-115-8489      Kitra     Jordan\nA1011     287-177-2909      Jenna     Strong\nA1012     899-323-0486      Helen   Sheppard\nA1013     614-992-6830    Michael     Franco\nA1014     572-564-7938      Imani      Byers\nA1015     937-238-8313      Wendy      Stout\nA1016     455-370-9268     Walker    Edwards\nA1017     337-350-0922       Yael       Lamb\nA1018     353-651-7605     Baxter    Charles\nA1019     136-956-6416        Yen      Stein\nA1020     482-431-3179      Perry        Ray\nA1021     259-589-0664    Unicorn    Patrick\nA1022     601-488-1174      Irene   Cantrell\nA1023     630-962-1162   Channing    Holland\nA1024     607-929-1091       Roth      Nunez\nA1025     679-505-2213    Unicorn    Sanders\nA1026     852-561-0924       Erin    Puckett\nA1027     620-969-5670     Evelyn     Harris\nA1028     654-990-2627       Todd   Castillo\nA1029     530-493-8306     Carson      Curry\nA1030     594-789-4449   Savannah       Wood\nA1031     834-211-7419       Ruby      Mcgee\n...                ...        ...        ...\nA1071     411-883-7642       Ulla      Avery\nA1072     736-791-1156    Unicorn      Small\nA1073     677-980-7326       Cleo     Moreno\nA1074     697-777-7905      Reece     Ortega\nA1075     279-445-6561        Ori     Cotton\nA1076     207-872-8956   Harrison       Page\nA1077     672-355-0177    Vaughan   Browning\nA1078     384-530-6659   Kathleen  Mcconnell\nA1079     241-622-2164       Todd         Le\nA1080     178-836-2737      Hilel   Mcintyre\nA1081     513-285-0257  MacKenzie     Finley\nA1082     724-607-5594    Unicorn      Bates\nA1083     655-277-9422   Caldwell    Winters\nA1084     652-717-6070      Flynn   Odonnell\nA1085     618-571-0200    Unicorn    Whitley\nA1086     422-508-6558    Unicorn      Bauer\nA1087     920-271-2608    Melissa     Acosta\nA1088     420-181-3711  Jessamine     Reeves\nA1089     423-672-9066   Meredith     Carter\nA1090     192-617-3694     Keelie    Fischer\nA1091     963-621-8389      Thane    Jenkins\nA1092     225-392-0669    Brandon     Joseph\nA1093     421-485-3036    Latifah     Palmer\nA1094     146-650-2279      Briar   Mccarthy\nA1095     971-380-3157        Ori       Wise\nA1096     801-950-2736    Carolyn      Reese\nA1097     363-333-3522      Carla      Hardy\nA1098     611-668-2294      Halla     Barker\nA1099     162-830-7380     Joseph      Nunez\nA1100     706-238-3765       Finn   Hamilton\n\n[99 rows x 3 columns]",
      "text/html": "<div>\n<style scoped>\n    .dataframe tbody tr th:only-of-type {\n        vertical-align: middle;\n    }\n\n    .dataframe tbody tr th {\n        vertical-align: top;\n    }\n\n    .dataframe thead th {\n        text-align: right;\n    }\n</style>\n<table border=\"1\" class=\"dataframe\">\n  <thead>\n    <tr style=\"text-align: right;\">\n      <th></th>\n      <th>Phone</th>\n      <th>First</th>\n      <th>Last</th>\n    </tr>\n    <tr>\n      <th>Member #</th>\n      <th></th>\n      <th></th>\n      <th></th>\n    </tr>\n  </thead>\n  <tbody>\n    <tr>\n      <th>A1002</th>\n      <td>763-303-7544</td>\n      <td>Declan</td>\n      <td>Buck</td>\n    </tr>\n    <tr>\n      <th>A1003</th>\n      <td>695-919-3789</td>\n      <td>Carol</td>\n      <td>Vazquez</td>\n    </tr>\n    <tr>\n      <th>A1004</th>\n      <td>276-570-7451</td>\n      <td>Fleur</td>\n      <td>Dunlap</td>\n    </tr>\n    <tr>\n      <th>A1005</th>\n      <td>498-479-7074</td>\n      <td>Garth</td>\n      <td>Potter</td>\n    </tr>\n    <tr>\n      <th>A1006</th>\n      <td>139-907-8100</td>\n      <td>Martena</td>\n      <td>Jenkins</td>\n    </tr>\n    <tr>\n      <th>A1007</th>\n      <td>893-406-0425</td>\n      <td>Emmanuel</td>\n      <td>Morgan</td>\n    </tr>\n    <tr>\n      <th>A1008</th>\n      <td>205-472-5798</td>\n      <td>Hoyt</td>\n      <td>Tillman</td>\n    </tr>\n    <tr>\n      <th>A1009</th>\n      <td>820-847-5666</td>\n      <td>Tana</td>\n      <td>Vazquez</td>\n    </tr>\n    <tr>\n      <th>A1010</th>\n      <td>186-115-8489</td>\n      <td>Kitra</td>\n      <td>Jordan</td>\n    </tr>\n    <tr>\n      <th>A1011</th>\n      <td>287-177-2909</td>\n      <td>Jenna</td>\n      <td>Strong</td>\n    </tr>\n    <tr>\n      <th>A1012</th>\n      <td>899-323-0486</td>\n      <td>Helen</td>\n      <td>Sheppard</td>\n    </tr>\n    <tr>\n      <th>A1013</th>\n      <td>614-992-6830</td>\n      <td>Michael</td>\n      <td>Franco</td>\n    </tr>\n    <tr>\n      <th>A1014</th>\n      <td>572-564-7938</td>\n      <td>Imani</td>\n      <td>Byers</td>\n    </tr>\n    <tr>\n      <th>A1015</th>\n      <td>937-238-8313</td>\n      <td>Wendy</td>\n      <td>Stout</td>\n    </tr>\n    <tr>\n      <th>A1016</th>\n      <td>455-370-9268</td>\n      <td>Walker</td>\n      <td>Edwards</td>\n    </tr>\n    <tr>\n      <th>A1017</th>\n      <td>337-350-0922</td>\n      <td>Yael</td>\n      <td>Lamb</td>\n    </tr>\n    <tr>\n      <th>A1018</th>\n      <td>353-651-7605</td>\n      <td>Baxter</td>\n      <td>Charles</td>\n    </tr>\n    <tr>\n      <th>A1019</th>\n      <td>136-956-6416</td>\n      <td>Yen</td>\n      <td>Stein</td>\n    </tr>\n    <tr>\n      <th>A1020</th>\n      <td>482-431-3179</td>\n      <td>Perry</td>\n      <td>Ray</td>\n    </tr>\n    <tr>\n      <th>A1021</th>\n      <td>259-589-0664</td>\n      <td>Unicorn</td>\n      <td>Patrick</td>\n    </tr>\n    <tr>\n      <th>A1022</th>\n      <td>601-488-1174</td>\n      <td>Irene</td>\n      <td>Cantrell</td>\n    </tr>\n    <tr>\n      <th>A1023</th>\n      <td>630-962-1162</td>\n      <td>Channing</td>\n      <td>Holland</td>\n    </tr>\n    <tr>\n      <th>A1024</th>\n      <td>607-929-1091</td>\n      <td>Roth</td>\n      <td>Nunez</td>\n    </tr>\n    <tr>\n      <th>A1025</th>\n      <td>679-505-2213</td>\n      <td>Unicorn</td>\n      <td>Sanders</td>\n    </tr>\n    <tr>\n      <th>A1026</th>\n      <td>852-561-0924</td>\n      <td>Erin</td>\n      <td>Puckett</td>\n    </tr>\n    <tr>\n      <th>A1027</th>\n      <td>620-969-5670</td>\n      <td>Evelyn</td>\n      <td>Harris</td>\n    </tr>\n    <tr>\n      <th>A1028</th>\n      <td>654-990-2627</td>\n      <td>Todd</td>\n      <td>Castillo</td>\n    </tr>\n    <tr>\n      <th>A1029</th>\n      <td>530-493-8306</td>\n      <td>Carson</td>\n      <td>Curry</td>\n    </tr>\n    <tr>\n      <th>A1030</th>\n      <td>594-789-4449</td>\n      <td>Savannah</td>\n      <td>Wood</td>\n    </tr>\n    <tr>\n      <th>A1031</th>\n      <td>834-211-7419</td>\n      <td>Ruby</td>\n      <td>Mcgee</td>\n    </tr>\n    <tr>\n      <th>...</th>\n      <td>...</td>\n      <td>...</td>\n      <td>...</td>\n    </tr>\n    <tr>\n      <th>A1071</th>\n      <td>411-883-7642</td>\n      <td>Ulla</td>\n      <td>Avery</td>\n    </tr>\n    <tr>\n      <th>A1072</th>\n      <td>736-791-1156</td>\n      <td>Unicorn</td>\n      <td>Small</td>\n    </tr>\n    <tr>\n      <th>A1073</th>\n      <td>677-980-7326</td>\n      <td>Cleo</td>\n      <td>Moreno</td>\n    </tr>\n    <tr>\n      <th>A1074</th>\n      <td>697-777-7905</td>\n      <td>Reece</td>\n      <td>Ortega</td>\n    </tr>\n    <tr>\n      <th>A1075</th>\n      <td>279-445-6561</td>\n      <td>Ori</td>\n      <td>Cotton</td>\n    </tr>\n    <tr>\n      <th>A1076</th>\n      <td>207-872-8956</td>\n      <td>Harrison</td>\n      <td>Page</td>\n    </tr>\n    <tr>\n      <th>A1077</th>\n      <td>672-355-0177</td>\n      <td>Vaughan</td>\n      <td>Browning</td>\n    </tr>\n    <tr>\n      <th>A1078</th>\n      <td>384-530-6659</td>\n      <td>Kathleen</td>\n      <td>Mcconnell</td>\n    </tr>\n    <tr>\n      <th>A1079</th>\n      <td>241-622-2164</td>\n      <td>Todd</td>\n      <td>Le</td>\n    </tr>\n    <tr>\n      <th>A1080</th>\n      <td>178-836-2737</td>\n      <td>Hilel</td>\n      <td>Mcintyre</td>\n    </tr>\n    <tr>\n      <th>A1081</th>\n      <td>513-285-0257</td>\n      <td>MacKenzie</td>\n      <td>Finley</td>\n    </tr>\n    <tr>\n      <th>A1082</th>\n      <td>724-607-5594</td>\n      <td>Unicorn</td>\n      <td>Bates</td>\n    </tr>\n    <tr>\n      <th>A1083</th>\n      <td>655-277-9422</td>\n      <td>Caldwell</td>\n      <td>Winters</td>\n    </tr>\n    <tr>\n      <th>A1084</th>\n      <td>652-717-6070</td>\n      <td>Flynn</td>\n      <td>Odonnell</td>\n    </tr>\n    <tr>\n      <th>A1085</th>\n      <td>618-571-0200</td>\n      <td>Unicorn</td>\n      <td>Whitley</td>\n    </tr>\n    <tr>\n      <th>A1086</th>\n      <td>422-508-6558</td>\n      <td>Unicorn</td>\n      <td>Bauer</td>\n    </tr>\n    <tr>\n      <th>A1087</th>\n      <td>920-271-2608</td>\n      <td>Melissa</td>\n      <td>Acosta</td>\n    </tr>\n    <tr>\n      <th>A1088</th>\n      <td>420-181-3711</td>\n      <td>Jessamine</td>\n      <td>Reeves</td>\n    </tr>\n    <tr>\n      <th>A1089</th>\n      <td>423-672-9066</td>\n      <td>Meredith</td>\n      <td>Carter</td>\n    </tr>\n    <tr>\n      <th>A1090</th>\n      <td>192-617-3694</td>\n      <td>Keelie</td>\n      <td>Fischer</td>\n    </tr>\n    <tr>\n      <th>A1091</th>\n      <td>963-621-8389</td>\n      <td>Thane</td>\n      <td>Jenkins</td>\n    </tr>\n    <tr>\n      <th>A1092</th>\n      <td>225-392-0669</td>\n      <td>Brandon</td>\n      <td>Joseph</td>\n    </tr>\n    <tr>\n      <th>A1093</th>\n      <td>421-485-3036</td>\n      <td>Latifah</td>\n      <td>Palmer</td>\n    </tr>\n    <tr>\n      <th>A1094</th>\n      <td>146-650-2279</td>\n      <td>Briar</td>\n      <td>Mccarthy</td>\n    </tr>\n    <tr>\n      <th>A1095</th>\n      <td>971-380-3157</td>\n      <td>Ori</td>\n      <td>Wise</td>\n    </tr>\n    <tr>\n      <th>A1096</th>\n      <td>801-950-2736</td>\n      <td>Carolyn</td>\n      <td>Reese</td>\n    </tr>\n    <tr>\n      <th>A1097</th>\n      <td>363-333-3522</td>\n      <td>Carla</td>\n      <td>Hardy</td>\n    </tr>\n    <tr>\n      <th>A1098</th>\n      <td>611-668-2294</td>\n      <td>Halla</td>\n      <td>Barker</td>\n    </tr>\n    <tr>\n      <th>A1099</th>\n      <td>162-830-7380</td>\n      <td>Joseph</td>\n      <td>Nunez</td>\n    </tr>\n    <tr>\n      <th>A1100</th>\n      <td>706-238-3765</td>\n      <td>Finn</td>\n      <td>Hamilton</td>\n    </tr>\n  </tbody>\n</table>\n<p>99 rows × 3 columns</p>\n</div>"
     },
     "metadata": {},
     "output_type": "execute_result",
     "execution_count": 124
    }
   ],
   "source": [
    "y = df[1:]\n",
    "# y = df[df.index != \"A1001\"]\n",
    "y"
   ]
  },
  {
   "cell_type": "markdown",
   "metadata": {},
   "source": [
    "- We can also add data by concatenation. Read [Concat](https://pandas.pydata.org/pandas-docs/stable/getting_started/10min.html)."
   ]
  },
  {
   "cell_type": "markdown",
   "metadata": {},
   "source": [
    "- Now let's save our modified spreadsheet in data2.xlsx."
   ]
  },
  {
   "cell_type": "code",
   "execution_count": 125,
   "metadata": {
    "collapsed": true,
    "pycharm": {
     "is_executing": false
    }
   },
   "outputs": [],
   "source": [
    "df.to_excel('data2.xlsx', sheet_name='Worksheet')"
   ]
  }
 ],
 "metadata": {
  "kernelspec": {
   "display_name": "Python 2",
   "language": "python",
   "name": "python2"
  },
  "language_info": {
   "codemirror_mode": {
    "name": "ipython",
    "version": 2
   },
   "file_extension": ".py",
   "mimetype": "text/x-python",
   "name": "python",
   "nbconvert_exporter": "python",
   "pygments_lexer": "ipython2",
   "version": "2.7.14"
  },
  "pycharm": {
   "stem_cell": {
    "cell_type": "raw",
    "source": [],
    "metadata": {
     "collapsed": false
    }
   }
  }
 },
 "nbformat": 4,
 "nbformat_minor": 2
}
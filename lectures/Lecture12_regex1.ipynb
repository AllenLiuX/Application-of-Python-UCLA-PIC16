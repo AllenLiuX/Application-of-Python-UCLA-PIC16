{
 "cells": [
  {
   "cell_type": "markdown",
   "metadata": {
    "pycharm": {}
   },
   "source": [
    "# Lecture 12: Regular Expressions\n",
    "\n",
    "- Reading material: tutorial https://regexone.com\n",
    "\n",
    "- The cheat sheet at the following link is very useful to keep in the background. https://www.debuggex.com/cheatsheet/regex/python \n",
    "\n",
    "- Here's another useful website for you to test your regular expressions.\n",
    "http://pythex.org/"
   ]
  },
  {
   "cell_type": "markdown",
   "metadata": {
    "pycharm": {}
   },
   "source": [
    "Regular expressions are a language to describe patterns in strings. They are extremely useful when working with data sets. \n",
    "\n",
    "To start, we need the module __re__, and two functions from it: __search__ and __findall__. The function __re.search__ takes as input a pattern and a string, and returns an object (of a class that is specific to the __re__ module) that contains the first substring matching the pattern, together with its location in the string. We can call the former using the __group()__ attribute, and the latter using the __start()__ and __end()__ attributes. \n",
    "\n",
    "For example:"
   ]
  },
  {
   "cell_type": "code",
   "execution_count": 25,
   "outputs": [
    {
     "name": "stdout",
     "text": [
      "[('123', 'John Alen'), ('456', 'Hsdg zdfgs')]\n"
     ],
     "output_type": "stream"
    }
   ],
   "source": [
    "import re\n",
    "pat = re.compile(r'(\\d{3})(?=-\\d{3}-).+ ([A-Za-z]+ [A-Za-z]+)')\n",
    "s = \"123-234-2345 John Alen\\n 456-234-2345 Hsdg zdfgs\"\n",
    "print re.findall(pat, s)"
   ],
   "metadata": {
    "collapsed": false,
    "pycharm": {
     "name": "#%%\n",
     "is_executing": false
    }
   }
  },
  {
   "cell_type": "code",
   "execution_count": 16,
   "metadata": {
    "collapsed": true,
    "pycharm": {
     "is_executing": false
    }
   },
   "outputs": [
    {
     "data": {
      "text/plain": "'abc'"
     },
     "metadata": {},
     "output_type": "execute_result",
     "execution_count": 16
    }
   ],
   "source": [
    "import re\n",
    "re.search(r'abc+?','abcd').group()"
   ]
  },
  {
   "cell_type": "code",
   "execution_count": 28,
   "metadata": {
    "collapsed": true,
    "pycharm": {
     "is_executing": false
    }
   },
   "outputs": [
    {
     "name": "stdout",
     "text": [
      "abc\nabccccc\nabcccccccccc\n['abccccc', 'abcc']\n['abca', 'abck']\n"
     ],
     "output_type": "stream"
    }
   ],
   "source": [
    "prog = re.compile(r'abc*')\n",
    "print prog.match('abcd').group()\n",
    "print prog.match('abcccccdabcc').group()\n",
    "print prog.match('abccccccccccd').group()\n",
    "print prog.findall('abcccccdabcc')\n"
   ]
  },
  {
   "cell_type": "code",
   "execution_count": 3,
   "metadata": {
    "collapsed": true,
    "pycharm": {
     "is_executing": false
    }
   },
   "outputs": [
    {
     "name": "stdout",
     "text": [
      "\\\\\n"
     ],
     "output_type": "stream"
    }
   ],
   "source": [
    "print r'\\\\'"
   ]
  },
  {
   "cell_type": "code",
   "execution_count": 4,
   "metadata": {
    "collapsed": true,
    "pycharm": {
     "is_executing": false
    }
   },
   "outputs": [
    {
     "data": {
      "text/plain": "'\\\\'"
     },
     "metadata": {},
     "output_type": "execute_result",
     "execution_count": 4
    }
   ],
   "source": [
    "re.search(r'\\\\','a\\\\b').group()"
   ]
  },
  {
   "cell_type": "code",
   "execution_count": 5,
   "metadata": {
    "collapsed": true,
    "pycharm": {
     "is_executing": false
    }
   },
   "outputs": [
    {
     "data": {
      "text/plain": "0"
     },
     "metadata": {},
     "output_type": "execute_result",
     "execution_count": 5
    }
   ],
   "source": [
    "re.search(r'abc','abcd').start()"
   ]
  },
  {
   "cell_type": "code",
   "execution_count": 6,
   "metadata": {
    "collapsed": true,
    "pycharm": {
     "is_executing": false
    }
   },
   "outputs": [
    {
     "data": {
      "text/plain": "3"
     },
     "metadata": {},
     "output_type": "execute_result",
     "execution_count": 6
    }
   ],
   "source": [
    "re.search(r'abc','abcd').end()"
   ]
  },
  {
   "cell_type": "markdown",
   "metadata": {
    "pycharm": {}
   },
   "source": [
    "The __group()__ attribute allows us to group the pattern, using parentheses, such that we can call different parts of it. \n",
    "\n",
    "Imagine, for example, that we are looking for email addresses and wish to sometimes only call the username or the domain. These groups may be nested; they are ordered by their leftmost parenthesis. The 0-group always returns the whole pattern. \n",
    "\n",
    "For example:"
   ]
  },
  {
   "cell_type": "code",
   "execution_count": 7,
   "metadata": {
    "collapsed": true,
    "pycharm": {
     "is_executing": false
    }
   },
   "outputs": [
    {
     "data": {
      "text/plain": "'ab'"
     },
     "metadata": {},
     "output_type": "execute_result",
     "execution_count": 7
    }
   ],
   "source": [
    "re.search(r'((a)b)c','abcd').group(1)"
   ]
  },
  {
   "cell_type": "code",
   "execution_count": 8,
   "metadata": {
    "collapsed": true,
    "pycharm": {
     "is_executing": false
    }
   },
   "outputs": [
    {
     "data": {
      "text/plain": "'a'"
     },
     "metadata": {},
     "output_type": "execute_result",
     "execution_count": 8
    }
   ],
   "source": [
    "re.search(r'((a)b)c','abcd').group(2)"
   ]
  },
  {
   "cell_type": "markdown",
   "metadata": {
    "pycharm": {}
   },
   "source": [
    "The __findall( )__ functions simply returns a list containing all substrings that match the pattern, without information about their location. \n",
    "\n",
    "To ask for more general patterns, we use placeholders, such as \n",
    "- __.__ for any character\n",
    "- __\\d__ for any digit\n",
    "- __[a-z]__ for lower case letters\n",
    "- __[A-Z]__ for upper case letters \n",
    "\n",
    "We also use multipliers, such as \n",
    "- __?__ for 0 or 1\n",
    "- __+__ for 1 or more\n",
    "- __*__ for any number. \n",
    "\n",
    "If we want to look for these special characters, instead of using them as placeholders, we can use __[ ]__. \n",
    "\n",
    "We can also use __|__ inside square brackets to mean “or”. So if we need an a or a b, we ask for a|b. \n",
    "\n",
    "We can also use __lookforwards__ and __lookbackwards__. These let us filter out patterns that are preceded or followed by another pattern, without asking for that pattern. For example, suppose that we have a list of real numbers that all have decimals, and we would like to filter out the integer parts, so we use a lookforward, indicated by __(?=)__ to a period:"
   ]
  },
  {
   "cell_type": "code",
   "execution_count": 29,
   "metadata": {
    "collapsed": true,
    "pycharm": {
     "is_executing": false
    }
   },
   "outputs": [
    {
     "name": "stdout",
     "text": [
      "['abca', 'abck']\n"
     ],
     "output_type": "stream"
    }
   ],
   "source": [
    "s='1.86 5.30 8.54 13.75'\n",
    "re.findall(r'\\d+(?=[.])',s) #在[]里，\".\"被当作字面含义\n",
    "#\n",
    "print re.findall('abc.(?=b)', 'abcabcccabckb')"
   ]
  },
  {
   "cell_type": "markdown",
   "metadata": {
    "pycharm": {}
   },
   "source": [
    "For example, suppose that we have the following piece of text:\n",
    "\n",
    "\"October arrived, spreading a damp chill over the grounds and into the castle. Madam Pomfrey, the nurse, was kept busy by a sudden spate of colds among the staff and students. Her Pepperup potion worked instantly, though it left the drinker smoking at the ears for several hours afterward. Ginny Weasley, who had been looking pale, was bullied into taking some by Percy. The steam pouring from under her vivid hair gave the impression that her whole head was on fire.\"\n",
    "\n",
    "We are looking for words that are capitalized, but that are not at the beginning of a sentence. These are words that are preceded by a lower case letter and then a space:"
   ]
  },
  {
   "cell_type": "code",
   "execution_count": 32,
   "metadata": {
    "collapsed": true,
    "pycharm": {
     "is_executing": false
    }
   },
   "outputs": [],
   "source": [
    "s='October arrived, spreading a damp chill over the grounds and into the castle. Madam Pomfrey, the nurse, was kept busy by a sudden spate of colds among the staff and students. Her Pepperup potion worked instantly, though it left the drinker smoking at the ears for several hours afterward. Ginny Weasley, who had been looking pale, was bullied into taking some by Percy. The steam pouring from under her vivid hair gave the impression that her whole head was on fire. '"
   ]
  },
  {
   "cell_type": "code",
   "execution_count": 33,
   "metadata": {
    "collapsed": true,
    "pycharm": {
     "is_executing": false
    }
   },
   "outputs": [
    {
     "data": {
      "text/plain": "['Pomfrey', 'Pepperup', 'Weasley', 'Percy']"
     },
     "metadata": {},
     "output_type": "execute_result",
     "execution_count": 33
    }
   ],
   "source": [
    "re.findall(r'(?<=[a-z] )[A-Z][a-z]+',s) #空格不用加转义"
   ]
  },
  {
   "cell_type": "markdown",
   "metadata": {
    "pycharm": {}
   },
   "source": [
    "### Exercise:"
   ]
  },
  {
   "cell_type": "markdown",
   "metadata": {
    "pycharm": {}
   },
   "source": [
    "- Write a regular expression that extracts all full sentences that are questions from a piece of english text.\n"
   ]
  },
  {
   "cell_type": "code",
   "execution_count": 59,
   "metadata": {
    "collapsed": true,
    "pycharm": {
     "is_executing": false
    }
   },
   "outputs": [
    {
     "name": "stdout",
     "text": [
      "['This is me?', 'I love you?']\n"
     ],
     "output_type": "stream"
    }
   ],
   "source": [
    "pat = re.compile(r'(?<=[.?] )[A-Za-z ]+\\?')\n",
    "str = \"Hi? This is me? ok. I love you?\"\n",
    "print pat.findall(str)\n"
   ]
  },
  {
   "cell_type": "markdown",
   "metadata": {
    "pycharm": {}
   },
   "source": [
    "- Write a regular expression that finds the maximum of all numbers (either integers or floats) that are in a string. The pattern ‘26’ should be counted as twenty six, rather than a 2 and a 6."
   ]
  },
  {
   "cell_type": "code",
   "execution_count": 72,
   "metadata": {
    "collapsed": true,
    "pycharm": {
     "is_executing": false
    }
   },
   "outputs": [
    {
     "name": "stdout",
     "text": [
      "('ee', 'g')\n"
     ],
     "output_type": "stream"
    }
   ],
   "source": [
    "a = re.match(r'g(oo|ee)(g)le', \"geegle google\")\n",
    "# print (help(re.findall))\n",
    "print a.groups()"
   ]
  },
  {
   "cell_type": "markdown",
   "metadata": {
    "pycharm": {}
   },
   "source": [
    "- Write a regular expression that finds all short sentences in a piece of english text (sentences with no more than 10 words)."
   ]
  },
  {
   "cell_type": "code",
   "execution_count": 73,
   "metadata": {
    "collapsed": true,
    "pycharm": {
     "is_executing": false
    }
   },
   "outputs": [
    {
     "name": "stdout",
     "text": [
      "12\n32\n43\n3\n"
     ],
     "output_type": "stream"
    }
   ],
   "source": [
    "it = re.finditer(r\"\\d+\",\"12a32bc43jf3\") \n",
    "for match in it: \n",
    "    print (match.group() )\n"
   ]
  },
  {
   "cell_type": "markdown",
   "metadata": {
    "pycharm": {}
   },
   "source": [
    "- Write a regular expression that lists the first letters of every sentence in a piece of english text.\n"
   ]
  },
  {
   "cell_type": "code",
   "execution_count": null,
   "metadata": {
    "collapsed": true,
    "pycharm": {}
   },
   "outputs": [],
   "source": []
  },
  {
   "cell_type": "markdown",
   "metadata": {
    "pycharm": {}
   },
   "source": [
    "- Use regular expressions to add commas between two numbers in a list of numbers separated only by spaces. So, we want to turn ’1 3 8 2’ into ’1, 3, 8, 2’. Then, also add square brackets, so that the list is written in a way that can be used in python.\n",
    "We want ’[1, 3, 8, 2]’. Put this all together to create a function that takes as input a string of space separated numbers, and outputs a python list of those numbers (not strings)."
   ]
  },
  {
   "cell_type": "code",
   "execution_count": null,
   "metadata": {
    "collapsed": true,
    "pycharm": {}
   },
   "outputs": [],
   "source": []
  }
 ],
 "metadata": {
  "kernelspec": {
   "name": "python2",
   "language": "python",
   "display_name": "Python 2"
  },
  "language_info": {
   "codemirror_mode": {
    "name": "ipython",
    "version": 2
   },
   "file_extension": ".py",
   "mimetype": "text/x-python",
   "name": "python",
   "nbconvert_exporter": "python",
   "pygments_lexer": "ipython2",
   "version": "2.7.14"
  },
  "pycharm": {
   "stem_cell": {
    "cell_type": "raw",
    "source": [],
    "metadata": {
     "collapsed": false
    }
   }
  }
 },
 "nbformat": 4,
 "nbformat_minor": 2
}
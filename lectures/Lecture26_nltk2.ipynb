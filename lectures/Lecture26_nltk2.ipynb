{
 "cells": [
  {
   "cell_type": "markdown",
   "metadata": {},
   "source": [
    "## Lecture 26: NLTK continued\n",
    "\n",
    "__Reading material:__\n",
    "- [NLTK Book](http://www.nltk.org/book/ch01.html) 1.3, 1.4, 3.1, 3.6, 5.1"
   ]
  },
  {
   "cell_type": "markdown",
   "metadata": {},
   "source": [
    "Take a look at [this](https://www.theguardian.com/books/2009/apr/03/agatha-christie-alzheimers-research) article about declining metrics of language use in Agatha Christie’s later books. Is it possible to detect Alzheimer’s or other mental conditions from a person’s writing? We’re not going to answer that question today, but natural language processing is a very powerful and promising field!"
   ]
  },
  {
   "cell_type": "markdown",
   "metadata": {},
   "source": [
    "1.Before you begin, execute the command <tt>nltk.download()</tt>. Select the “All Packages” tab and use it to download <tt>averaged_perceptron_tagger</tt>, <tt>maxent_treebank_pos_tagger</tt>, <tt>punkt</tt>, and <tt>wordnet</tt>. If at any point in this notebook you get a LookupError like “Resource 'XXXXX' not found. Please use the NLTK Downloader to obtain the resource”, find the resource in the downloader “All Packages” tab, download it, and try again."
   ]
  },
  {
   "cell_type": "code",
   "execution_count": 1,
   "metadata": {
    "collapsed": true,
    "pycharm": {
     "is_executing": false
    }
   },
   "outputs": [],
   "source": [
    "import nltk"
   ]
  },
  {
   "cell_type": "code",
   "execution_count": 2,
   "metadata": {
    "pycharm": {
     "is_executing": false
    }
   },
   "outputs": [],
   "source": [
    "#nltk.download()"
   ]
  },
  {
   "cell_type": "markdown",
   "metadata": {},
   "source": [
    "2.Use the instructions from [3.1](http://www.nltk.org/book/ch03.html) of the NLTK book to have Python download the text of [The Mysterious Affair at Styles](http://www.gutenberg.org/files/863/863-0.txt) from Project Gutenberg. In Python 2.7, the <tt>urlopen</tt> function is located directly in the <tt>urllib</tt> package; not <tt>urllib.request</tt>. Be sure to call the decode <tt>(‘utf8’)</tt> (as in the example) after reading from the URL; this saves the data as a Unicode string (hence you may see a u before every string), which NLTK understands better than the raw data."
   ]
  },
  {
   "cell_type": "code",
   "execution_count": 3,
   "metadata": {
    "pycharm": {
     "is_executing": false
    }
   },
   "outputs": [],
   "source": [
    "import urllib\n",
    "url = \"http://www.gutenberg.org/files/863/863-0.txt\"\n",
    "response = urllib.urlopen(url)\n",
    "raw = response.read().decode('utf8')"
   ]
  },
  {
   "cell_type": "code",
   "execution_count": 4,
   "outputs": [
    {
     "name": "stdout",
     "text": [
      "349459\n",
      "<type 'unicode'>\n"
     ],
     "output_type": "stream"
    }
   ],
   "source": [
    "print(len(raw))\n",
    "print(type(raw))"
   ],
   "metadata": {
    "collapsed": false,
    "pycharm": {
     "name": "#%%\n",
     "is_executing": false
    }
   }
  },
  {
   "cell_type": "markdown",
   "metadata": {},
   "source": [
    "3.There’s some text before the book begins and after it ends that we don’t want to include in the analysis. Chapter [3.1](http://www.nltk.org/book/ch03.html) of the NLTK book suggests that you use the string’s <tt>find</tt> and/or <tt>rfind</tt> methods to look for phrases that mark the beginning and ending of the text. \n",
    "\n",
    "Find the index corresponding with the beginning of the last (not first, as suggested in the example) occurrence of the string “CHAPTER I. I GO TO STYLES”, and find the index corresponding with the end of the last occurrence of the string “THE END”. Use these indices to discard data before and after these markers. Print the beginning and end of the leftover string to confirm correctness.\n"
   ]
  },
  {
   "cell_type": "code",
   "execution_count": 27,
   "metadata": {
    "pycharm": {
     "is_executing": false
    }
   },
   "outputs": [
    {
     "name": "stdout",
     "text": [
      "<type 'int'>\n",
      "CHAPTER I.\n"
     ],
     "output_type": "stream"
    }
   ],
   "source": [
    "i0 = raw.rfind(\"CHAPTER I. I GO TO STYLES\")\n",
    "print type(i0)\n",
    "print raw[i0:i0+10]"
   ]
  },
  {
   "cell_type": "code",
   "execution_count": 6,
   "metadata": {
    "pycharm": {
     "is_executing": false
    }
   },
   "outputs": [
    {
     "name": "stdout",
     "text": [
      "THE END\n",
      "DNE EHT\n"
     ],
     "output_type": "stream"
    }
   ],
   "source": [
    "i1 = raw.rfind(\"THE END\")\n",
    "print raw[i1:i1+7]\n",
    "i1 = i1+6 # this is really the index we want\n",
    "print raw[i1:i1-7:-1]"
   ]
  },
  {
   "cell_type": "code",
   "execution_count": 7,
   "metadata": {
    "pycharm": {
     "is_executing": false
    }
   },
   "outputs": [],
   "source": [
    "text = raw[i0:i1+1]"
   ]
  },
  {
   "cell_type": "code",
   "execution_count": 8,
   "metadata": {
    "pycharm": {
     "is_executing": false
    }
   },
   "outputs": [
    {
     "name": "stdout",
     "text": [
      "CHAPTER I.\n",
      "\n",
      "\r\n",
      "THE END\n"
     ],
     "output_type": "stream"
    }
   ],
   "source": [
    "print text[0:10]\n",
    "print text[-10:]"
   ]
  },
  {
   "cell_type": "markdown",
   "metadata": {},
   "source": [
    "4.Use NLTK's <tt>FreqDist</tt> function to generate a dictionary of the words in the book and the frequency of each. Calculate the “lexical diversity” as defined in [1.4](http://www.nltk.org/book/ch01.html) of the NLTK book, except that you can use the <tt>FreqDist</tt> object you just made rather than a new set to count unique words."
   ]
  },
  {
   "cell_type": "code",
   "execution_count": 9,
   "metadata": {
    "pycharm": {
     "is_executing": false
    }
   },
   "outputs": [
    {
     "name": "stdout",
     "text": [
      "The ratio of unique tokens to total tokens is: 0.176615417316\n"
     ],
     "output_type": "stream"
    }
   ],
   "source": [
    "tokens = text.split()\n",
    "d = nltk.FreqDist(tokens)\n",
    "lexical_diversity = float(len(d))/len(tokens)   #among all the words in text, how many are unique\n",
    "print \"The ratio of unique tokens to total tokens is:\", lexical_diversity"
   ]
  },
  {
   "cell_type": "markdown",
   "metadata": {},
   "source": [
    "5.We noticed that the <tt>split()</tt> method left punctuation marks at the end of words, counting these as distinct from the word itself. Improve your frequency distribution dictionary by using NLTK’s <tt>word_tokenize</tt> function instead of <tt>split</tt> to separate the words into a list. Also, before you do that, get rid the original text of underscores (<tt>\"__\"</tt>), which are used here to indicate emphasis, as these shouldn’t make the enclosed word distinct. \n",
    "\n",
    "Calculate the lexical diversity from this FreqDist. "
   ]
  },
  {
   "cell_type": "code",
   "execution_count": 10,
   "metadata": {
    "pycharm": {
     "is_executing": false
    }
   },
   "outputs": [
    {
     "name": "stdout",
     "text": [
      "The ratio of unique tokens to total tokens is: 0.0919265366274\n"
     ],
     "output_type": "stream"
    }
   ],
   "source": [
    "text = text.replace(\"_\",\"\")\n",
    "tokens = nltk.word_tokenize(text)\n",
    "d = nltk.FreqDist(tokens)\n",
    "lexical_diversity = float(len(d))/len(tokens)\n",
    "print \"The ratio of unique tokens to total tokens is:\", lexical_diversity"
   ]
  },
  {
   "cell_type": "markdown",
   "metadata": {},
   "source": [
    "6.It doesn’t really make sense to count “Nature” separately from “nature”, or “Nature” separately from “Natural” or “Naturally” if we’re trying to get a sense of vocabulary. \n",
    "\n",
    "Improve your FreqDist by eliminating words that are distinct only in letter case. "
   ]
  },
  {
   "cell_type": "code",
   "execution_count": 11,
   "metadata": {
    "pycharm": {
     "is_executing": false
    }
   },
   "outputs": [
    {
     "name": "stdout",
     "text": [
      "The ratio of unique tokens to total tokens is: 0.0919265366274\n"
     ],
     "output_type": "stream"
    }
   ],
   "source": [
    "lower = text.lower()\n",
    "tokens2 = nltk.word_tokenize(lower)\n",
    "d2 = nltk.FreqDist(tokens)\n",
    "lexical_diversity = float(len(d2))/len(tokens)\n",
    "print \"The ratio of unique tokens to total tokens is:\", lexical_diversity"
   ]
  },
  {
   "cell_type": "markdown",
   "metadata": {},
   "source": [
    "7.Also eliminate those that differ only in affixes (as described in 3.6. You’re welcome to try either of the <tt>stemmers</tt> or the WordNet <tt>lemmatizer</tt> for this. The stemmer is probably more accurate, because the lemmatizer does not reduce all words to their lemma, but the downside is that the stemmers returns <tt>stems</tt> which may not be words at all)."
   ]
  },
  {
   "cell_type": "code",
   "execution_count": 28,
   "metadata": {
    "pycharm": {
     "is_executing": false
    }
   },
   "outputs": [
    {
     "name": "stdout",
     "text": [
      "<class 'nltk.stem.porter.PorterStemmer'>\n",
      "run\n",
      "run\n",
      "run\n",
      "ran\n"
     ],
     "output_type": "stream"
    }
   ],
   "source": [
    "p = nltk.PorterStemmer()\n",
    "print p.stem(\"running\")\n",
    "print p.stem(\"runs\")\n",
    "print p.stem(\"runned\") # The stemmer uses simple rules to try to extract the \"stem\".\n",
    "print p.stem(\"ran\")    # It's not perfect because English is so irregular."
   ]
  },
  {
   "cell_type": "code",
   "execution_count": 13,
   "metadata": {
    "pycharm": {
     "is_executing": false
    }
   },
   "outputs": [
    {
     "name": "stdout",
     "text": [
      "The ratio of unique word stems to total tokens is: 0.0677214397931\n"
     ],
     "output_type": "stream"
    }
   ],
   "source": [
    "stems = map(p.stem,tokens)\n",
    "d3 = nltk.FreqDist(stems)\n",
    "lexical_diversity = float(len(d3))/len(tokens)\n",
    "print \"The ratio of unique word stems to total tokens is:\", lexical_diversity"
   ]
  },
  {
   "cell_type": "markdown",
   "metadata": {},
   "source": [
    "8.Use the most_common method of the FreqDist from step 6 (not step 7, because that FreqDist might be made up of stems rather than words) to print out the most-used 30 words."
   ]
  },
  {
   "cell_type": "code",
   "execution_count": 14,
   "metadata": {
    "pycharm": {
     "is_executing": false
    }
   },
   "outputs": [
    {
     "data": {
      "text/plain": "[(u',', 4280),\n (u'.', 3216),\n (u'the', 2402),\n (u'\\u201c', 2228),\n (u'\\u201d', 2205),\n (u'I', 1746),\n (u'to', 1314),\n (u'of', 1236),\n (u'a', 1130),\n (u'\\u2019', 1020),\n (u'and', 979),\n (u'was', 916),\n (u'that', 883),\n (u'?', 837),\n (u'it', 814),\n (u'in', 752),\n (u'you', 735),\n (u'he', 526),\n (u'is', 520),\n (u'not', 499),\n (u'had', 489),\n (u's', 475),\n (u'her', 443),\n (u'!', 413),\n (u'Poirot', 409),\n (u'his', 392),\n (u'have', 371),\n (u'at', 367),\n (u'me', 362),\n (u'as', 344)]"
     },
     "metadata": {},
     "output_type": "execute_result",
     "execution_count": 14
    }
   ],
   "source": [
    "d2.most_common(30)"
   ]
  },
  {
   "cell_type": "markdown",
   "metadata": {},
   "source": [
    "9.Oops, even after all that, some of the common “words” are actually punctuation marks.  We could remove those from the dictionary, but let’s leave the dictionary alone and instead just show the top 30 words that begin with a letter.\n",
    "\n",
    "Turn the dictionary-like FreqDist object into a list of word/frequency (key/value) pairs, sort the list by the word frequency numerically (not by word alphabetically) in descending order, and print out the 30 most commonly used words that begin with a letter and their frequency."
   ]
  },
  {
   "cell_type": "code",
   "execution_count": 15,
   "metadata": {
    "pycharm": {
     "is_executing": false
    }
   },
   "outputs": [
    {
     "name": "stdout",
     "text": [
      "the : 2402\n",
      "I : 1746\n",
      "to : 1314\n",
      "of : 1236\n",
      "a : 1130\n",
      "and : 979\n",
      "was : 916\n",
      "that : 883\n",
      "it : 814\n",
      "in : 752\n",
      "you : 735\n",
      "he : 526\n",
      "is : 520\n",
      "not : 499\n",
      "had : 489\n",
      "s : 475\n",
      "her : 443\n",
      "Poirot : 409\n",
      "his : 392\n",
      "have : 371\n",
      "at : 367\n",
      "me : 362\n",
      "as : 344\n",
      "on : 334\n",
      "she : 333\n",
      "my : 328\n",
      "Inglethorp : 318\n",
      "with : 315\n",
      "for : 305\n",
      "be : 301\n"
     ],
     "output_type": "stream"
    }
   ],
   "source": [
    "l = [(d2[key],key) for key in d2 if key[0].isalpha()]\n",
    "l = sorted(l, reverse = True)\n",
    "for pair in l[:30]:\n",
    "    print pair[1], \":\", pair[0]"
   ]
  },
  {
   "cell_type": "markdown",
   "metadata": {},
   "source": [
    "10.Some words like “point” are used in several different senses of the word, and intuitively we should somehow factor this into the concept of lexical diversity. Turn the <tt>word_tokenized</tt> list from step 6 into an <tt>nltk.Text</tt> object (3.1) and use the concordance function (1.3) on “point” to see what I mean."
   ]
  },
  {
   "cell_type": "code",
   "execution_count": 16,
   "metadata": {
    "pycharm": {
     "is_executing": false
    }
   },
   "outputs": [],
   "source": [
    "text = nltk.Text(tokens2)"
   ]
  },
  {
   "cell_type": "code",
   "execution_count": 17,
   "metadata": {
    "pycharm": {
     "is_executing": false
    }
   },
   "outputs": [
    {
     "name": "stdout",
     "text": [
      "Displaying 20 of 20 matches:\n",
      "n , stared fixedly over my head at a point on the further wall . it was as thou\n",
      " natural faculties . “ and the sixth point ? ” i asked . “ i suppose it is the \n",
      "six , but i did not . no , the sixth point i will keep to myself for the presen\n",
      " of the tragedy . poirot came to the point at once , with a business-like brisk\n",
      "” he said . “ do your investigations point to my mother having died a natural d\n",
      "here , it would have been a valuable point in his favour . that is all. ” john \n",
      "nglish say ! you have chosen the one point that to my mind tells against him. ”\n",
      "he whole riddle ! ” “ and the second point ? ” i asked . “ the important fact t\n",
      "a judicious mixture of both . on one point , poirot seemed to have a curious ob\n",
      "ernoon . dorcas ’ s evidence on this point was substantially what poirot and i \n",
      " we need trouble you further on that point . we know all that can be known of t\n",
      "k ? the coroner went straight to the point . “ on monday evening last , did you\n",
      "however , passed briskly to the next point , and poirot drew a deep breath of r\n",
      "me to introduce the poison . at that point , poirot nudged me gently , indicati\n",
      "er understood his insistence on that point . “ yes , a good deal that was pecul\n",
      "ready ? ” “ yes , yes , that ’ s the point . i didn ’ t see it either until now\n",
      "u can imagine that , from my aunts ’ point of view , it was a very good match f\n",
      "e object of the defence to deny this point . mrs. cavendish , of course , could\n",
      "iew of the case . finally , he would point out to the jury that there was evide\n",
      " understand. ” “ look at it from his point of view . i have discovered that the\n"
     ],
     "output_type": "stream"
    }
   ],
   "source": [
    "text.concordance(\"point\")"
   ]
  },
  {
   "cell_type": "markdown",
   "metadata": {},
   "source": [
    "11.[WordNet](http://www.nltk.org/howto/wordnet.html) maintains a structure of “synsets”, which are like distinct concepts or meanings of words. It would be nice if we could determine the WordNet <tt>synset</tt> with which each occurrence of the word corresponds; that way we could consider the different WordNet <tt>synset</tt> in our lexical diversity calculation. The [Lesk algorithm](http://www.nltk.org/howto/wsd.html) attempts to do just that. "
   ]
  },
  {
   "cell_type": "markdown",
   "metadata": {},
   "source": [
    "(a) Print all the different WordNet <tt>synset</tt> definitions for the word “point”.\n"
   ]
  },
  {
   "cell_type": "code",
   "execution_count": 18,
   "metadata": {
    "collapsed": true,
    "pycharm": {
     "is_executing": false
    }
   },
   "outputs": [],
   "source": [
    "from nltk.corpus import wordnet as wn"
   ]
  },
  {
   "cell_type": "code",
   "execution_count": 19,
   "metadata": {
    "pycharm": {
     "is_executing": false
    }
   },
   "outputs": [
    {
     "name": "stdout",
     "text": [
      "Displaying 20 of 20 matches:\n",
      "n , stared fixedly over my head at a point on the further wall . it was as thou\n",
      " natural faculties . “ and the sixth point ? ” i asked . “ i suppose it is the \n",
      "six , but i did not . no , the sixth point i will keep to myself for the presen\n",
      " of the tragedy . poirot came to the point at once , with a business-like brisk\n",
      "” he said . “ do your investigations point to my mother having died a natural d\n",
      "here , it would have been a valuable point in his favour . that is all. ” john \n",
      "nglish say ! you have chosen the one point that to my mind tells against him. ”\n",
      "he whole riddle ! ” “ and the second point ? ” i asked . “ the important fact t\n",
      "a judicious mixture of both . on one point , poirot seemed to have a curious ob\n",
      "ernoon . dorcas ’ s evidence on this point was substantially what poirot and i \n",
      " we need trouble you further on that point . we know all that can be known of t\n",
      "k ? the coroner went straight to the point . “ on monday evening last , did you\n",
      "however , passed briskly to the next point , and poirot drew a deep breath of r\n",
      "me to introduce the poison . at that point , poirot nudged me gently , indicati\n",
      "er understood his insistence on that point . “ yes , a good deal that was pecul\n",
      "ready ? ” “ yes , yes , that ’ s the point . i didn ’ t see it either until now\n",
      "u can imagine that , from my aunts ’ point of view , it was a very good match f\n",
      "e object of the defence to deny this point . mrs. cavendish , of course , could\n",
      "iew of the case . finally , he would point out to the jury that there was evide\n",
      " understand. ” “ look at it from his point of view . i have discovered that the\n"
     ],
     "output_type": "stream"
    }
   ],
   "source": [
    "chosen_word = \"point\"\n",
    "text = nltk.Text(tokens2)\n",
    "text.concordance(chosen_word)"
   ]
  },
  {
   "cell_type": "code",
   "execution_count": 20,
   "metadata": {
    "pycharm": {
     "is_executing": false
    }
   },
   "outputs": [
    {
     "name": "stdout",
     "text": [
      "(Synset('point.n.01'), u'a geometric element that has position but no extension')\n",
      "(Synset('point.n.02'), u'the precise location of something; a spatially limited location')\n",
      "(Synset('point.n.03'), u'a brief version of the essential meaning of something')\n",
      "(Synset('detail.n.01'), u'an isolated fact that is considered separately from the whole')\n",
      "(Synset('degree.n.02'), u'a specific identifiable position in a continuum or series or especially in a process')\n",
      "(Synset('point.n.06'), u'an instant of time')\n",
      "(Synset('point.n.07'), u'the object of an activity')\n",
      "(Synset('point.n.08'), u'a V shape')\n",
      "(Synset('point.n.09'), u'a very small circular shape')\n",
      "(Synset('point.n.10'), u'the unit of counting in scoring a game or contest')\n",
      "(Synset('point.n.11'), u'a promontory extending out into a large body of water')\n",
      "(Synset('item.n.01'), u'a distinct part that can be specified separately in a group of things that could be enumerated on a list')\n",
      "(Synset('point.n.13'), u'a style in speech or writing that arrests attention and has a penetrating or convincing quality or effect')\n",
      "(Synset('point.n.14'), u'an outstanding characteristic')\n",
      "(Synset('point.n.15'), u'sharp end')\n",
      "(Synset('compass_point.n.01'), u'any of 32 horizontal directions indicated on the card of a compass')\n",
      "(Synset('point.n.17'), u'a linear unit used to measure the size of type; approximately 1/72 inch')\n",
      "(Synset('point.n.18'), u'one percent of the total principal of a loan; it is paid at the time the loan is made and is independent of the interest on the loan')\n",
      "(Synset('period.n.07'), u'a punctuation mark (.) placed at the end of a declarative sentence to indicate a full stop or after abbreviations')\n",
      "(Synset('point.n.20'), u'a V-shaped mark at one end of an arrow pointer')\n",
      "(Synset('decimal_point.n.01'), u'the dot at the left of a decimal fraction')\n",
      "(Synset('point.n.22'), u'the property of a shape that tapers to a sharp tip')\n",
      "(Synset('point.n.23'), u'a distinguishing or individuating characteristic')\n",
      "(Synset('point.n.24'), u\"the gun muzzle's direction\")\n",
      "(Synset('point.n.25'), u'a wall socket')\n",
      "(Synset('distributor_point.n.01'), u'a contact in the distributor; as the rotor turns its projecting arm contacts them and current flows to the spark plugs')\n",
      "(Synset('indicate.v.02'), u'indicate a place, direction, person, or thing; either spatially or figuratively')\n",
      "(Synset('orient.v.01'), u'be oriented')\n",
      "(Synset('charge.v.17'), u'direct into a position for use')\n",
      "(Synset('steer.v.01'), u'direct the course; determine the direction of travelling')\n",
      "(Synset('bespeak.v.01'), u'be a signal for or a symptom of')\n",
      "(Synset('luff.v.01'), u'sail close to the wind')\n",
      "(Synset('point.v.07'), u'mark (Hebrew words) with diacritics')\n",
      "(Synset('point.v.08'), u'mark with diacritics')\n",
      "(Synset('point.v.09'), u'mark (a psalm text) to indicate the points at which the music changes')\n",
      "(Synset('point.v.10'), u'be positionable in a specified manner')\n",
      "(Synset('target.v.01'), u'intend (something) to move towards a certain goal')\n",
      "(Synset('point.v.12'), u'indicate the presence of (game) by standing and pointing with the muzzle')\n",
      "(Synset('sharpen.v.07'), u'give a point to')\n",
      "(Synset('point.v.14'), u'repair the joints of bricks')\n"
     ],
     "output_type": "stream"
    }
   ],
   "source": [
    "x = wn.synsets(chosen_word)\n",
    "for i in x:\n",
    "    print(i, i.definition())"
   ]
  },
  {
   "cell_type": "markdown",
   "metadata": {},
   "source": [
    "(b) The Lesk algorithm needs the sentence the word appears in to determine the corresponding synset. \n",
    "\n",
    "Write a function that returns a list of all the sentences in the original text in which the word appears. \n",
    "\n",
    "Print all the sentences in which the word “point” appears. [Chapter 3.8](http://www.nltk.org/book/ch03.html) of the book will be useful."
   ]
  },
  {
   "cell_type": "code",
   "execution_count": 21,
   "metadata": {
    "pycharm": {
     "is_executing": false
    }
   },
   "outputs": [
    {
     "name": "stdout",
     "text": [
      "He\r\n",
      "was white as chalk, the candle he held in his shaking hand was\r\n",
      "sputtering onto the carpet, and his eyes, petrified with terror, or\r\n",
      "some such kindred emotion, stared fixedly over my head at a point on\r\n",
      "the further wall.\n",
      "“And the sixth point?” I asked.\n",
      "No, the sixth point I will keep to myself for the\r\n",
      "present.”\r\n",
      "\r\n",
      "He looked quickly round the room.\n",
      "Poirot came to the point at once, with a business-like briskness.\n",
      "“Do your investigations\r\n",
      "point to my mother having died a natural death—or—or must we prepare\r\n",
      "ourselves for the worst?”\r\n",
      "\r\n",
      "“I think, Mr. Cavendish,” said Poirot gravely, “that you would do well\r\n",
      "not to buoy yourself up with any false hopes.\n",
      "If anyone had chanced to look this morning before his\r\n",
      "return, and seen it there, it would have been a valuable point in his\r\n",
      "favour.\n",
      "You have chosen the one point that to\r\n",
      "my mind tells against him.”\r\n",
      "\r\n",
      "“How is that?”\r\n",
      "\r\n",
      "“Because if Mr. Inglethorp knew that his wife would be poisoned last\r\n",
      "night, he would certainly have arranged to be away from the house.\n",
      "It is the key to the whole riddle!”\r\n",
      "\r\n",
      "“And the second point?” I asked.\n",
      "On one point, Poirot seemed to have a curious obsession.\n",
      "Dorcas’s evidence on this point was substantially what Poirot and I had\r\n",
      "already heard, so I will not repeat it here.\n",
      "“I really do not think we need trouble you further on that point.\n",
      "The Coroner went straight to the point.\n",
      "The Coroner, however, passed briskly\r\n",
      "to the next point, and Poirot drew a deep breath of relief.\n",
      "At that point, Poirot nudged me gently, indicating two men who were\r\n",
      "sitting together near the door.\n",
      "I had never understood his insistence on\r\n",
      "that point.\n",
      "“But, look here, Bauerstein had had it analysed already?”\r\n",
      "\r\n",
      "“Yes, yes, that’s the point.\n",
      "The narrowness, the deadly monotony of it, almost drove me mad.”\r\n",
      "She paused a minute, and added in a different tone: “And then I met\r\n",
      "John Cavendish.”\r\n",
      "\r\n",
      "“Yes?”\r\n",
      "\r\n",
      "“You can imagine that, from my aunts’ point of view, it was a very good\r\n",
      "match for me.\n",
      "He knew only too well how useless her\r\n",
      "gallant defiance was, since it was not the object of the defence to\r\n",
      "deny this point.\n",
      "Finally, he would point out to the jury that there was evidence against\r\n",
      "other people besides John Cavendish.\n",
      "That letter excepted, there was absolutely\r\n",
      "nothing to connect him with the crime.”\r\n",
      "\r\n",
      "“There’s only one thing I can’t make out, why didn’t he destroy it at\r\n",
      "once when he got hold of it?”\r\n",
      "\r\n",
      "“Because he did not dare take the biggest risk of all—that of keeping\r\n",
      "it on his own person.”\r\n",
      "\r\n",
      "“I don’t understand.”\r\n",
      "\r\n",
      "“Look at it from his point of view.\n",
      "20\n"
     ],
     "output_type": "stream"
    }
   ],
   "source": [
    "def get_sentences(word,text):\n",
    "    sentences = nltk.sent_tokenize(text)\n",
    "    return [s for s in sentences if word in nltk.word_tokenize(s)]\n",
    "\n",
    "text = raw[i0:i1+1]\n",
    "sentences = get_sentences(chosen_word,text)\n",
    "for sentence in sentences:\n",
    "    print sentence\n",
    "\n",
    "print len(sentences)"
   ]
  },
  {
   "cell_type": "markdown",
   "metadata": {},
   "source": [
    "(c) Use the <tt>lesk</tt> function to determine the synset definition and part of speech of “point” in each sentence. (It does very poorly.)\n",
    "\n",
    "Write a function that attempts to disambiguate the sense of the word in \n",
    "a sentence using the Lesk algorithm, then return the definition of that\n",
    "sense of the word."
   ]
  },
  {
   "cell_type": "code",
   "execution_count": 22,
   "metadata": {
    "pycharm": {
     "is_executing": false
    }
   },
   "outputs": [],
   "source": [
    "from nltk.wsd import lesk"
   ]
  },
  {
   "cell_type": "code",
   "execution_count": 23,
   "metadata": {
    "collapsed": true,
    "pycharm": {
     "is_executing": false
    }
   },
   "outputs": [],
   "source": [
    "def my_lesk(word,sentence):\n",
    "    syn = lesk(nltk.word_tokenize(sentence),word)\n",
    "    return syn.definition(),syn.pos()"
   ]
  },
  {
   "cell_type": "code",
   "execution_count": 24,
   "metadata": {
    "pycharm": {
     "is_executing": false
    }
   },
   "outputs": [
    {
     "name": "stdout",
     "text": [
      "He\r\n",
      "was white as chalk, the candle he held in his shaking hand was\r\n",
      "sputtering onto the carpet, and his eyes, petrified with terror, or\r\n",
      "some such kindred emotion, stared fixedly over my head at a point on\r\n",
      "the further wall.\n",
      "The definition of point, as used in this sentence, is:\n",
      "one percent of the total principal of a loan; it is paid at the time the loan is made and is independent of the interest on the loan\n",
      "\n",
      "\n",
      "“And the sixth point?” I asked.\n",
      "The definition of point, as used in this sentence, is:\n",
      "direct the course; determine the direction of travelling\n",
      "\n",
      "\n",
      "No, the sixth point I will keep to myself for the\r\n",
      "present.”\r\n",
      "\r\n",
      "He looked quickly round the room.\n",
      "The definition of point, as used in this sentence, is:\n",
      "give a point to\n",
      "\n",
      "\n",
      "Poirot came to the point at once, with a business-like briskness.\n",
      "The definition of point, as used in this sentence, is:\n",
      "a punctuation mark (.) placed at the end of a declarative sentence to indicate a full stop or after abbreviations\n",
      "\n",
      "\n",
      "“Do your investigations\r\n",
      "point to my mother having died a natural death—or—or must we prepare\r\n",
      "ourselves for the worst?”\r\n",
      "\r\n",
      "“I think, Mr. Cavendish,” said Poirot gravely, “that you would do well\r\n",
      "not to buoy yourself up with any false hopes.\n",
      "The definition of point, as used in this sentence, is:\n",
      "the property of a shape that tapers to a sharp tip\n",
      "\n",
      "\n",
      "If anyone had chanced to look this morning before his\r\n",
      "return, and seen it there, it would have been a valuable point in his\r\n",
      "favour.\n",
      "The definition of point, as used in this sentence, is:\n",
      "a contact in the distributor; as the rotor turns its projecting arm contacts them and current flows to the spark plugs\n",
      "\n",
      "\n",
      "You have chosen the one point that to\r\n",
      "my mind tells against him.”\r\n",
      "\r\n",
      "“How is that?”\r\n",
      "\r\n",
      "“Because if Mr. Inglethorp knew that his wife would be poisoned last\r\n",
      "night, he would certainly have arranged to be away from the house.\n",
      "The definition of point, as used in this sentence, is:\n",
      "an isolated fact that is considered separately from the whole\n",
      "\n",
      "\n",
      "It is the key to the whole riddle!”\r\n",
      "\r\n",
      "“And the second point?” I asked.\n",
      "The definition of point, as used in this sentence, is:\n",
      "an isolated fact that is considered separately from the whole\n",
      "\n",
      "\n",
      "On one point, Poirot seemed to have a curious obsession.\n",
      "The definition of point, as used in this sentence, is:\n",
      "give a point to\n",
      "\n",
      "\n",
      "Dorcas’s evidence on this point was substantially what Poirot and I had\r\n",
      "already heard, so I will not repeat it here.\n",
      "The definition of point, as used in this sentence, is:\n",
      "one percent of the total principal of a loan; it is paid at the time the loan is made and is independent of the interest on the loan\n",
      "\n",
      "\n",
      "“I really do not think we need trouble you further on that point.\n",
      "The definition of point, as used in this sentence, is:\n",
      "a distinct part that can be specified separately in a group of things that could be enumerated on a list\n",
      "\n",
      "\n",
      "The Coroner went straight to the point.\n",
      "The definition of point, as used in this sentence, is:\n",
      "give a point to\n",
      "\n",
      "\n",
      "The Coroner, however, passed briskly\r\n",
      "to the next point, and Poirot drew a deep breath of relief.\n",
      "The definition of point, as used in this sentence, is:\n",
      "the property of a shape that tapers to a sharp tip\n",
      "\n",
      "\n",
      "At that point, Poirot nudged me gently, indicating two men who were\r\n",
      "sitting together near the door.\n",
      "The definition of point, as used in this sentence, is:\n",
      "the property of a shape that tapers to a sharp tip\n",
      "\n",
      "\n",
      "I had never understood his insistence on\r\n",
      "that point.\n",
      "The definition of point, as used in this sentence, is:\n",
      "a distinct part that can be specified separately in a group of things that could be enumerated on a list\n",
      "\n",
      "\n",
      "“But, look here, Bauerstein had had it analysed already?”\r\n",
      "\r\n",
      "“Yes, yes, that’s the point.\n",
      "The definition of point, as used in this sentence, is:\n",
      "the property of a shape that tapers to a sharp tip\n",
      "\n",
      "\n",
      "The narrowness, the deadly monotony of it, almost drove me mad.”\r\n",
      "She paused a minute, and added in a different tone: “And then I met\r\n",
      "John Cavendish.”\r\n",
      "\r\n",
      "“Yes?”\r\n",
      "\r\n",
      "“You can imagine that, from my aunts’ point of view, it was a very good\r\n",
      "match for me.\n",
      "The definition of point, as used in this sentence, is:\n",
      "one percent of the total principal of a loan; it is paid at the time the loan is made and is independent of the interest on the loan\n",
      "\n",
      "\n",
      "He knew only too well how useless her\r\n",
      "gallant defiance was, since it was not the object of the defence to\r\n",
      "deny this point.\n",
      "The definition of point, as used in this sentence, is:\n",
      "the property of a shape that tapers to a sharp tip\n",
      "\n",
      "\n",
      "Finally, he would point out to the jury that there was evidence against\r\n",
      "other people besides John Cavendish.\n",
      "The definition of point, as used in this sentence, is:\n",
      "the property of a shape that tapers to a sharp tip\n",
      "\n",
      "\n",
      "That letter excepted, there was absolutely\r\n",
      "nothing to connect him with the crime.”\r\n",
      "\r\n",
      "“There’s only one thing I can’t make out, why didn’t he destroy it at\r\n",
      "once when he got hold of it?”\r\n",
      "\r\n",
      "“Because he did not dare take the biggest risk of all—that of keeping\r\n",
      "it on his own person.”\r\n",
      "\r\n",
      "“I don’t understand.”\r\n",
      "\r\n",
      "“Look at it from his point of view.\n",
      "The definition of point, as used in this sentence, is:\n",
      "one percent of the total principal of a loan; it is paid at the time the loan is made and is independent of the interest on the loan\n",
      "\n",
      "\n"
     ],
     "output_type": "stream"
    }
   ],
   "source": [
    "for sentence in sentences:\n",
    "    print sentence\n",
    "    definition,pos = my_lesk(chosen_word,sentence)\n",
    "    print \"The definition of point, as used in this sentence, is:\"\n",
    "    print definition\n",
    "    print \"\\n\""
   ]
  },
  {
   "cell_type": "markdown",
   "metadata": {},
   "source": [
    "(d) Maybe if we tag the parts of speech first using the <tt>pos_tag</tt> function [(Chapter 5)](http://www.nltk.org/book/ch05.html) and provide that information as the (optional) second argument to the <tt>lesk</tt> function, it will do a better job?\n",
    "\n",
    "Note that <tt>pos_tag</tt> doesn’t provide the part of speech for just a single word, and you’ll have to convert between the output provided by the part of speech tagger and a single letter representing the part of speech required by <tt>lesk</tt>. This doesn’t have to work for all possible parts of speech, just the parts of speech of “point” in the text.\n",
    "This still does poorly, but it was a good idea. It seems like the <tt>Lesk</tt> algorithm just tries to match up words from the context sentence with words from the synset definition, which is probably too short for this approach to work well. There’s certainly a lot of work left to be done in the field of natural language processing!"
   ]
  },
  {
   "cell_type": "code",
   "execution_count": 25,
   "metadata": {
    "collapsed": true,
    "pycharm": {
     "is_executing": false
    }
   },
   "outputs": [],
   "source": [
    "def my_lesk2(word,sentence):\n",
    "    sen_tokens = nltk.word_tokenize(sentence)\n",
    "    sen_tagged = nltk.pos_tag(sen_tokens)\n",
    "    ind = sen_tokens.index(word)\n",
    "    pos = sen_tagged[ind][1]\n",
    "    syn = lesk(sen_tokens,word,pos= pos[0].lower())\n",
    "    return syn.definition(),pos"
   ]
  },
  {
   "cell_type": "code",
   "execution_count": 26,
   "metadata": {
    "pycharm": {
     "is_executing": false
    }
   },
   "outputs": [
    {
     "name": "stdout",
     "text": [
      "Word is: point\n",
      "As in: He\r\n",
      "was white as chalk, the candle he held in his shaking hand was\r\n",
      "sputtering onto the carpet, and his eyes, petrified with terror, or\r\n",
      "some such kindred emotion, stared fixedly over my head at a point on\r\n",
      "the further wall.\n",
      "Without POS: one percent of the total principal of a loan; it is paid at the time the loan is made and is independent of the interest on the loan\n",
      "Assumed POS: n\n",
      "With POS: one percent of the total principal of a loan; it is paid at the time the loan is made and is independent of the interest on the loan\n",
      "POS: NN\n",
      "\n",
      "Word is: point\n",
      "As in: “And the sixth point?” I asked.\n",
      "Without POS: direct the course; determine the direction of travelling\n",
      "Assumed POS: v\n",
      "With POS: the gun muzzle's direction\n",
      "POS: NN\n",
      "\n",
      "Word is: point\n",
      "As in: No, the sixth point I will keep to myself for the\r\n",
      "present.”\r\n",
      "\r\n",
      "He looked quickly round the room.\n",
      "Without POS: give a point to\n",
      "Assumed POS: v\n",
      "With POS: the property of a shape that tapers to a sharp tip\n",
      "POS: NN\n",
      "\n",
      "Word is: point\n",
      "As in: Poirot came to the point at once, with a business-like briskness.\n",
      "Without POS: a punctuation mark (.) placed at the end of a declarative sentence to indicate a full stop or after abbreviations\n",
      "Assumed POS: n\n",
      "With POS: a punctuation mark (.) placed at the end of a declarative sentence to indicate a full stop or after abbreviations\n",
      "POS: NN\n",
      "\n",
      "Word is: point\n",
      "As in: “Do your investigations\r\n",
      "point to my mother having died a natural death—or—or must we prepare\r\n",
      "ourselves for the worst?”\r\n",
      "\r\n",
      "“I think, Mr. Cavendish,” said Poirot gravely, “that you would do well\r\n",
      "not to buoy yourself up with any false hopes.\n",
      "Without POS: the property of a shape that tapers to a sharp tip\n",
      "Assumed POS: n\n",
      "With POS: the property of a shape that tapers to a sharp tip\n",
      "POS: NN\n",
      "\n",
      "Word is: point\n",
      "As in: If anyone had chanced to look this morning before his\r\n",
      "return, and seen it there, it would have been a valuable point in his\r\n",
      "favour.\n",
      "Without POS: a contact in the distributor; as the rotor turns its projecting arm contacts them and current flows to the spark plugs\n",
      "Assumed POS: n\n",
      "With POS: a contact in the distributor; as the rotor turns its projecting arm contacts them and current flows to the spark plugs\n",
      "POS: NN\n",
      "\n",
      "Word is: point\n",
      "As in: You have chosen the one point that to\r\n",
      "my mind tells against him.”\r\n",
      "\r\n",
      "“How is that?”\r\n",
      "\r\n",
      "“Because if Mr. Inglethorp knew that his wife would be poisoned last\r\n",
      "night, he would certainly have arranged to be away from the house.\n",
      "Without POS: an isolated fact that is considered separately from the whole\n",
      "Assumed POS: n\n",
      "With POS: an isolated fact that is considered separately from the whole\n",
      "POS: NN\n",
      "\n",
      "Word is: point\n",
      "As in: It is the key to the whole riddle!”\r\n",
      "\r\n",
      "“And the second point?” I asked.\n",
      "Without POS: an isolated fact that is considered separately from the whole\n",
      "Assumed POS: n\n",
      "With POS: an isolated fact that is considered separately from the whole\n",
      "POS: NN\n",
      "\n",
      "Word is: point\n",
      "As in: On one point, Poirot seemed to have a curious obsession.\n",
      "Without POS: give a point to\n",
      "Assumed POS: v\n",
      "With POS: the property of a shape that tapers to a sharp tip\n",
      "POS: NN\n",
      "\n",
      "Word is: point\n",
      "As in: Dorcas’s evidence on this point was substantially what Poirot and I had\r\n",
      "already heard, so I will not repeat it here.\n",
      "Without POS: one percent of the total principal of a loan; it is paid at the time the loan is made and is independent of the interest on the loan\n",
      "Assumed POS: n\n",
      "With POS: one percent of the total principal of a loan; it is paid at the time the loan is made and is independent of the interest on the loan\n",
      "POS: NN\n",
      "\n",
      "Word is: point\n",
      "As in: “I really do not think we need trouble you further on that point.\n",
      "Without POS: a distinct part that can be specified separately in a group of things that could be enumerated on a list\n",
      "Assumed POS: n\n",
      "With POS: a distinct part that can be specified separately in a group of things that could be enumerated on a list\n",
      "POS: NN\n",
      "\n",
      "Word is: point\n",
      "As in: The Coroner went straight to the point.\n",
      "Without POS: give a point to\n",
      "Assumed POS: v\n",
      "With POS: the property of a shape that tapers to a sharp tip\n",
      "POS: NN\n",
      "\n",
      "Word is: point\n",
      "As in: The Coroner, however, passed briskly\r\n",
      "to the next point, and Poirot drew a deep breath of relief.\n",
      "Without POS: the property of a shape that tapers to a sharp tip\n",
      "Assumed POS: n\n",
      "With POS: the property of a shape that tapers to a sharp tip\n",
      "POS: NN\n",
      "\n",
      "Word is: point\n",
      "As in: At that point, Poirot nudged me gently, indicating two men who were\r\n",
      "sitting together near the door.\n",
      "Without POS: the property of a shape that tapers to a sharp tip\n",
      "Assumed POS: n\n",
      "With POS: the property of a shape that tapers to a sharp tip\n",
      "POS: NN\n",
      "\n",
      "Word is: point\n",
      "As in: I had never understood his insistence on\r\n",
      "that point.\n",
      "Without POS: a distinct part that can be specified separately in a group of things that could be enumerated on a list\n",
      "Assumed POS: n\n",
      "With POS: a distinct part that can be specified separately in a group of things that could be enumerated on a list\n",
      "POS: NN\n",
      "\n",
      "Word is: point\n",
      "As in: “But, look here, Bauerstein had had it analysed already?”\r\n",
      "\r\n",
      "“Yes, yes, that’s the point.\n",
      "Without POS: the property of a shape that tapers to a sharp tip\n",
      "Assumed POS: n\n",
      "With POS: the property of a shape that tapers to a sharp tip\n",
      "POS: NN\n",
      "\n",
      "Word is: point\n",
      "As in: The narrowness, the deadly monotony of it, almost drove me mad.”\r\n",
      "She paused a minute, and added in a different tone: “And then I met\r\n",
      "John Cavendish.”\r\n",
      "\r\n",
      "“Yes?”\r\n",
      "\r\n",
      "“You can imagine that, from my aunts’ point of view, it was a very good\r\n",
      "match for me.\n",
      "Without POS: one percent of the total principal of a loan; it is paid at the time the loan is made and is independent of the interest on the loan\n",
      "Assumed POS: n\n",
      "With POS: one percent of the total principal of a loan; it is paid at the time the loan is made and is independent of the interest on the loan\n",
      "POS: NN\n",
      "\n",
      "Word is: point\n",
      "As in: He knew only too well how useless her\r\n",
      "gallant defiance was, since it was not the object of the defence to\r\n",
      "deny this point.\n",
      "Without POS: the property of a shape that tapers to a sharp tip\n",
      "Assumed POS: n\n",
      "With POS: the property of a shape that tapers to a sharp tip\n",
      "POS: NN\n",
      "\n",
      "Word is: point\n",
      "As in: Finally, he would point out to the jury that there was evidence against\r\n",
      "other people besides John Cavendish.\n",
      "Without POS: the property of a shape that tapers to a sharp tip\n",
      "Assumed POS: n\n",
      "With POS: give a point to\n",
      "POS: VB\n",
      "\n",
      "Word is: point\n",
      "As in: That letter excepted, there was absolutely\r\n",
      "nothing to connect him with the crime.”\r\n",
      "\r\n",
      "“There’s only one thing I can’t make out, why didn’t he destroy it at\r\n",
      "once when he got hold of it?”\r\n",
      "\r\n",
      "“Because he did not dare take the biggest risk of all—that of keeping\r\n",
      "it on his own person.”\r\n",
      "\r\n",
      "“I don’t understand.”\r\n",
      "\r\n",
      "“Look at it from his point of view.\n",
      "Without POS: one percent of the total principal of a loan; it is paid at the time the loan is made and is independent of the interest on the loan\n",
      "Assumed POS: n\n",
      "With POS: one percent of the total principal of a loan; it is paid at the time the loan is made and is independent of the interest on the loan\n",
      "POS: NN\n",
      "\n"
     ],
     "output_type": "stream"
    }
   ],
   "source": [
    "for sentence in get_sentences(chosen_word, raw):\n",
    "    print \"Word is:\",chosen_word    \n",
    "    print \"As in:\", sentence\n",
    "    meaning, pos =  my_lesk(chosen_word,sentence)\n",
    "    print \"Without POS:\", meaning\n",
    "    print \"Assumed POS:\", pos\n",
    "    meaning, pos =  my_lesk2(chosen_word,sentence)\n",
    "    print \"With POS:\",meaning\n",
    "    print \"POS:\",pos\n",
    "    print \"\""
   ]
  }
 ],
 "metadata": {
  "anaconda-cloud": {},
  "kernelspec": {
   "display_name": "Python 2",
   "language": "python",
   "name": "python2"
  },
  "language_info": {
   "codemirror_mode": {
    "name": "ipython",
    "version": 2
   },
   "file_extension": ".py",
   "mimetype": "text/x-python",
   "name": "python",
   "nbconvert_exporter": "python",
   "pygments_lexer": "ipython2",
   "version": "2.7.14"
  },
  "pycharm": {
   "stem_cell": {
    "cell_type": "raw",
    "source": [],
    "metadata": {
     "collapsed": false
    }
   }
  }
 },
 "nbformat": 4,
 "nbformat_minor": 1
}